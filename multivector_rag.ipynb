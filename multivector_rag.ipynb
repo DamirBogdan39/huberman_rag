{
 "cells": [
  {
   "cell_type": "code",
   "execution_count": 1,
   "metadata": {},
   "outputs": [
    {
     "name": "stderr",
     "output_type": "stream",
     "text": [
      "/home/damir/.cache/pypoetry/virtualenvs/huberman-rag-fdQcU6Ve-py3.11/lib/python3.11/site-packages/tqdm/auto.py:21: TqdmWarning: IProgress not found. Please update jupyter and ipywidgets. See https://ipywidgets.readthedocs.io/en/stable/user_install.html\n",
      "  from .autonotebook import tqdm as notebook_tqdm\n"
     ]
    }
   ],
   "source": [
    "from src.retrievers import MilvusMultiVectorRetriever\n",
    "\n",
    "from langchain_core.runnables import RunnablePassthrough\n",
    "from operator import itemgetter\n",
    "from langchain_core.output_parsers import StrOutputParser\n",
    "from langchain_core.prompts import ChatPromptTemplate\n",
    "from langchain_openai import ChatOpenAI\n",
    "\n",
    "from pymilvus import connections\n",
    "import os\n",
    "from dotenv import load_dotenv\n"
   ]
  },
  {
   "cell_type": "code",
   "execution_count": 2,
   "metadata": {},
   "outputs": [],
   "source": [
    "host = \"127.0.0.1\"  # Milvus server host\n",
    "port = \"19530\"  # Milvus server port\n",
    "\n",
    "# Connect to Milvus server\n",
    "connections.connect(host=host, port=port)\n",
    "\n",
    "\n",
    "load_dotenv()\n",
    "OPENAI_API_KEY = os.getenv(\"OPENAI_API_KEY\")"
   ]
  },
  {
   "cell_type": "code",
   "execution_count": 4,
   "metadata": {},
   "outputs": [],
   "source": [
    "# Template\n",
    "RAG_TEMPLATE = \"\"\"\\\n",
    "You are a Huberman Lab podcast listener. \n",
    "You will be provided a CONTEXT of the podcasts and a QUESTION.\n",
    "Based on the CONTEXT answer the QUESTION.\n",
    "If you do not have the answer in the CONTEXT write \"I don't know\".\n",
    "Do not make things up. Do not fabricate facts. \n",
    "\n",
    "Context:\n",
    "{context}\n",
    "\n",
    "Query:\n",
    "{question}\n",
    "\"\"\"\n",
    "\n",
    "rag_prompt = ChatPromptTemplate.from_template(RAG_TEMPLATE)\n",
    "\n",
    "# Setup a chat model\n",
    "chat_model = ChatOpenAI()\n",
    "# Setup a retriever\n",
    "retriever = MilvusMultiVectorRetriever()\n",
    "\n",
    "# Setup a chain\n",
    "multivector_chain = (\n",
    "    # INVOKE CHAIN WITH: {\"question\" : \"<<SOME USER QUESTION>>\"}\n",
    "    # \"question\" : populated by getting the value of the \"question\" key\n",
    "    # \"context\"  : populated by getting the value of the \"question\" key and chaining it into the base_retriever\n",
    "    {\"context\": itemgetter(\"question\") | retriever, \"question\": itemgetter(\"question\")}\n",
    "    # \"context\"  : is assigned to a RunnablePassthrough object (will not be called or considered in the next step)\n",
    "    #              by getting the value of the \"context\" key from the previous step\n",
    "    | RunnablePassthrough.assign(context=itemgetter(\"context\"))\n",
    "    # \"response\" : the \"context\" and \"question\" values are used to format our prompt object and then piped\n",
    "    #              into the LLM and stored in a key called \"response\"\n",
    "    # \"context\"  : populated by getting the value of the \"context\" key from the previous step\n",
    "    | {\"response\": rag_prompt | chat_model, \"context\": itemgetter(\"context\")}\n",
    ")"
   ]
  },
  {
   "cell_type": "code",
   "execution_count": 13,
   "metadata": {},
   "outputs": [
    {
     "data": {
      "text/plain": [
       "'Based on the context provided, in order to improve flexibility, it is recommended to aim for at least five minutes per week of static stretching per muscle group, divided into sets of 30 seconds each. This can be achieved by doing two to four sets of 30-second static hold stretches five days a week. Holding stretches for more than 30 seconds did not show additional benefits.'"
      ]
     },
     "execution_count": 13,
     "metadata": {},
     "output_type": "execute_result"
    }
   ],
   "source": [
    "multivector_chain.invoke({\"question\" : \"How much to stretch to improve flexibility?\"})[\"response\"].content"
   ]
  },
  {
   "cell_type": "code",
   "execution_count": 14,
   "metadata": {},
   "outputs": [
    {
     "data": {
      "text/plain": [
       "'Caffeine reinforces by increasing the probability that you will return to and engage in a certain activity or consume a certain beverage or food. It also increases dopamine and acetylcholine, which are both neuromodulators in the forebrain, helping to improve our ability to think and modify our strategies for different social, mental, and physical demands. Additionally, caffeine acts as an antagonist to adenosine, offsetting sleepiness.'"
      ]
     },
     "execution_count": 14,
     "metadata": {},
     "output_type": "execute_result"
    }
   ],
   "source": [
    "multivector_chain.invoke({\"question\" : \"How does caffeine reinforce?\"})[\"response\"].content"
   ]
  },
  {
   "cell_type": "code",
   "execution_count": 15,
   "metadata": {},
   "outputs": [
    {
     "data": {
      "text/plain": [
       "\"I don't know.\""
      ]
     },
     "execution_count": 15,
     "metadata": {},
     "output_type": "execute_result"
    }
   ],
   "source": [
    "multivector_chain.invoke({\"question\" : \"Which compounds does coffee have?\"})[\"response\"].content"
   ]
  },
  {
   "cell_type": "code",
   "execution_count": 16,
   "metadata": {},
   "outputs": [
    {
     "data": {
      "text/plain": [
       "{'response': AIMessage(content=\"I don't know.\", response_metadata={'token_usage': {'completion_tokens': 5, 'prompt_tokens': 3756, 'total_tokens': 3761}, 'model_name': 'gpt-3.5-turbo', 'system_fingerprint': 'fp_b28b39ffa8', 'finish_reason': 'stop', 'logprobs': None}, id='run-53e8d330-e732-48be-86d5-8aeaaf934d9f-0'),\n",
       " 'context': [[Document(page_content=\"But there's an additional one that I find particularly interesting because it addresses and indeed answers one of the most common questions that I receive all the time, which is how can I get more motivated? Not how I, Andrew can get more motivated, although of course I asked myself that question from time to time.\\nAlthough admittedly, most of the time I'm wondering how I'm just going to get everything that I need to get done, done.\\nBut I often get the question, how can I feel more motivated? Or what can I do to sustain my motivation over time? And we hear a lot of different strategies about how to do that.\\nWe hear about the quote unquote, just do it strategy, the incredible slogan that Nike created and that persists to this day has become commonplace in culture.\\nAnd indeed the just do it form of advice can be a good one, but for a lot of people, just hearing just do it or telling themselves just do it is not something that can evoke action in them.\\nOther people will listen to motivational speeches, they'll look at motivational videos, they'll read motivational books, they may even hire coaches.\\nIn other words, people invest a ton of time, energy and money into trying to be more motivated.\\nAnd indeed a number of episodes of the Huberman Lab podcast have focused on the relationship between say motivation drive and the neuromodulator dopamine.\\nWe have several episodes about that as well as a toolkit, all of which are available at zero cost at hubermanlab.com.\\nYou can access those easily by putting motivation into the search function at hubermanlab.com.\\nAll of that will come up timestamped, et cetera.\\nBut perhaps surprisingly today's conversation about music offers us a particularly potent tool to increase motivation.\\nAnd that's because one of the fundamental properties of listening to music is that it evokes activation of these pre-motor and motor circuits within our brain and body.\"),\n",
       "   Document(page_content=\"And I'm sort of joking when I say not 10, not eight, but nine because of course you could listen to music for 10 minutes or 15 minutes or longer.\\nIn fact, earlier we talked about the benefits of doing that.\\nBut when one examines the various studies that looked at how long subjects need to listen to music in order to shift their mood into a happier state, the threshold seems to be nine minutes.\\nSo if you want to feel happier than you currently feel, it seems that listening to happy music for nine minutes or more is going to be the effective approach.\\nOkay, so nine minutes or more to shift one state to happier.\\nWhat about to process somber or sad feelings, feelings of loss? Well, this raises an even bigger question and it's a question that I also get very often.\\nAs you're noticing, I get a lot of questions often.\\nIn any event, one of the common questions that I get is when we are feeling sad or experiencing a loss, grieving the loss of a relationship by death or decision or by somebody moving away or the loss of a pet, et cetera, is it better to go into that state? In other words, to quote unquote, feel one's feelings or to counter those feelings.\\nNow, historically that's been a very difficult question for me to answer because who am I to say whether or not you should feel your feelings or whether or not feeling those feelings will take you down a trench of feeling much worse or much better.\\nIn fact, there's an emerging literature exactly about that issue.\\nThat is whether or not the catharsis model is really best catharsis being the expression and feeling of one's emotions as a way to extrude or get rid of those emotions or whether or not that simply drives us further down the trench of those emotions.\\nThat's really something that we should address in a separate podcast episode.\\nAnd I will have experts from the fields of psychiatry and psychology to help us address that question directly.\"),\n",
       "   Document(page_content=\"Put it simply, people spend an enormous amount of money and time and energy watching other people engage in, for instance, aggressive sports.\\nAnd we know that observing your team winning over another team causes the release of neurochemicals in your brain and body that make you feel good, and yes, that can make you feel more aggressive.\\nWe also know, of course, that most governments invest many billions, if not trillions of dollars, in infrastructure technologies and human beings in order to engage in aggression if needed, so-called military warfare, et cetera.\\nSo today's discussion will include a description of aggression in the pathological sense.\\nWe'll actually talk about an explosive aggressive disorder that most of you probably haven't heard of, but is actually far more common than perhaps you know.\\nWe'll talk about the role of things like attention deficit hyperactivity disorder and how that can relate to aggression through the relationship between impulsivity and aggression.\\nAnd we'll talk about verbal aggression, physical aggression, proactive aggression, as mentioned before, and reactive aggression.\\nI'm certain that by the end of the episode, you will come away with a much more thorough understanding of what this thing that we call aggression really is.\\nAnd when you see it in other people, I think it will make more sense to you.\\nAnd when you observe it in yourself or the impulse to engage in aggression, verbal or physical or otherwise, I hope that you'll understand it better as well.\\nAnd of course, the tools that I will describe should allow you to modulate and control aggressive tendencies or predispositions to aggressiveness and just generally to be able to engage with people in a more adaptive way overall.\\nBefore we begin, I'd like to emphasize that this podcast is separate from my teaching and research roles at Stanford.\"),\n",
       "   Document(page_content=\"But nonetheless, it should be very straightforward now to see why if you're listening to words that you're reading on a page, maybe even mumbling them a little bit, moving your lips a little bit while you read, which, by the way, if you heard our episode on language and auditory processing with Dr. Eddie Chang, who's chair of neurosurgery at UCSF, he talked about the fact that when we read any material, that the brain is generating pre-motor activity, you now know what pre-motor activity is, pre-motor activity down to the muscles of the throat, larynx and pharynx, which would speak those words were those signals to get above a certain level, but that when we read, typically, the signals that are getting sent through those pre-motor circuits are just below the threshold of what would have us actually speak those words.\\nPut simply, when we read, we are just shy of saying what we are reading.\\nAnd so when I say that when I read, I'm listening to the words in my head, that's what I'm referring to.\\nSo we're starting to funnel in on some general principles of music and how it impacts the brain and how that can be leveraged toward better learning and better motivation, both in the context of physical and cognitive endeavors.\\nOkay, so if you want to get motivated, listening to music prior to doing something that you're trying to motivate to do is a good idea.\\nThat's what the data say.\\nIf you're trying to learn something that's cognitive, that requires reading, focus, and concentration, silence, 40 Hertz, binaural beats, white noise or brown noise is probably best.\\nAnd if you are going to listen to music, listening to music that includes instrumentals, but not lyrics would be best.\\nAnd listening to music that includes lyrics that you're very familiar with would be the worst condition.\"),\n",
       "   Document(page_content=\"There's a lot of kind of lore, old school lore about how to relieve a hangover.\\nWe already talked about how eating food won't do that, but eating food will prevent the rapid absorption of even more alcohol into the bloodstream.\\nThere's the lore that one should simply ingest more alcohol.\\nWhat terrible advice that is.\\nThat's just going to delay an even worse hangover.\\nHowever, I'd be remiss if I didn't say that the reason that that myth came to be, or that I should say that truth came to be, because indeed ingesting more alcohol will alleviate a hangover, but then a worse hangover will show up.\\nThe reason that came to be is because ingestion more alcohol will cause those constricted vessels that are giving the headache to dilate again.\\nBut of course, ingesting more alcohol to relieve a hangover is simply a bad idea.\\nJust don't do it.\\nI think this is called the hair of the dog approach.\\nMaybe someone can put in the show note captions on YouTube, why it's called the hair of the dog.\\nI can come up with a few ideas, but they're not going to be very good ones.\\nAnd some of them would probably even be outright ridiculous.\\nSo do not ingest more alcohol simply to try and recover from a hangover.\\nI know many people have tried that one before, but that's a terrible idea.\\nNow, one thing that you'll also hear out there is that deliberate cold exposure, for instance, taking a cold shower might relieve hangover.\\nI find this one particularly interesting because we've done episodes on the benefits of deliberate cold exposure.\\nWe have an entire episode about that.\\nYou can find it again, hubermanlab.com.\\nThere are direct links to some of the tools related to deliberate cold exposure.\\nAnd we have an entire newsletter on deliberate cold exposure protocols.\\nYou can find on hubermanlab.com, go to our neural network newsletter.\\nSo those of you that are interested in ice baths and cold showers and ways to leverage those, you can find that there.\"),\n",
       "   Document(page_content=\"So studies such as this, I think are useful because they point to the fact that very seldom, if ever, will there be one supplement or one nutritional change or even one behavioral change that's going to completely shift an individual from being aggressive and impulsive, but rather that by combining different behavioral regimens, by paying attention to things like time of year and work conditions and school conditions and overall levels of stress and likely therefore levels of cortisol, et cetera, that you can use behaviors, diet and supplementation as a way to shift that overall internal milieu from one of providing a lot of internal hydraulic pressure as it's been called throughout the episode toward aggressive impulsivity and relax some of that hydraulic pressure and reduce aggressive tendencies.\\nSo once again, and frankly, as always, we've done a deep dive into the neurobiology and the psychology of what I believe to be an important feature of our lives, in this case, aggression.\\nI want to point out that in a episode in the not too distant future, I'm going to be hosting Dr. Professor David Anderson from Caltech University, who is the world expert on the neurobiology of aggression.\\nIn fact, he is the senior author on many of the studies related to the ventromedial hypothalamus that I discussed today.\\nOur discussion will touch on aggression, of course.\\nSo hearing today's episode will help you digest that information, but we are also going to talk about other emotional states.\\nHe is an expert not just in aggression, but in motivated states related to sex and mating behavior, social relationships of all kinds, and how those relate not just to biology and psychology, but also certain forms of pathology, things like PTSD and the relationship, for instance, between anger, fear, anxiety, and depression, and many other important topics that I know many of you, if not all of you, will be interested in.\"),\n",
       "   Document(page_content=\"And by understanding that, or perhaps by understanding that irritability and aggression are not the same thing, you'll be in a much better position to apply some of the tools that we will talk about in this episode in order to be able to reduce or eliminate, or if it's adaptive to you, to modulate aggression.\\nAnd yes, there are cases where modulating your aggression, in some cases, even amplifying aggression, can be adaptive.\\nNow, this, of course, is not the first discussion about the biology of aggression or the psychology of aggression.\\nAnd we really can look to the beginning of the last century as the time in which the formal study of aggression really began.\\nOne of the names that's most associated with the formal study of aggression is none other than Conrad Lorenz.\\nSome of you may be familiar with that name.\\nOthers of you may not be familiar with that name.\\nConrad Lorenz studied so-called imprinting behaviors and fixed action pattern behaviors.\\nHe's most famous, at least in scientific circles, for getting geese to believe that he was their parent.\\nAnd if you were to put into Google Conrad with a K, Lorenz, just as it sounds, Conrad Lorenz, geese, you're going to see a lot of photos of Conrad walking down roads with a lot of geese following him, or swimming in lakes with a lot of geese following him.\\nHe had a habit of geese adopting him because of the behaviors that he partook in.\\nSo he would swim out on a lake in front of a bunch of little geese, and then they would think that he was the parent, and they would imprint on him.\\nHe even lived with these animals, and they lived with him.\\nThat's a strange character from what I hear.\\nBut nonetheless, all this work was deserving of a Nobel Prize because what he discovered were fixed action patterns.\\nThat is, patterns of behavior that could be evoked by a single stimulus.\\nThis is really important.\"),\n",
       "   Document(page_content=\"Yes, there's some dose dependence, but I think if you're somebody who's trying to optimize your testosterone to estrogen ratio, regardless of whether or not you're male or female, well, then most certainly, you're going to want to avoid drinking too much alcohol.\\nSo we've covered a lot of topics and data related to the mechanisms of alcohol, hangover, tolerance, cancer risk, et cetera.\\nI acknowledge that I've mainly talked to you about the negative effects of alcohol.\\nI want to acknowledge that many people enjoy alcohol in moderation or even light drinking, the occasional drink or the occasional two drinks, or maybe even on average, one drink per night, so seven drinks per week.\\nI'm certainly not here to tell you what to do and what not to do.\\nI do find it immensely interesting, however, that first of all, alcohol is a known toxin to the cells of the body.\\nSome of you might immediately say, well, wait, what about hormesis? What about this phenomenon where if we regularly ingest a toxin, it makes us stronger.\\nIn other words, what doesn't kill us makes us stronger.\\nThere's some reason to believe that might be beneficial in terms of some forms of cellular resilience, maybe, maybe, no, sorry.\\nIt doesn't work that way.\\nThere are processes of hormesis in which, for instance, exposing yourself safely to increases in adrenaline through ice baths or other things that increase adrenaline can raise your so-called stress threshold.\\nBut here we're talking about cellular stress and damage to cells.\\nSo my read of the literature, and again, this is my read and I invite others to provide studies or I would prefer actually collections of studies that point in the direction, if they exist, that alcohol can be beneficial.\"),\n",
       "   Document(page_content=\"In the meantime, I want to point you to his recently released and wonderful book entitled The Nature of the Beast, How Emotions Guide Us.\\nAnd again, the author is David Anderson from Caltech.\\nThis is a wonderful book.\\nIt serves as a tremendous introduction to the history of the study of these areas, the current science and discoveries being made in these areas, all made accessible to the scientist and non-scientist alike.\\nIt's a very engaging read.\\nAnd so much so that even though he was gracious in sending me a copy, I also purchased myself a copy to give to somebody who is a therapist, and I've purchased another copy to give to a high school kid that I mentor because he's very interested in the neuroscience of emotions.\\nAnd I think we are all interested in emotions, not just fear and some of these negative states, not just aggression, but also the positive emotions of our lives.\\nAnd so The Nature of the Beast, How Emotions Guide Us by David Anderson is a wonderful read.\\nI can't recommend it highly enough.\\nIf you're learning from and or enjoying this podcast, please subscribe to our YouTube channel.\\nThat's a terrific, zero-cost way to support us.\\nIn addition, please subscribe to our podcast on Apple and Spotify.\\nAnd on Apple, you have the opportunity to leave us up to a five-star review.\\nAlso, if there are any episodes of the podcast that you particularly like, please share them with others.\\nAnd if you have suggestions about particular guests or topics that you'd like us to cover on the podcast, please put that in the comment section on YouTube.\\nWe do read all those comments.\\nPlease also check out the sponsors mentioned at the beginning of today's episode.\\nThat is the best way to support this podcast.\\nWe also have a Patreon.\\nIt's patreon.com slash Andrew Huberman.\\nAnd there you can support the podcast at any level that you like.\\nDuring today's episode and on many previous episodes of the Huberman Lab podcast, we discussed supplements.\")]]}"
      ]
     },
     "execution_count": 16,
     "metadata": {},
     "output_type": "execute_result"
    }
   ],
   "source": [
    "multivector_chain.invoke({\"question\": \"How to be a better husband?\"})"
   ]
  },
  {
   "cell_type": "code",
   "execution_count": 21,
   "metadata": {},
   "outputs": [],
   "source": [
    "res = multivector_chain.invoke({\"question\" : \"How does caffeine reinforce?\"})"
   ]
  },
  {
   "cell_type": "code",
   "execution_count": 24,
   "metadata": {},
   "outputs": [
    {
     "data": {
      "text/plain": [
       "[[Document(page_content=\"Because as I alluded to earlier, what caffeine is doing for us is not just making us more alert, improving our memory, improving our reaction time and so on.\\nIt's actually acting as a powerful reinforcer of experience.\\nAnd it's acting as not just a powerful reinforcer of the caffeine containing drink that we drink, but also the mug that it's contained in, plus the person that we might be sitting across from when we consume that caffeine and so on.\\nIf it's a little bit hard for you to conceptualize what a reinforcer is and why I'm calling it a reinforcer, let me spell it out in three specific ways.\\nWe often hear about the word reward.\\nAnd we think, okay, if we do certain things and we like the outcome, then those certain things are rewarded, right? If we're doing something, we receive praise, the praise is the reward.\\nAnd therefore we are more likely to do that thing in the future.\\nIn fact, a lot of parenting is like that.\\nAnd a lot of life is like that.\\nHowever, when we hear the word reward, we often think about something that feels good to us.\\nAnd certainly if we've worked hard and we get some praise, that's natural for the praise to feel good to us.\\nOr for instance, if we work very hard and we get a certain outcome, a trophy, a financial outcome, a degree outcome, recognition, et cetera, all of those can act as rewards, but those are all conscious rewards.\\nWe are aware that they are happening.\\nReinforcers are a little bit different because the word reinforcement can apply to conscious rewards of the sort that I just described.\\nBut there are also many ways in which caffeine stimulates the release of chemicals in our body that act as reinforcers.\\nBut those reinforcers are subconscious.\\nThat is, we are not aware that they cause this preference for the activities that cause their release.\"),\n",
       "  Document(page_content=\"Now, I'm also talking about caffeine as a strong reinforcer in that it makes you feel good overall, and it does, and that suggests that it also taps into the more classic reward pathway, but it does that in a very interesting and frankly almost diabolical way.\\nWhen we regularly ingest caffeine, it stimulates the increase in dopamine receptors at multiple sites throughout the brain, but in particular within the reward pathways of the brain.\\nSo not the areas of the brain that are associated with focus and clarity of thought and cognition.\\nIt does that, but it is also increasing the level of dopamine receptors in the reward pathway.\\nAnd what that means is that for any dopamine that's released in response to a positive experience, social experience, or any number of the other things that can stimulate dopamine release, there are more receptors, more parking spots, if you will, for that dopamine to arrive at and to exert its increases in mood, increases in motivation, and overall feelings of drive and excitement.\\nSo there are four ways that caffeine works that we need to understand.\\nFirst of all, caffeine acts as a reinforcing agent.\\nIt increases the probability that you will return to and engage in a certain activity or consume a certain beverage or food.\\nSecond of all, caffeine increases dopamine and acetylcholine, which are both neuromodulators in the forebrain, which helps us improve our ability to think, to modify our rule sets, that is to adjust our strategies for different social situations and mental demands and physical demands.\\nAnd third, it increases the number and efficacy of dopamine receptors in the reward pathways of the brain.\\nThat is, it makes things that would feel pretty good, feel even better.\\nAnd fourth, caffeine acts as an antagonist to adenosine, which offsets the sleepiness that we would otherwise feel from the accumulation of adenosine that occurs as we are awake for more and more hours throughout the day.\"),\n",
       "  Document(page_content=\"Now, that said, there are certain situations in which you want to avoid caffeine, and there are certain people who might opt to avoid caffeine.\\nThat's especially the case when one thinks about caffeine not just as a stimulant, but as a reinforcer.\\nIn fact, caffeine is such a strong reinforcer that if even tiny amounts of caffeine are present in certain foods and drinks, you will very quickly come to prefer those foods and drinks over other choices, which can be a good thing or a bad thing, depending on what sorts of food and drink choices you're trying to make.\\nSo today, I'm going to inform you about how caffeine works at a mechanistic level.\\nI promise to do that with a minimum of nomenclature and such that even if you don't have a background in biology, you will be able to digest that information easily.\\nAnd then I'll tell you how to use caffeine to your advantage, or conversely, how to avoid caffeine at certain times to your advantage.\\nSo today's episode will focus both on mechanisms and tools that is the use and leverage of caffeine to improve mental health, physical health, and performance.\\nBefore we go any further into today's discussion, I want to tell you about some recent results about a molecule that's found in certain caffeinated beverages and that has been proven to be very useful for both weight loss, mental performance, and controlling blood sugar levels.\\nAnd that's GLP-1 or glucagon-like peptide-1.\\nGlucagon-like peptide-1 is found in the brain and body.\\nIt acts both on the brain and body.\\nIt does many different things, but one of its primary effects that's been discovered is to reduce hunger, and it does that two ways.\\nIt does that by activating certain neurons in your hypothalamus, so that's a brain region that controls hunger and satiety.\\nIt makes us feel full at the level of the brain, so it makes us feel sated, that is, and it actually makes us feel full.\"),\n",
       "  Document(page_content=\"Welcome to the Huberman Lab Podcast, where we discuss science and science-based tools for everyday life.\\nI'm Andrew Huberman, and I'm a professor of neurobiology and ophthalmology at Stanford School of Medicine.\\nToday, we are discussing caffeine.\\nCaffeine is one of the most widely used substances on the planet.\\nEstimates are that more than 90% of adults and as many as 50% of kids, that is adolescents and teenagers, use caffeine on a daily basis.\\nCaffeine is an amazing molecule.\\nMost people are familiar with caffeine's ability to increase alertness and to reduce our feelings of sleepiness and fatigue.\\nAnd indeed, it does that.\\nBut what most people are not aware of is that caffeine acts as a strong reinforcer.\\nWhat I mean by reinforcer is that when caffeine is present in a drink or food, and yes, indeed, caffeine is present in many foods, even unbeknownst to us, when it's present in drinks and foods, we actively come to like those foods and drinks more than if caffeine were not contained in those foods and drinks.\\nSo it reinforces our liking of particular foods and drinks, and indeed, it even reinforces our liking of the containers they are consumed from and the company we keep when we consume foods and drinks that contain caffeine.\\nThat is, caffeine is not just a stimulant, caffeine is a reinforcer, and it's a reinforcer that plays an active role in almost everybody's daily life.\\nWe can say that with confidence because, as I mentioned a moment ago, more than 90% of people are consuming caffeine, and most people think that they consume caffeine because it makes them feel more alert.\\nBut there are many reasons why you're consuming caffeine, and I'm not going to tell you that consuming caffeine isn't necessarily bad.\\nIn fact, today, I'm going to tell you about many of the positive health benefits of caffeine, including neuroprotective effects, anti-depressive effects, and certainly performance-enhancing effects, both for mental performance and for physical performance.\"),\n",
       "  Document(page_content=\"For instance, I wonder why we are not pairing caffeine with broccoli and that here I'm not suggesting that people actually do that experiment or play that trick on people, but you have to sort of imagine that if caffeine is this incredible reinforcer of all sorts of things, in particular, things that we ingest and would want to ingest more of if it's paired with caffeine, well, then you actually can use caffeine as a tool to increase reinforcement of different things and you can avoid caffeine as a way to further reinforce things that you would like to stop.\\nAnd here I'd like to just give the example of sugar cravings.\\nA lot of people ask me, how do I avoid sugar cravings? I've talked about the use of L-glutamine for that.\\nI've talked about making sure you're getting enough essential fatty acids and essential amino acids as a way to reduce sugar cravings.\\nPlease note, however, that if you are somebody who likes to have your sugar, whether or not it's a piece of chocolate or your dessert, et cetera, I'm not saying that's bad, but if you're trying to reduce your sugar cravings, ask yourself, are you ingesting sugar along with caffeine? Could be the caffeine contained in that sugar containing food like chocolate, or it could be that you're having a cup of coffee along with your pastry and then you're struggling with sugar cravings.\\nWell, think about it.\\nYou're not just being reinforced by the sugar and the effects of sugar on dopamine, which are real and both conscious and subconscious through the gut to the brain dopamine system and direct on the brain dopamine system.\\nBut by co-ingesting caffeine, you are also further enhancing the reinforcing effects of sugar.\\nThe flip side to all of this is that you could use caffeine as a way to increase your appetite for certain things.\"),\n",
       "  Document(page_content=\"So let's talk first about caffeine as a reinforcing agent.\\nAgain, this was first most beautifully demonstrated in this study on honeybees, where the bees prefer nectars that contain caffeine, and that all makes perfect sense in terms of the ecology of bees and flowers that contain nectar.\\nThere's an advantage, at least in terms of adaptation, that the flower benefits because of distribution of things from the flower, which is good for the flowers, and the bees benefit because they're getting food.\\nAnd so there's a kind of a symbiosis there.\\nBut with humans, we're consuming caffeine-containing beverages for our sake.\\nI don't think we have it in mind, nor do the bees have it in mind, frankly, that we're trying to preserve the plants that provide the caffeine.\\nI think we would all suffer, or I should say 90% of adults would suffer greatly if all the caffeine-containing coffee and tea plants were gone, certainly.\\nBut most of us are not consuming coffees and teas and caffeine-containing foods because we're thinking about the plants they come from and we want to help those plants.\\nWe're thinking about how we want to help ourselves.\\nAnd yet the point of the reinforcing effects of caffeine are that they are largely subconscious.\\nWe are not aware of them.\\nNow you might say, no, that's not true.\\nWhen I drink caffeine, it makes me feel really good.\\nSo I'm aware that it makes me feel good.\\nIn order to illustrate how reinforcement really works, let me give you the counter example, which would be an aversive agent.\\nSo we have reinforcing agents and we have aversive agents.\\nLet's say that there were compounds in nature that exist in plants that are aversive.\\nAnd indeed they are.\\nAnd let's say that these compounds were present at such low concentrations that you couldn't taste them.\\nLet's say you wake up in the morning and you go to your refrigerator and you open it up and you are thirsty.\\nAnd so you reach for a nice, you know, rich red-containing beverage in a glass jar.\")]]"
      ]
     },
     "execution_count": 24,
     "metadata": {},
     "output_type": "execute_result"
    }
   ],
   "source": [
    "res[\"context\"]"
   ]
  }
 ],
 "metadata": {
  "kernelspec": {
   "display_name": "huberman-rag-fdQcU6Ve-py3.11",
   "language": "python",
   "name": "python3"
  },
  "language_info": {
   "codemirror_mode": {
    "name": "ipython",
    "version": 3
   },
   "file_extension": ".py",
   "mimetype": "text/x-python",
   "name": "python",
   "nbconvert_exporter": "python",
   "pygments_lexer": "ipython3",
   "version": "3.11.5"
  }
 },
 "nbformat": 4,
 "nbformat_minor": 2
}
