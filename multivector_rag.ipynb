{
 "cells": [
  {
   "cell_type": "code",
   "execution_count": 11,
   "metadata": {},
   "outputs": [],
   "source": [
    "from src.vectorstore import connect_to_milvus, activate_collection\n",
    "from src.retrievers import MilvusRerankRetriever\n",
    "\n",
    "import os\n",
    "from dotenv import load_dotenv"
   ]
  },
  {
   "cell_type": "code",
   "execution_count": 12,
   "metadata": {},
   "outputs": [],
   "source": [
    "from src.retrievers import MilvusMultiVectorRetriever\n",
    "\n",
    "from langchain_core.runnables import RunnablePassthrough\n",
    "from operator import itemgetter\n",
    "from langchain_core.prompts import ChatPromptTemplate\n",
    "from langchain_openai import ChatOpenAI\n",
    "\n",
    "import os\n",
    "from dotenv import load_dotenv\n"
   ]
  },
  {
   "cell_type": "code",
   "execution_count": 13,
   "metadata": {},
   "outputs": [],
   "source": [
    "connect_to_milvus()\n",
    "collection = activate_collection()\n",
    "collection.load()"
   ]
  },
  {
   "cell_type": "code",
   "execution_count": 14,
   "metadata": {},
   "outputs": [],
   "source": [
    "load_dotenv()\n",
    "OPENAI_API_KEY = os.getenv(\"OPENAI_API_KEY\")\n",
    "COHERE_API_KEY = os.getenv(\"COHERE_API_KEY\")"
   ]
  },
  {
   "cell_type": "code",
   "execution_count": 15,
   "metadata": {},
   "outputs": [],
   "source": [
    "# Template\n",
    "\n",
    "\"\"\"If you do not have the answer in the CONTEXT write \"I don't know\".\n",
    "Do not make things up. Do not fabricate facts. \"\"\"\n",
    "RAG_TEMPLATE = \"\"\"\\\n",
    "You are a Huberman Lab podcast listener. \n",
    "You will be provided a CONTEXT of the podcasts and a QUESTION.\n",
    "Based on the CONTEXT answer the QUESTION.\n",
    "\n",
    "Context:\n",
    "{context}\n",
    "\n",
    "Query:\n",
    "{question}\n",
    "\"\"\"\n",
    "\n",
    "rag_prompt = ChatPromptTemplate.from_template(RAG_TEMPLATE)\n",
    "\n",
    "# Setup a chat model\n",
    "chat_model = ChatOpenAI()\n",
    "# Setup a retriever\n",
    "retriever = MilvusMultiVectorRetriever()\n",
    "\n",
    "# Setup a chain\n",
    "multivector_chain = (\n",
    "    # INVOKE CHAIN WITH: {\"question\" : \"<<SOME USER QUESTION>>\"}\n",
    "    # \"question\" : populated by getting the value of the \"question\" key\n",
    "    # \"context\"  : populated by getting the value of the \"question\" key and chaining it into the base_retriever\n",
    "    {\"context\": itemgetter(\"question\") | retriever, \"question\": itemgetter(\"question\")}\n",
    "    # \"context\"  : is assigned to a RunnablePassthrough object (will not be called or considered in the next step)\n",
    "    #              by getting the value of the \"context\" key from the previous step\n",
    "    | RunnablePassthrough.assign(context=itemgetter(\"context\"))\n",
    "    # \"response\" : the \"context\" and \"question\" values are used to format our prompt object and then piped\n",
    "    #              into the LLM and stored in a key called \"response\"\n",
    "    # \"context\"  : populated by getting the value of the \"context\" key from the previous step\n",
    "    | {\"response\": rag_prompt | chat_model, \"context\": itemgetter(\"context\")}\n",
    ")"
   ]
  },
  {
   "cell_type": "code",
   "execution_count": 16,
   "metadata": {},
   "outputs": [],
   "source": [
    "res = multivector_chain.invoke({\"question\" : \"How much caffeine a day is the maximum limit?\"})"
   ]
  },
  {
   "cell_type": "code",
   "execution_count": 17,
   "metadata": {},
   "outputs": [
    {
     "data": {
      "text/plain": [
       "{'response': AIMessage(content='The maximum limit of caffeine recommended per day is 600 milligrams, as mentioned in the podcast.', response_metadata={'token_usage': {'completion_tokens': 20, 'prompt_tokens': 2922, 'total_tokens': 2942}, 'model_name': 'gpt-3.5-turbo', 'system_fingerprint': 'fp_c2295e73ad', 'finish_reason': 'stop', 'logprobs': None}, id='run-7d691e15-8822-421d-9b28-680331dac152-0'),\n",
       " 'context': [[Document(page_content=\"We'll talk about the use of caffeine every other day.\\nI know for you habitual caffeine drinkers, including myself, just the simple mention of that probably sounds aversive, but there is actually great utility to using caffeine every other day as opposed to every day.\\nBut just keep in mind that some people will drink caffeine and not get much of a lift from it at all.\\nOther people will drink caffeine and they will feel extremely anxious, even at dosages far lower than that one to three milligrams per kilogram of body weight range that I described a moment ago.\\nSo you have to take into account individual differences.\\nThat said, one to three milligrams of caffeine per kilogram of body weight for a given sitting, for your morning coffee or your morning yerba mate tea is a good range from which to start.\\nAnd I do encourage you to go online and look up the various beverages and foods that you might be eating that contain caffeine.\\nFor instance, some people are surprised to discover that the coffee that they get from some of the more standard popular vendors out there, the small coffee or the medium coffee, for instance, can contain as much as 400 to 600 milligrams of caffeine.\\nAnd that the large coffee that is often sold at those commercial vendors can contain as much as one gram, 1,000 milligrams of caffeine.\\nNow you may be adapted to that such that it doesn't make you feel anxious.\\nBut if you wonder why you feel irritable and you get a headache when you don't get that caffeine or that amount of caffeine at precisely the time that you're used to getting it each day, that's because you are consuming quite large quantities of caffeine on a regular basis.\\nSo I do recommend whether or not you drink soda or coffee or tea that you figure out the source of that.\\nOkay, so figure out what vendor you purchase it from, what kind of coffee and go online and spend a little bit of time because the information is out there to discover what levels of caffeine you're actually ingesting.\"),\n",
       "   Document(page_content=\"And I should mention this study, they use this 300 milligrams per day or 600 milligrams per day.\\nSo that's quite high, although for people of sufficient body weight and who are accustomed to taking caffeine, it's certainly not going to be in excess of what a lot of people out there are taking.\\nBut basically what they observed was the following.\\nCortisol responses to caffeine are reduced, but not eliminated in people who consume caffeine on a daily basis.\\nWhat this means is that if you wake up and as I recommended earlier, you avoid drinking caffeine for the first 90 to 120 minutes after waking, but you do get some sunlight or other bright light in your eyes in that time, maybe even get some exercise in that time, which would be even better.\\nAnd then you ingest caffeine, you will get a further increase in cortisol, which provided it's restricted to the early part of the day is a good thing overall for mood and alertness.\\nSo this is a simple performance enhancing tool, which is to stack caffeine on the tail of that early cortisol peak.\\nI should also mention, however, that in this study, they had people do a five-day caffeine abstinence prior to being tested with 300 milligrams or 600 milligrams of caffeine.\\nSo the simple tool to extract from this and other studies like it, is that if you want to experience the maximum alertness promoting effects of caffeine, when you ingest it early in the day, you would abstain from caffeine for five days and then ingest caffeine 90 to 120 minutes after waking.\\nI would still hope that you were doing all the other things that I described, morning, sunlight, exercise, et cetera, correctly, but regardless, it's very clear that a five-day abstinence from caffeine, however painful that might be, will increase the performance enhancing effects of caffeine when you take caffeine on that sixth day.\"),\n",
       "   Document(page_content=\"So what I recommend is that people who are considering using caffeine as a tool, or who are already ingesting caffeine, start to think about the dosage of caffeine that you are ingesting or plan to ingest, and the timing in which you ingest that caffeine relative to certain tasks throughout your day, your waking and your sleep.\\nAnd we'll talk about that in just a moment.\\nBut the first step for you is to figure out how much you weigh in kilograms, and then to go to that number of one to three milligrams of caffeine per kilogram of body weight.\\nAnd that's a good range in which you might want to explore the use of caffeine in a single application, meaning in a single dose.\\nNow, I do realize that some people out there are drinking coffee all day long, or having coffee in the morning, and then again in the afternoon.\\nWhat I'm referring to here is the ingestion of caffeine in a single bout, right? One cup of coffee, or two cups of coffee, for instance, to achieve that 100 to 300 milligram range, if that's what's appropriate for your body weight.\\nBut to avoid any confusion, when I talk about dosage of caffeine, what I'm really talking about is not the total amount of caffeine ingested per day.\\nI'm talking about the total amount of caffeine ingested in one sitting, or setting, that is.\\nAnd if you're somebody who's drinking caffeine multiple times throughout the day, you could imagine, for instance, let's say the appropriate dose for you in order to get an enhancement in mental performance or physical performance is 200 milligrams, and you are somebody who's doing some work in the morning, and you want to have that lift in the morning to be able to focus better, and you're doing some physical exercise in the afternoon, or vice versa, that you would ingest 200 milligrams of caffeine at two separate times per day, separated by about four hours.\\nNow, you don't have to separate them.\"),\n",
       "   Document(page_content=\"Now, I'm sure many of you out there are saying, why would I ever want to abstain from caffeine for five days in order to just get this six-day performance enhancing effect? Well, there are a couple of reasons for doing that.\\nPerhaps you're planning to travel to a new time zone and you want to use caffeine as a stimulant to stay up during the day in the new time zone.\\nThat's a somewhat unusual case.\\nOthers of you might be interested in the pro-physical performance effects of caffeine.\\nWe'll talk more about these in a little bit, but you want to get the maximum strength increase or the maximum endurance increase from ingesting, in this case, 300 to 600 milligrams of caffeine.\\nWell, in that case, abstaining from caffeine for five days will greatly exacerbate the pro-performance effects of caffeine when you take it on that sixth day.\\nAlthough, admittedly, those five days are likely to be pretty painful if you're a regular caffeine user.\\nAnother variation on this, however, might be to have the amount of caffeine that you ingest on a daily basis and then go back to your regular level of caffeine intake on that day in which you need the caffeine to really boost your mood, energy, and performance.\\nAnother reason why you might want to abstain from caffeine or reduce your caffeine intake for a period of time and then go back to your regular caffeine intake is simply to identify how much of an effect caffeine is really having on your overall level of daily functioning and mood.\\nThis was something that was actually covered in beautiful detail in a book by Michael Pollan, All About Caffeine.\\nIt's available on Audible.\\nI really enjoyed that book.\\nIt describes his experience with the decision to completely abstain from caffeine for a period of months.\"),\n",
       "   Document(page_content=\"So this is all just to say that caffeine is an incredible performance enhancing tool.\\nNow, what's not obvious from the statement that caffeine is a performance enhancing tool across the board and in men and women and in different contexts is that the way in which caffeine is taken is very important.\\nBecause 90% or more of adults consume caffeine, finding controls for studies of caffeine is really challenging.\\nThat is finding people who don't ingest caffeine regularly is a very challenging task for the researcher.\\nAnd as a consequence, many of the studies of caffeine on human beings involve depriving regular caffeine users of caffeine and then examining the effects of caffeine given after a period of say five to 15 days of abstinence in a person that is essentially experiencing mild withdrawal symptoms because they haven't had the caffeine that they were used to getting.\\nSo this is an important point.\\nAnd it's a point that likely exacerbates the observed pro-performance effects of caffeine.\\nNow, all of that isn't necessarily a problem provided you keep it in mind.\\nAnd it actually points to a way in which even if you're a regular caffeine user, you can extract more of the benefits of caffeine.\\nThe simplest way to do this, for instance, is to look back to what we talked about earlier in terms of the need to have most of your cortisol increase restricted to the hour or hours just after waking in terms of mood and alertness and performance.\\nOne of the ways to increase the peak of that cortisol early in the day is to consume caffeine shortly after that peak occurs.\\nAnd this was really nicely demonstrated in a study entitled caffeine stimulation of cortisol secretion across the waking hours in relation to caffeine intake levels.\\nWe will provide a link to this study.\\nIt's a somewhat complicated study because they looked at a bunch of different times of day for caffeine intake.\\nAnd I should mention this study, they use this 300 milligrams per day or 600 milligrams per day.\"),\n",
       "   Document(page_content=\"Now, if you happen to be ingesting more than one to three milligrams per kilogram of body weight of caffeine, that's not necessarily bad.\\nHowever, you do want to be careful about ingesting very high levels of caffeine over long periods of time in your life because there can be issues that start to arise in particular, a bias towards higher levels of anxiety and depletion of certain electrolytes because caffeine is a diuretic can cause you to lose sodium and other things of that sort.\\nAnd also just from simply a dependent standpoint, it does appear that if you ingest high levels of caffeine that is exceeding the dosages that normally you could get away with and get just as much mental enhancing and physical enhancing benefits that you can cause some disruption to the microvasculature.\\nYou can bias yourself towards headaches, anxiety attacks and you can become actually quite irritable when you're not getting those higher levels of caffeine.\\nSo I do encourage you to figure out not just what an appropriate caffeine dosage would be for you, but also how much caffeine you might already be ingesting.\\nThe first tool I'd like to talk about is one that I've mentioned before on this podcast several times.\\nAnd it's something that if you haven't heard of will be very useful to you.\\nAnd if you have heard this tool before, I'm going to add some additional features to the description of this tool that should make this worthwhile for you as well.\\nAnd that is to delay your caffeine intake to 90 to 120 minutes after waking up on most days.\\nAnd I'll be very clear as to days in which you might want to ingest caffeine more closely to when you wake up.\\nWhy would you want to delay your caffeine intake to 90 to 120 minutes after waking? The answer to that is very simple.\\nMany people wake up in the morning, they drink caffeine within 10, 20, 30, sometimes within two minutes of waking and they feel more alert naturally.\"),\n",
       "   Document(page_content=\"Now, you don't have to separate them.\\nYou could put them two hours apart, for instance, but we'll talk about half-life of caffeine and so forth.\\nJust keep in mind that if you're ingesting 200 milligrams of caffeine, and that's the appropriate dose for you based on your body weight, and then you are ingesting another 200 milligrams of caffeine an hour later, you are effectively ingesting approximately 400 milligrams of caffeine, which is going to start exceeding the dose in which you can normally tolerate without feeling anxious and jittery.\\nWith all of that said, there is a range of tolerance for caffeine that's based on two things.\\nOne is a pre-existing disposition, that is whether or not your genetics and nervous system and the backdrop of your life, how much stress you're experiencing, tends to make you feel more anxious and alert and jittery before you ingest any caffeine.\\nAnd the other is how so-called caffeine adapted you are.\\nWe often hear about tolerance.\\nTolerance means something very specific.\\nIt's the ability to ingest more and more of something with a plateau that is a no increase or an actual reduction in the effectiveness of that thing.\\nBut here, we're not really talking about tolerance to caffeine.\\nWhat we're talking about is being caffeine adapted.\\nA simple way to understand whether or not you're caffeine adapted or not is that if you drink caffeine and it tends to increase your heart rate and make you feel more alert and a bit more anxious, then chances are you are not caffeine adapted, provided the amount of caffeine is within the healthy range for you, that is, the ranges we talked about a moment ago.\\nHowever, if you're somebody who drinks caffeine and you actually feel alert and relaxed, chances are you are caffeine adapted.\\nAnd so at various times during today's episode, I'll talk about people who are caffeine adapted and people who are not caffeine adapted.\\nWe'll talk about the use of caffeine every other day.\")]]}"
      ]
     },
     "execution_count": 17,
     "metadata": {},
     "output_type": "execute_result"
    }
   ],
   "source": [
    "res"
   ]
  }
 ],
 "metadata": {
  "kernelspec": {
   "display_name": "huberman-rag-fdQcU6Ve-py3.11",
   "language": "python",
   "name": "python3"
  },
  "language_info": {
   "codemirror_mode": {
    "name": "ipython",
    "version": 3
   },
   "file_extension": ".py",
   "mimetype": "text/x-python",
   "name": "python",
   "nbconvert_exporter": "python",
   "pygments_lexer": "ipython3",
   "version": "3.11.5"
  }
 },
 "nbformat": 4,
 "nbformat_minor": 2
}
