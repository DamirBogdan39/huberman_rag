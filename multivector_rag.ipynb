{
 "cells": [
  {
   "cell_type": "code",
   "execution_count": 1,
   "metadata": {},
   "outputs": [
    {
     "name": "stderr",
     "output_type": "stream",
     "text": [
      "/home/damir/.cache/pypoetry/virtualenvs/huberman-rag-fdQcU6Ve-py3.11/lib/python3.11/site-packages/tqdm/auto.py:21: TqdmWarning: IProgress not found. Please update jupyter and ipywidgets. See https://ipywidgets.readthedocs.io/en/stable/user_install.html\n",
      "  from .autonotebook import tqdm as notebook_tqdm\n"
     ]
    }
   ],
   "source": [
    "from src.retrievers import MilvusMultiVectorRetriever\n",
    "\n",
    "from langchain_core.runnables import RunnablePassthrough\n",
    "from operator import itemgetter\n",
    "from langchain_core.output_parsers import StrOutputParser\n",
    "from langchain_core.prompts import ChatPromptTemplate\n",
    "from langchain_openai import ChatOpenAI\n",
    "\n",
    "from pymilvus import connections\n",
    "import os\n",
    "from dotenv import load_dotenv\n"
   ]
  },
  {
   "cell_type": "code",
   "execution_count": 2,
   "metadata": {},
   "outputs": [],
   "source": [
    "host = \"127.0.0.1\"  # Milvus server host\n",
    "port = \"19530\"  # Milvus server port\n",
    "\n",
    "# Connect to Milvus server\n",
    "connections.connect(host=host, port=port)\n",
    "\n",
    "\n",
    "load_dotenv()\n",
    "OPENAI_API_KEY = os.getenv(\"OPENAI_API_KEY\")"
   ]
  },
  {
   "cell_type": "code",
   "execution_count": 7,
   "metadata": {},
   "outputs": [],
   "source": [
    "# Template\n",
    "\n",
    "\"\"\"If you do not have the answer in the CONTEXT write \"I don't know\".\n",
    "Do not make things up. Do not fabricate facts. \"\"\"\n",
    "RAG_TEMPLATE = \"\"\"\\\n",
    "You are a Huberman Lab podcast listener. \n",
    "You will be provided a CONTEXT of the podcasts and a QUESTION.\n",
    "Based on the CONTEXT answer the QUESTION.\n",
    "\n",
    "\n",
    "Context:\n",
    "{context}\n",
    "\n",
    "Query:\n",
    "{question}\n",
    "\"\"\"\n",
    "\n",
    "rag_prompt = ChatPromptTemplate.from_template(RAG_TEMPLATE)\n",
    "\n",
    "# Setup a chat model\n",
    "chat_model = ChatOpenAI()\n",
    "# Setup a retriever\n",
    "retriever = MilvusMultiVectorRetriever()\n",
    "\n",
    "# Setup a chain\n",
    "multivector_chain = (\n",
    "    # INVOKE CHAIN WITH: {\"question\" : \"<<SOME USER QUESTION>>\"}\n",
    "    # \"question\" : populated by getting the value of the \"question\" key\n",
    "    # \"context\"  : populated by getting the value of the \"question\" key and chaining it into the base_retriever\n",
    "    {\"context\": itemgetter(\"question\") | retriever, \"question\": itemgetter(\"question\")}\n",
    "    # \"context\"  : is assigned to a RunnablePassthrough object (will not be called or considered in the next step)\n",
    "    #              by getting the value of the \"context\" key from the previous step\n",
    "    | RunnablePassthrough.assign(context=itemgetter(\"context\"))\n",
    "    # \"response\" : the \"context\" and \"question\" values are used to format our prompt object and then piped\n",
    "    #              into the LLM and stored in a key called \"response\"\n",
    "    # \"context\"  : populated by getting the value of the \"context\" key from the previous step\n",
    "    | {\"response\": rag_prompt | chat_model, \"context\": itemgetter(\"context\")}\n",
    ")"
   ]
  },
  {
   "cell_type": "code",
   "execution_count": 4,
   "metadata": {},
   "outputs": [
    {
     "data": {
      "text/plain": [
       "'The recommended duration for static stretching to improve flexibility is 30 seconds per set. Holding a stretch for more than 30 seconds did not result in additional benefits according to the information provided.'"
      ]
     },
     "execution_count": 4,
     "metadata": {},
     "output_type": "execute_result"
    }
   ],
   "source": [
    "multivector_chain.invoke({\"question\" : \"How much to stretch to improve flexibility?\"})[\"response\"].content"
   ]
  },
  {
   "cell_type": "code",
   "execution_count": 14,
   "metadata": {},
   "outputs": [
    {
     "data": {
      "text/plain": [
       "'Caffeine reinforces by increasing the probability that you will return to and engage in a certain activity or consume a certain beverage or food. It also increases dopamine and acetylcholine, which are both neuromodulators in the forebrain, helping to improve our ability to think and modify our strategies for different social, mental, and physical demands. Additionally, caffeine acts as an antagonist to adenosine, offsetting sleepiness.'"
      ]
     },
     "execution_count": 14,
     "metadata": {},
     "output_type": "execute_result"
    }
   ],
   "source": [
    "multivector_chain.invoke({\"question\" : \"How does caffeine reinforce?\"})[\"response\"].content"
   ]
  },
  {
   "cell_type": "code",
   "execution_count": 15,
   "metadata": {},
   "outputs": [
    {
     "data": {
      "text/plain": [
       "\"I don't know.\""
      ]
     },
     "execution_count": 15,
     "metadata": {},
     "output_type": "execute_result"
    }
   ],
   "source": [
    "multivector_chain.invoke({\"question\" : \"Which compounds does coffee have?\"})[\"response\"].content"
   ]
  },
  {
   "cell_type": "code",
   "execution_count": 16,
   "metadata": {},
   "outputs": [
    {
     "data": {
      "text/plain": [
       "{'response': AIMessage(content=\"I don't know.\", response_metadata={'token_usage': {'completion_tokens': 5, 'prompt_tokens': 3756, 'total_tokens': 3761}, 'model_name': 'gpt-3.5-turbo', 'system_fingerprint': 'fp_b28b39ffa8', 'finish_reason': 'stop', 'logprobs': None}, id='run-53e8d330-e732-48be-86d5-8aeaaf934d9f-0'),\n",
       " 'context': [[Document(page_content=\"But there's an additional one that I find particularly interesting because it addresses and indeed answers one of the most common questions that I receive all the time, which is how can I get more motivated? Not how I, Andrew can get more motivated, although of course I asked myself that question from time to time.\\nAlthough admittedly, most of the time I'm wondering how I'm just going to get everything that I need to get done, done.\\nBut I often get the question, how can I feel more motivated? Or what can I do to sustain my motivation over time? And we hear a lot of different strategies about how to do that.\\nWe hear about the quote unquote, just do it strategy, the incredible slogan that Nike created and that persists to this day has become commonplace in culture.\\nAnd indeed the just do it form of advice can be a good one, but for a lot of people, just hearing just do it or telling themselves just do it is not something that can evoke action in them.\\nOther people will listen to motivational speeches, they'll look at motivational videos, they'll read motivational books, they may even hire coaches.\\nIn other words, people invest a ton of time, energy and money into trying to be more motivated.\\nAnd indeed a number of episodes of the Huberman Lab podcast have focused on the relationship between say motivation drive and the neuromodulator dopamine.\\nWe have several episodes about that as well as a toolkit, all of which are available at zero cost at hubermanlab.com.\\nYou can access those easily by putting motivation into the search function at hubermanlab.com.\\nAll of that will come up timestamped, et cetera.\\nBut perhaps surprisingly today's conversation about music offers us a particularly potent tool to increase motivation.\\nAnd that's because one of the fundamental properties of listening to music is that it evokes activation of these pre-motor and motor circuits within our brain and body.\"),\n",
       "   Document(page_content=\"And I'm sort of joking when I say not 10, not eight, but nine because of course you could listen to music for 10 minutes or 15 minutes or longer.\\nIn fact, earlier we talked about the benefits of doing that.\\nBut when one examines the various studies that looked at how long subjects need to listen to music in order to shift their mood into a happier state, the threshold seems to be nine minutes.\\nSo if you want to feel happier than you currently feel, it seems that listening to happy music for nine minutes or more is going to be the effective approach.\\nOkay, so nine minutes or more to shift one state to happier.\\nWhat about to process somber or sad feelings, feelings of loss? Well, this raises an even bigger question and it's a question that I also get very often.\\nAs you're noticing, I get a lot of questions often.\\nIn any event, one of the common questions that I get is when we are feeling sad or experiencing a loss, grieving the loss of a relationship by death or decision or by somebody moving away or the loss of a pet, et cetera, is it better to go into that state? In other words, to quote unquote, feel one's feelings or to counter those feelings.\\nNow, historically that's been a very difficult question for me to answer because who am I to say whether or not you should feel your feelings or whether or not feeling those feelings will take you down a trench of feeling much worse or much better.\\nIn fact, there's an emerging literature exactly about that issue.\\nThat is whether or not the catharsis model is really best catharsis being the expression and feeling of one's emotions as a way to extrude or get rid of those emotions or whether or not that simply drives us further down the trench of those emotions.\\nThat's really something that we should address in a separate podcast episode.\\nAnd I will have experts from the fields of psychiatry and psychology to help us address that question directly.\"),\n",
       "   Document(page_content=\"Put it simply, people spend an enormous amount of money and time and energy watching other people engage in, for instance, aggressive sports.\\nAnd we know that observing your team winning over another team causes the release of neurochemicals in your brain and body that make you feel good, and yes, that can make you feel more aggressive.\\nWe also know, of course, that most governments invest many billions, if not trillions of dollars, in infrastructure technologies and human beings in order to engage in aggression if needed, so-called military warfare, et cetera.\\nSo today's discussion will include a description of aggression in the pathological sense.\\nWe'll actually talk about an explosive aggressive disorder that most of you probably haven't heard of, but is actually far more common than perhaps you know.\\nWe'll talk about the role of things like attention deficit hyperactivity disorder and how that can relate to aggression through the relationship between impulsivity and aggression.\\nAnd we'll talk about verbal aggression, physical aggression, proactive aggression, as mentioned before, and reactive aggression.\\nI'm certain that by the end of the episode, you will come away with a much more thorough understanding of what this thing that we call aggression really is.\\nAnd when you see it in other people, I think it will make more sense to you.\\nAnd when you observe it in yourself or the impulse to engage in aggression, verbal or physical or otherwise, I hope that you'll understand it better as well.\\nAnd of course, the tools that I will describe should allow you to modulate and control aggressive tendencies or predispositions to aggressiveness and just generally to be able to engage with people in a more adaptive way overall.\\nBefore we begin, I'd like to emphasize that this podcast is separate from my teaching and research roles at Stanford.\"),\n",
       "   Document(page_content=\"But nonetheless, it should be very straightforward now to see why if you're listening to words that you're reading on a page, maybe even mumbling them a little bit, moving your lips a little bit while you read, which, by the way, if you heard our episode on language and auditory processing with Dr. Eddie Chang, who's chair of neurosurgery at UCSF, he talked about the fact that when we read any material, that the brain is generating pre-motor activity, you now know what pre-motor activity is, pre-motor activity down to the muscles of the throat, larynx and pharynx, which would speak those words were those signals to get above a certain level, but that when we read, typically, the signals that are getting sent through those pre-motor circuits are just below the threshold of what would have us actually speak those words.\\nPut simply, when we read, we are just shy of saying what we are reading.\\nAnd so when I say that when I read, I'm listening to the words in my head, that's what I'm referring to.\\nSo we're starting to funnel in on some general principles of music and how it impacts the brain and how that can be leveraged toward better learning and better motivation, both in the context of physical and cognitive endeavors.\\nOkay, so if you want to get motivated, listening to music prior to doing something that you're trying to motivate to do is a good idea.\\nThat's what the data say.\\nIf you're trying to learn something that's cognitive, that requires reading, focus, and concentration, silence, 40 Hertz, binaural beats, white noise or brown noise is probably best.\\nAnd if you are going to listen to music, listening to music that includes instrumentals, but not lyrics would be best.\\nAnd listening to music that includes lyrics that you're very familiar with would be the worst condition.\"),\n",
       "   Document(page_content=\"There's a lot of kind of lore, old school lore about how to relieve a hangover.\\nWe already talked about how eating food won't do that, but eating food will prevent the rapid absorption of even more alcohol into the bloodstream.\\nThere's the lore that one should simply ingest more alcohol.\\nWhat terrible advice that is.\\nThat's just going to delay an even worse hangover.\\nHowever, I'd be remiss if I didn't say that the reason that that myth came to be, or that I should say that truth came to be, because indeed ingesting more alcohol will alleviate a hangover, but then a worse hangover will show up.\\nThe reason that came to be is because ingestion more alcohol will cause those constricted vessels that are giving the headache to dilate again.\\nBut of course, ingesting more alcohol to relieve a hangover is simply a bad idea.\\nJust don't do it.\\nI think this is called the hair of the dog approach.\\nMaybe someone can put in the show note captions on YouTube, why it's called the hair of the dog.\\nI can come up with a few ideas, but they're not going to be very good ones.\\nAnd some of them would probably even be outright ridiculous.\\nSo do not ingest more alcohol simply to try and recover from a hangover.\\nI know many people have tried that one before, but that's a terrible idea.\\nNow, one thing that you'll also hear out there is that deliberate cold exposure, for instance, taking a cold shower might relieve hangover.\\nI find this one particularly interesting because we've done episodes on the benefits of deliberate cold exposure.\\nWe have an entire episode about that.\\nYou can find it again, hubermanlab.com.\\nThere are direct links to some of the tools related to deliberate cold exposure.\\nAnd we have an entire newsletter on deliberate cold exposure protocols.\\nYou can find on hubermanlab.com, go to our neural network newsletter.\\nSo those of you that are interested in ice baths and cold showers and ways to leverage those, you can find that there.\"),\n",
       "   Document(page_content=\"So studies such as this, I think are useful because they point to the fact that very seldom, if ever, will there be one supplement or one nutritional change or even one behavioral change that's going to completely shift an individual from being aggressive and impulsive, but rather that by combining different behavioral regimens, by paying attention to things like time of year and work conditions and school conditions and overall levels of stress and likely therefore levels of cortisol, et cetera, that you can use behaviors, diet and supplementation as a way to shift that overall internal milieu from one of providing a lot of internal hydraulic pressure as it's been called throughout the episode toward aggressive impulsivity and relax some of that hydraulic pressure and reduce aggressive tendencies.\\nSo once again, and frankly, as always, we've done a deep dive into the neurobiology and the psychology of what I believe to be an important feature of our lives, in this case, aggression.\\nI want to point out that in a episode in the not too distant future, I'm going to be hosting Dr. Professor David Anderson from Caltech University, who is the world expert on the neurobiology of aggression.\\nIn fact, he is the senior author on many of the studies related to the ventromedial hypothalamus that I discussed today.\\nOur discussion will touch on aggression, of course.\\nSo hearing today's episode will help you digest that information, but we are also going to talk about other emotional states.\\nHe is an expert not just in aggression, but in motivated states related to sex and mating behavior, social relationships of all kinds, and how those relate not just to biology and psychology, but also certain forms of pathology, things like PTSD and the relationship, for instance, between anger, fear, anxiety, and depression, and many other important topics that I know many of you, if not all of you, will be interested in.\"),\n",
       "   Document(page_content=\"And by understanding that, or perhaps by understanding that irritability and aggression are not the same thing, you'll be in a much better position to apply some of the tools that we will talk about in this episode in order to be able to reduce or eliminate, or if it's adaptive to you, to modulate aggression.\\nAnd yes, there are cases where modulating your aggression, in some cases, even amplifying aggression, can be adaptive.\\nNow, this, of course, is not the first discussion about the biology of aggression or the psychology of aggression.\\nAnd we really can look to the beginning of the last century as the time in which the formal study of aggression really began.\\nOne of the names that's most associated with the formal study of aggression is none other than Conrad Lorenz.\\nSome of you may be familiar with that name.\\nOthers of you may not be familiar with that name.\\nConrad Lorenz studied so-called imprinting behaviors and fixed action pattern behaviors.\\nHe's most famous, at least in scientific circles, for getting geese to believe that he was their parent.\\nAnd if you were to put into Google Conrad with a K, Lorenz, just as it sounds, Conrad Lorenz, geese, you're going to see a lot of photos of Conrad walking down roads with a lot of geese following him, or swimming in lakes with a lot of geese following him.\\nHe had a habit of geese adopting him because of the behaviors that he partook in.\\nSo he would swim out on a lake in front of a bunch of little geese, and then they would think that he was the parent, and they would imprint on him.\\nHe even lived with these animals, and they lived with him.\\nThat's a strange character from what I hear.\\nBut nonetheless, all this work was deserving of a Nobel Prize because what he discovered were fixed action patterns.\\nThat is, patterns of behavior that could be evoked by a single stimulus.\\nThis is really important.\"),\n",
       "   Document(page_content=\"Yes, there's some dose dependence, but I think if you're somebody who's trying to optimize your testosterone to estrogen ratio, regardless of whether or not you're male or female, well, then most certainly, you're going to want to avoid drinking too much alcohol.\\nSo we've covered a lot of topics and data related to the mechanisms of alcohol, hangover, tolerance, cancer risk, et cetera.\\nI acknowledge that I've mainly talked to you about the negative effects of alcohol.\\nI want to acknowledge that many people enjoy alcohol in moderation or even light drinking, the occasional drink or the occasional two drinks, or maybe even on average, one drink per night, so seven drinks per week.\\nI'm certainly not here to tell you what to do and what not to do.\\nI do find it immensely interesting, however, that first of all, alcohol is a known toxin to the cells of the body.\\nSome of you might immediately say, well, wait, what about hormesis? What about this phenomenon where if we regularly ingest a toxin, it makes us stronger.\\nIn other words, what doesn't kill us makes us stronger.\\nThere's some reason to believe that might be beneficial in terms of some forms of cellular resilience, maybe, maybe, no, sorry.\\nIt doesn't work that way.\\nThere are processes of hormesis in which, for instance, exposing yourself safely to increases in adrenaline through ice baths or other things that increase adrenaline can raise your so-called stress threshold.\\nBut here we're talking about cellular stress and damage to cells.\\nSo my read of the literature, and again, this is my read and I invite others to provide studies or I would prefer actually collections of studies that point in the direction, if they exist, that alcohol can be beneficial.\"),\n",
       "   Document(page_content=\"In the meantime, I want to point you to his recently released and wonderful book entitled The Nature of the Beast, How Emotions Guide Us.\\nAnd again, the author is David Anderson from Caltech.\\nThis is a wonderful book.\\nIt serves as a tremendous introduction to the history of the study of these areas, the current science and discoveries being made in these areas, all made accessible to the scientist and non-scientist alike.\\nIt's a very engaging read.\\nAnd so much so that even though he was gracious in sending me a copy, I also purchased myself a copy to give to somebody who is a therapist, and I've purchased another copy to give to a high school kid that I mentor because he's very interested in the neuroscience of emotions.\\nAnd I think we are all interested in emotions, not just fear and some of these negative states, not just aggression, but also the positive emotions of our lives.\\nAnd so The Nature of the Beast, How Emotions Guide Us by David Anderson is a wonderful read.\\nI can't recommend it highly enough.\\nIf you're learning from and or enjoying this podcast, please subscribe to our YouTube channel.\\nThat's a terrific, zero-cost way to support us.\\nIn addition, please subscribe to our podcast on Apple and Spotify.\\nAnd on Apple, you have the opportunity to leave us up to a five-star review.\\nAlso, if there are any episodes of the podcast that you particularly like, please share them with others.\\nAnd if you have suggestions about particular guests or topics that you'd like us to cover on the podcast, please put that in the comment section on YouTube.\\nWe do read all those comments.\\nPlease also check out the sponsors mentioned at the beginning of today's episode.\\nThat is the best way to support this podcast.\\nWe also have a Patreon.\\nIt's patreon.com slash Andrew Huberman.\\nAnd there you can support the podcast at any level that you like.\\nDuring today's episode and on many previous episodes of the Huberman Lab podcast, we discussed supplements.\")]]}"
      ]
     },
     "execution_count": 16,
     "metadata": {},
     "output_type": "execute_result"
    }
   ],
   "source": [
    "multivector_chain.invoke({\"question\": \"How to be a better husband?\"})"
   ]
  },
  {
   "cell_type": "code",
   "execution_count": 8,
   "metadata": {},
   "outputs": [],
   "source": [
    "res = multivector_chain.invoke({\"question\" : \"How much caffeine a day is the maximum limit?\"})"
   ]
  },
  {
   "cell_type": "code",
   "execution_count": 9,
   "metadata": {},
   "outputs": [
    {
     "data": {
      "text/plain": [
       "{'response': AIMessage(content='The maximum limit of caffeine intake per day mentioned in the context is 600 milligrams per day.', response_metadata={'token_usage': {'completion_tokens': 20, 'prompt_tokens': 2922, 'total_tokens': 2942}, 'model_name': 'gpt-3.5-turbo', 'system_fingerprint': 'fp_c2295e73ad', 'finish_reason': 'stop', 'logprobs': None}, id='run-2c17606e-9ace-4fd4-a90e-6edd613ffd03-0'),\n",
       " 'context': [[Document(page_content=\"We'll talk about the use of caffeine every other day.\\nI know for you habitual caffeine drinkers, including myself, just the simple mention of that probably sounds aversive, but there is actually great utility to using caffeine every other day as opposed to every day.\\nBut just keep in mind that some people will drink caffeine and not get much of a lift from it at all.\\nOther people will drink caffeine and they will feel extremely anxious, even at dosages far lower than that one to three milligrams per kilogram of body weight range that I described a moment ago.\\nSo you have to take into account individual differences.\\nThat said, one to three milligrams of caffeine per kilogram of body weight for a given sitting, for your morning coffee or your morning yerba mate tea is a good range from which to start.\\nAnd I do encourage you to go online and look up the various beverages and foods that you might be eating that contain caffeine.\\nFor instance, some people are surprised to discover that the coffee that they get from some of the more standard popular vendors out there, the small coffee or the medium coffee, for instance, can contain as much as 400 to 600 milligrams of caffeine.\\nAnd that the large coffee that is often sold at those commercial vendors can contain as much as one gram, 1,000 milligrams of caffeine.\\nNow you may be adapted to that such that it doesn't make you feel anxious.\\nBut if you wonder why you feel irritable and you get a headache when you don't get that caffeine or that amount of caffeine at precisely the time that you're used to getting it each day, that's because you are consuming quite large quantities of caffeine on a regular basis.\\nSo I do recommend whether or not you drink soda or coffee or tea that you figure out the source of that.\\nOkay, so figure out what vendor you purchase it from, what kind of coffee and go online and spend a little bit of time because the information is out there to discover what levels of caffeine you're actually ingesting.\"),\n",
       "   Document(page_content=\"And I should mention this study, they use this 300 milligrams per day or 600 milligrams per day.\\nSo that's quite high, although for people of sufficient body weight and who are accustomed to taking caffeine, it's certainly not going to be in excess of what a lot of people out there are taking.\\nBut basically what they observed was the following.\\nCortisol responses to caffeine are reduced, but not eliminated in people who consume caffeine on a daily basis.\\nWhat this means is that if you wake up and as I recommended earlier, you avoid drinking caffeine for the first 90 to 120 minutes after waking, but you do get some sunlight or other bright light in your eyes in that time, maybe even get some exercise in that time, which would be even better.\\nAnd then you ingest caffeine, you will get a further increase in cortisol, which provided it's restricted to the early part of the day is a good thing overall for mood and alertness.\\nSo this is a simple performance enhancing tool, which is to stack caffeine on the tail of that early cortisol peak.\\nI should also mention, however, that in this study, they had people do a five-day caffeine abstinence prior to being tested with 300 milligrams or 600 milligrams of caffeine.\\nSo the simple tool to extract from this and other studies like it, is that if you want to experience the maximum alertness promoting effects of caffeine, when you ingest it early in the day, you would abstain from caffeine for five days and then ingest caffeine 90 to 120 minutes after waking.\\nI would still hope that you were doing all the other things that I described, morning, sunlight, exercise, et cetera, correctly, but regardless, it's very clear that a five-day abstinence from caffeine, however painful that might be, will increase the performance enhancing effects of caffeine when you take caffeine on that sixth day.\"),\n",
       "   Document(page_content=\"So what I recommend is that people who are considering using caffeine as a tool, or who are already ingesting caffeine, start to think about the dosage of caffeine that you are ingesting or plan to ingest, and the timing in which you ingest that caffeine relative to certain tasks throughout your day, your waking and your sleep.\\nAnd we'll talk about that in just a moment.\\nBut the first step for you is to figure out how much you weigh in kilograms, and then to go to that number of one to three milligrams of caffeine per kilogram of body weight.\\nAnd that's a good range in which you might want to explore the use of caffeine in a single application, meaning in a single dose.\\nNow, I do realize that some people out there are drinking coffee all day long, or having coffee in the morning, and then again in the afternoon.\\nWhat I'm referring to here is the ingestion of caffeine in a single bout, right? One cup of coffee, or two cups of coffee, for instance, to achieve that 100 to 300 milligram range, if that's what's appropriate for your body weight.\\nBut to avoid any confusion, when I talk about dosage of caffeine, what I'm really talking about is not the total amount of caffeine ingested per day.\\nI'm talking about the total amount of caffeine ingested in one sitting, or setting, that is.\\nAnd if you're somebody who's drinking caffeine multiple times throughout the day, you could imagine, for instance, let's say the appropriate dose for you in order to get an enhancement in mental performance or physical performance is 200 milligrams, and you are somebody who's doing some work in the morning, and you want to have that lift in the morning to be able to focus better, and you're doing some physical exercise in the afternoon, or vice versa, that you would ingest 200 milligrams of caffeine at two separate times per day, separated by about four hours.\\nNow, you don't have to separate them.\"),\n",
       "   Document(page_content=\"Now, I'm sure many of you out there are saying, why would I ever want to abstain from caffeine for five days in order to just get this six-day performance enhancing effect? Well, there are a couple of reasons for doing that.\\nPerhaps you're planning to travel to a new time zone and you want to use caffeine as a stimulant to stay up during the day in the new time zone.\\nThat's a somewhat unusual case.\\nOthers of you might be interested in the pro-physical performance effects of caffeine.\\nWe'll talk more about these in a little bit, but you want to get the maximum strength increase or the maximum endurance increase from ingesting, in this case, 300 to 600 milligrams of caffeine.\\nWell, in that case, abstaining from caffeine for five days will greatly exacerbate the pro-performance effects of caffeine when you take it on that sixth day.\\nAlthough, admittedly, those five days are likely to be pretty painful if you're a regular caffeine user.\\nAnother variation on this, however, might be to have the amount of caffeine that you ingest on a daily basis and then go back to your regular level of caffeine intake on that day in which you need the caffeine to really boost your mood, energy, and performance.\\nAnother reason why you might want to abstain from caffeine or reduce your caffeine intake for a period of time and then go back to your regular caffeine intake is simply to identify how much of an effect caffeine is really having on your overall level of daily functioning and mood.\\nThis was something that was actually covered in beautiful detail in a book by Michael Pollan, All About Caffeine.\\nIt's available on Audible.\\nI really enjoyed that book.\\nIt describes his experience with the decision to completely abstain from caffeine for a period of months.\"),\n",
       "   Document(page_content=\"So this is all just to say that caffeine is an incredible performance enhancing tool.\\nNow, what's not obvious from the statement that caffeine is a performance enhancing tool across the board and in men and women and in different contexts is that the way in which caffeine is taken is very important.\\nBecause 90% or more of adults consume caffeine, finding controls for studies of caffeine is really challenging.\\nThat is finding people who don't ingest caffeine regularly is a very challenging task for the researcher.\\nAnd as a consequence, many of the studies of caffeine on human beings involve depriving regular caffeine users of caffeine and then examining the effects of caffeine given after a period of say five to 15 days of abstinence in a person that is essentially experiencing mild withdrawal symptoms because they haven't had the caffeine that they were used to getting.\\nSo this is an important point.\\nAnd it's a point that likely exacerbates the observed pro-performance effects of caffeine.\\nNow, all of that isn't necessarily a problem provided you keep it in mind.\\nAnd it actually points to a way in which even if you're a regular caffeine user, you can extract more of the benefits of caffeine.\\nThe simplest way to do this, for instance, is to look back to what we talked about earlier in terms of the need to have most of your cortisol increase restricted to the hour or hours just after waking in terms of mood and alertness and performance.\\nOne of the ways to increase the peak of that cortisol early in the day is to consume caffeine shortly after that peak occurs.\\nAnd this was really nicely demonstrated in a study entitled caffeine stimulation of cortisol secretion across the waking hours in relation to caffeine intake levels.\\nWe will provide a link to this study.\\nIt's a somewhat complicated study because they looked at a bunch of different times of day for caffeine intake.\\nAnd I should mention this study, they use this 300 milligrams per day or 600 milligrams per day.\"),\n",
       "   Document(page_content=\"Now, if you happen to be ingesting more than one to three milligrams per kilogram of body weight of caffeine, that's not necessarily bad.\\nHowever, you do want to be careful about ingesting very high levels of caffeine over long periods of time in your life because there can be issues that start to arise in particular, a bias towards higher levels of anxiety and depletion of certain electrolytes because caffeine is a diuretic can cause you to lose sodium and other things of that sort.\\nAnd also just from simply a dependent standpoint, it does appear that if you ingest high levels of caffeine that is exceeding the dosages that normally you could get away with and get just as much mental enhancing and physical enhancing benefits that you can cause some disruption to the microvasculature.\\nYou can bias yourself towards headaches, anxiety attacks and you can become actually quite irritable when you're not getting those higher levels of caffeine.\\nSo I do encourage you to figure out not just what an appropriate caffeine dosage would be for you, but also how much caffeine you might already be ingesting.\\nThe first tool I'd like to talk about is one that I've mentioned before on this podcast several times.\\nAnd it's something that if you haven't heard of will be very useful to you.\\nAnd if you have heard this tool before, I'm going to add some additional features to the description of this tool that should make this worthwhile for you as well.\\nAnd that is to delay your caffeine intake to 90 to 120 minutes after waking up on most days.\\nAnd I'll be very clear as to days in which you might want to ingest caffeine more closely to when you wake up.\\nWhy would you want to delay your caffeine intake to 90 to 120 minutes after waking? The answer to that is very simple.\\nMany people wake up in the morning, they drink caffeine within 10, 20, 30, sometimes within two minutes of waking and they feel more alert naturally.\"),\n",
       "   Document(page_content=\"Now, you don't have to separate them.\\nYou could put them two hours apart, for instance, but we'll talk about half-life of caffeine and so forth.\\nJust keep in mind that if you're ingesting 200 milligrams of caffeine, and that's the appropriate dose for you based on your body weight, and then you are ingesting another 200 milligrams of caffeine an hour later, you are effectively ingesting approximately 400 milligrams of caffeine, which is going to start exceeding the dose in which you can normally tolerate without feeling anxious and jittery.\\nWith all of that said, there is a range of tolerance for caffeine that's based on two things.\\nOne is a pre-existing disposition, that is whether or not your genetics and nervous system and the backdrop of your life, how much stress you're experiencing, tends to make you feel more anxious and alert and jittery before you ingest any caffeine.\\nAnd the other is how so-called caffeine adapted you are.\\nWe often hear about tolerance.\\nTolerance means something very specific.\\nIt's the ability to ingest more and more of something with a plateau that is a no increase or an actual reduction in the effectiveness of that thing.\\nBut here, we're not really talking about tolerance to caffeine.\\nWhat we're talking about is being caffeine adapted.\\nA simple way to understand whether or not you're caffeine adapted or not is that if you drink caffeine and it tends to increase your heart rate and make you feel more alert and a bit more anxious, then chances are you are not caffeine adapted, provided the amount of caffeine is within the healthy range for you, that is, the ranges we talked about a moment ago.\\nHowever, if you're somebody who drinks caffeine and you actually feel alert and relaxed, chances are you are caffeine adapted.\\nAnd so at various times during today's episode, I'll talk about people who are caffeine adapted and people who are not caffeine adapted.\\nWe'll talk about the use of caffeine every other day.\")]]}"
      ]
     },
     "execution_count": 9,
     "metadata": {},
     "output_type": "execute_result"
    }
   ],
   "source": [
    "res"
   ]
  }
 ],
 "metadata": {
  "kernelspec": {
   "display_name": "huberman-rag-fdQcU6Ve-py3.11",
   "language": "python",
   "name": "python3"
  },
  "language_info": {
   "codemirror_mode": {
    "name": "ipython",
    "version": 3
   },
   "file_extension": ".py",
   "mimetype": "text/x-python",
   "name": "python",
   "nbconvert_exporter": "python",
   "pygments_lexer": "ipython3",
   "version": "3.11.5"
  }
 },
 "nbformat": 4,
 "nbformat_minor": 2
}
