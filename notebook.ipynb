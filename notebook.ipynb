{
 "cells": [
  {
   "cell_type": "code",
   "execution_count": null,
   "metadata": {},
   "outputs": [],
   "source": [
    "from src.youtube_loader import load_from_youtube\n",
    "from src.bge_embeddigns import bge_embeddings\n",
    "from src.splade_embeddings import embed_splade\n",
    "from src.document_splitting import text_splitter\n",
    "from src.vectorstore import jsonize_document\n",
    "#doc = load_from_youtube(\"https://www.youtube.com/watch?v=tkH2-_jMCSk\")\n",
    "doc = load_from_youtube(\"https://www.youtube.com/watch?v=CQlTmOFM4Qs\")"
   ]
  },
  {
   "cell_type": "code",
   "execution_count": null,
   "metadata": {},
   "outputs": [],
   "source": [
    "doc[0].page_content"
   ]
  },
  {
   "cell_type": "code",
   "execution_count": null,
   "metadata": {},
   "outputs": [],
   "source": [
    "from langchain_text_splitters import RecursiveCharacterTextSplitter\n",
    "\n",
    "text_splitter = RecursiveCharacterTextSplitter(\n",
    "    chunk_size=2000,\n",
    "    chunk_overlap=100,\n",
    "    #separators=[\"\\n\", \".\",]\n",
    "   # length_function=len,\n",
    "   # is_separator_regex=True,\n",
    ")\n",
    "texts = text_splitter.split_documents(doc)\n",
    "\n"
   ]
  },
  {
   "cell_type": "code",
   "execution_count": null,
   "metadata": {},
   "outputs": [],
   "source": [
    "texts"
   ]
  },
  {
   "cell_type": "code",
   "execution_count": null,
   "metadata": {},
   "outputs": [],
   "source": [
    "for i in texts:\n",
    "    print(len(i.page_content))"
   ]
  },
  {
   "cell_type": "code",
   "execution_count": null,
   "metadata": {},
   "outputs": [],
   "source": [
    "txts = texts[:5]\n",
    "jsons = []\n",
    "from tqdm import tqdm\n",
    "\n",
    "for i in tqdm(texts, desc=\"Processing texts\"):\n",
    "    json = jsonize_document(i)\n",
    "    jsons.append(json)"
   ]
  },
  {
   "cell_type": "code",
   "execution_count": null,
   "metadata": {},
   "outputs": [],
   "source": [
    "jsons"
   ]
  },
  {
   "cell_type": "code",
   "execution_count": null,
   "metadata": {},
   "outputs": [],
   "source": [
    "rows = {\"rows\": jsons}"
   ]
  },
  {
   "cell_type": "code",
   "execution_count": null,
   "metadata": {},
   "outputs": [],
   "source": [
    "import json\n",
    "with open('jsons.json', 'w') as file:\n",
    "    json.dump(jsons, file, indent=4)"
   ]
  },
  {
   "cell_type": "code",
   "execution_count": null,
   "metadata": {},
   "outputs": [],
   "source": [
    "import json\n",
    "with open('rows.json', 'w') as file:\n",
    "    json.dump(rows, file, indent=4)"
   ]
  },
  {
   "cell_type": "code",
   "execution_count": null,
   "metadata": {},
   "outputs": [],
   "source": [
    "import pandas as pd\n",
    "\n",
    "df = pd.read_json(\"/home/damir/Projects/huberman_rag/jsons.json\")\n",
    "df['pk'] = df.index\n",
    "df.to_csv(\"dataframe.csv\", index=False)"
   ]
  },
  {
   "cell_type": "code",
   "execution_count": null,
   "metadata": {},
   "outputs": [],
   "source": [
    "df.columns"
   ]
  },
  {
   "cell_type": "code",
   "execution_count": null,
   "metadata": {},
   "outputs": [],
   "source": [
    "from pymilvus import (\n",
    "    connections, \n",
    "    FieldSchema,\n",
    "    CollectionSchema,\n",
    "    DataType,\n",
    "    Collection,\n",
    "    MilvusClient\n",
    "    )\n",
    "\n",
    "client = MilvusClient(\n",
    "    uri=\"http://localhost:19530\"\n",
    ")\n",
    "# Specify Milvus server parameters\n",
    "host = \"127.0.0.1\"  # Milvus server host\n",
    "port = \"19530\"  # Milvus server port\n",
    "\n",
    "# Connect to Milvus server\n",
    "connections.connect(host=host, port=port)\n",
    "# Define field schemas\n",
    "pk = FieldSchema(name=\"pk\", dtype=DataType.INT64,\n",
    "                 is_primary=True, auto_id=False)\n",
    "bge_embeddings = FieldSchema(\n",
    "    name=\"bge_embeddings\", dtype=DataType.FLOAT_VECTOR, dim=1024)\n",
    "splade_embeddings = FieldSchema(\n",
    "        name=\"splade_embeddings\", dtype=DataType.FLOAT_VECTOR, dim=30522)\n",
    "source = FieldSchema(name=\"source\", dtype=DataType.VARCHAR, max_length=500)\n",
    "page_content = FieldSchema(name=\"page_content\", dtype=DataType.VARCHAR, max_length=3000)\n",
    "title = FieldSchema(name=\"title\", dtype=DataType.VARCHAR, max_length=500)\n",
    "description = FieldSchema(name=\"description\", dtype=DataType.VARCHAR, max_length=500)\n",
    "view_count = FieldSchema(name=\"view_count\", dtype=DataType.INT64)\n",
    "thumbnail_url = FieldSchema(name=\"thumbnail_url\", dtype=DataType.VARCHAR, max_length=500)\n",
    "publish_date = FieldSchema(name=\"publish_date\", dtype=DataType.VARCHAR, max_length=500)\n",
    "length = FieldSchema(name=\"length\", dtype=DataType.VARCHAR, max_length=500)\n",
    "author = FieldSchema(name=\"author\", dtype=DataType.VARCHAR, max_length=500)\n",
    "\n",
    "# Define collection schema\n",
    "schema = CollectionSchema(fields=[pk, bge_embeddings, splade_embeddings, source, page_content, title, description,\n",
    "                                  view_count, thumbnail_url, publish_date, length, author]y)\n",
    "\n",
    "# Create collection\n",
    "collection_name = \"huberman_rag\"\n",
    "collection = Collection(name=collection_name, schema=schema,)\n",
    "\n",
    "\n",
    "index_params = MilvusClient.prepare_index_params()\n",
    "\n",
    "index_params.add_index(\n",
    "    field_name=\"bge_embeddings\",\n",
    "    metric_type=\"IP\",\n",
    "    index_type=\"HNSW\",\n",
    "    index_name=\"bge_embeddings_index\",\n",
    "    efConstruction=500,\n",
    "    M=2048\n",
    ")\n",
    "\n",
    "index_params.add_index(\n",
    "    field_name=\"splade_embeddings\",\n",
    "    metric_type=\"IP\",\n",
    "    index_type=\"HNSW\",\n",
    "    index_name=\"splade_embeddings_index\",\n",
    "    efConstruction=500,\n",
    "    M=2048\n",
    ")\n",
    "\n",
    "client.create_index(\n",
    "    collection_name=\"huberman_rag\",\n",
    "    index_params=index_params\n",
    ")\n"
   ]
  }
 ],
 "metadata": {
  "kernelspec": {
   "display_name": "huberman-rag-fdQcU6Ve-py3.11",
   "language": "python",
   "name": "python3"
  },
  "language_info": {
   "codemirror_mode": {
    "name": "ipython",
    "version": 3
   },
   "file_extension": ".py",
   "mimetype": "text/x-python",
   "name": "python",
   "nbconvert_exporter": "python",
   "pygments_lexer": "ipython3",
   "version": "3.11.5"
  }
 },
 "nbformat": 4,
 "nbformat_minor": 2
}
