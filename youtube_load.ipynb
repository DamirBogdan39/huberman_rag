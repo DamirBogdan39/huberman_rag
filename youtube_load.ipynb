{
 "cells": [
  {
   "cell_type": "code",
   "execution_count": 2,
   "metadata": {},
   "outputs": [],
   "source": [
    "from langchain.document_loaders.blob_loaders.youtube_audio import YoutubeAudioLoader\n",
    "\n",
    "urls = [\n",
    "    \"https://www.youtube.com/watch?v=iw97uvIge7c\",\n",
    "    \"https://www.youtube.com/watch?v=DkS1pkKpILY\",\n",
    "    \"https://www.youtube.com/watch?v=eIxVfln02Ss\",\n",
    "]\n",
    "\n",
    "save_dir = \"docs/youtube/\"\n",
    "\n",
    "\n",
    "loader = YoutubeAudioLoader([urls], save_dir)\n",
    "blob = loader.yield_blobs()"
   ]
  },
  {
   "cell_type": "code",
   "execution_count": 4,
   "metadata": {},
   "outputs": [
    {
     "name": "stdout",
     "output_type": "stream",
     "text": [
      "[youtube] Extracting URL: https://www.youtube.com/watch?v=iw97uvIge7c\n",
      "[youtube] iw97uvIge7c: Downloading webpage\n",
      "[youtube] iw97uvIge7c: Downloading ios player API JSON\n",
      "[youtube] iw97uvIge7c: Downloading android player API JSON\n",
      "[youtube] iw97uvIge7c: Downloading m3u8 information\n",
      "[info] iw97uvIge7c: Downloading 1 format(s): 140\n",
      "[download] Destination: docs/youtube//Using Caffeine to Optimize Mental & Physical Performance ｜ Huberman Lab Podcast 101.m4a\n",
      "[download] 100% of  132.05MiB in 00:00:47 at 2.79MiB/s     \n",
      "[FixupM4a] Correcting container of \"docs/youtube//Using Caffeine to Optimize Mental & Physical Performance ｜ Huberman Lab Podcast 101.m4a\"\n",
      "[ExtractAudio] Not converting audio docs/youtube//Using Caffeine to Optimize Mental & Physical Performance ｜ Huberman Lab Podcast 101.m4a; file is already in target format m4a\n",
      "[youtube] Extracting URL: https://www.youtube.com/watch?v=DkS1pkKpILY\n",
      "[youtube] DkS1pkKpILY: Downloading webpage\n",
      "[youtube] DkS1pkKpILY: Downloading ios player API JSON\n",
      "[youtube] DkS1pkKpILY: Downloading android player API JSON\n",
      "[youtube] DkS1pkKpILY: Downloading m3u8 information\n",
      "[info] DkS1pkKpILY: Downloading 1 format(s): 140\n",
      "[download] Destination: docs/youtube//What Alcohol Does to Your Body, Brain & Health ｜ Huberman Lab Podcast #86.m4a\n",
      "[download] 100% of  112.08MiB in 00:00:39 at 2.83MiB/s     \n",
      "[FixupM4a] Correcting container of \"docs/youtube//What Alcohol Does to Your Body, Brain & Health ｜ Huberman Lab Podcast #86.m4a\"\n",
      "[ExtractAudio] Not converting audio docs/youtube//What Alcohol Does to Your Body, Brain & Health ｜ Huberman Lab Podcast #86.m4a; file is already in target format m4a\n",
      "[youtube] Extracting URL: https://www.youtube.com/watch?v=eIxVfln02Ss\n",
      "[youtube] eIxVfln02Ss: Downloading webpage\n",
      "[youtube] eIxVfln02Ss: Downloading ios player API JSON\n",
      "[youtube] eIxVfln02Ss: Downloading android player API JSON\n",
      "[youtube] eIxVfln02Ss: Downloading m3u8 information\n",
      "[info] eIxVfln02Ss: Downloading 1 format(s): 140\n",
      "[download] Destination: docs/youtube//How Psilocybin Can Rewire Our Brain, Its Therapeutic Benefits & Its Risks ｜ Huberman Lab Podcast.m4a\n",
      "[download] 100% of  119.48MiB in 00:01:06 at 1.80MiB/s   \n",
      "[FixupM4a] Correcting container of \"docs/youtube//How Psilocybin Can Rewire Our Brain, Its Therapeutic Benefits & Its Risks ｜ Huberman Lab Podcast.m4a\"\n",
      "[ExtractAudio] Not converting audio docs/youtube//How Psilocybin Can Rewire Our Brain, Its Therapeutic Benefits & Its Risks ｜ Huberman Lab Podcast.m4a; file is already in target format m4a\n",
      "data=None mimetype='audio/mp4' encoding='utf-8' path=PosixPath('docs/youtube/Oral Health Protocols.m4a') metadata={}\n",
      "data=None mimetype='audio/mp4' encoding='utf-8' path=PosixPath('docs/youtube/What Alcohol Does to Your Body, Brain & Health ｜ Huberman Lab Podcast #86.m4a') metadata={}\n",
      "data=None mimetype='audio/mp4' encoding='utf-8' path=PosixPath('docs/youtube/Using Caffeine to Optimize Mental & Physical Performance ｜ Huberman Lab Podcast 101.m4a') metadata={}\n",
      "data=None mimetype='audio/mp4' encoding='utf-8' path=PosixPath('docs/youtube/How Psilocybin Can Rewire Our Brain, Its Therapeutic Benefits & Its Risks ｜ Huberman Lab Podcast.m4a') metadata={}\n",
      "data=None mimetype='audio/mp4' encoding='utf-8' path=PosixPath('docs/youtube/AMA #2： Improve Sleep, Reduce Sugar Cravings, Optimal Protein Intake, Stretching Frequency & More.m4a') metadata={}\n"
     ]
    }
   ],
   "source": [
    "for bl in blob:\n",
    "    print(bl)"
   ]
  },
  {
   "cell_type": "code",
   "execution_count": 2,
   "metadata": {},
   "outputs": [],
   "source": [
    "from langchain.document_loaders.blob_loaders.youtube_audio import YoutubeAudioLoader\n",
    "\n",
    "urls = [\n",
    "    \"https://www.youtube.com/watch?v=RBK5KLA5Jjg\"\n",
    "]\n",
    "\n",
    "save_dir = \"docs/youtube/\"\n",
    "\n",
    "\n",
    "loader = YoutubeAudioLoader([urls], save_dir)\n",
    "blob = loader.yield_blobs()"
   ]
  },
  {
   "cell_type": "code",
   "execution_count": 3,
   "metadata": {},
   "outputs": [
    {
     "name": "stdout",
     "output_type": "stream",
     "text": [
      "[youtube] Extracting URL: https://www.youtube.com/watch?v=RBK5KLA5Jjg\n",
      "[youtube] RBK5KLA5Jjg: Downloading webpage\n",
      "[youtube] RBK5KLA5Jjg: Downloading ios player API JSON\n",
      "[youtube] RBK5KLA5Jjg: Downloading android player API JSON\n",
      "[youtube] RBK5KLA5Jjg: Downloading m3u8 information\n",
      "[info] RBK5KLA5Jjg: Downloading 1 format(s): 140\n",
      "[download] Destination: docs/youtube//Understanding & Controlling Aggression ｜ Huberman Lab Podcast #71.m4a\n",
      "[download] 100% of   84.16MiB in 00:01:05 at 1.29MiB/s      \n",
      "[FixupM4a] Correcting container of \"docs/youtube//Understanding & Controlling Aggression ｜ Huberman Lab Podcast #71.m4a\"\n",
      "[ExtractAudio] Not converting audio docs/youtube//Understanding & Controlling Aggression ｜ Huberman Lab Podcast #71.m4a; file is already in target format m4a\n",
      "data=None mimetype='audio/mp4' encoding='utf-8' path=PosixPath('docs/youtube/What Alcohol Does to Your Body, Brain & Health ｜ Huberman Lab Podcast #86.m4a') metadata={}\n",
      "data=None mimetype='audio/mp4' encoding='utf-8' path=PosixPath('docs/youtube/Using Caffeine to Optimize Mental & Physical Performance ｜ Huberman Lab Podcast 101.m4a') metadata={}\n",
      "data=None mimetype='audio/mp4' encoding='utf-8' path=PosixPath('docs/youtube/Understanding & Controlling Aggression ｜ Huberman Lab Podcast #71.m4a') metadata={}\n",
      "data=None mimetype='audio/mp4' encoding='utf-8' path=PosixPath('docs/youtube/How Psilocybin Can Rewire Our Brain, Its Therapeutic Benefits & Its Risks ｜ Huberman Lab Podcast.m4a') metadata={}\n",
      "data=None mimetype='audio/mp4' encoding='utf-8' path=PosixPath('docs/youtube/AMA #2： Improve Sleep, Reduce Sugar Cravings, Optimal Protein Intake, Stretching Frequency & More.m4a') metadata={}\n"
     ]
    }
   ],
   "source": [
    "for bl in blob:\n",
    "    print(bl)"
   ]
  },
  {
   "cell_type": "code",
   "execution_count": 5,
   "metadata": {},
   "outputs": [
    {
     "name": "stdout",
     "output_type": "stream",
     "text": [
      "[youtube] Extracting URL: https://www.youtube.com/watch?v=tkH2-_jMCSk\n",
      "[youtube] tkH2-_jMCSk: Downloading webpage\n",
      "[youtube] tkH2-_jMCSk: Downloading ios player API JSON\n",
      "[youtube] tkH2-_jMCSk: Downloading android player API JSON\n",
      "[youtube] tkH2-_jMCSk: Downloading m3u8 information\n",
      "[info] tkH2-_jMCSk: Downloading 1 format(s): 140\n",
      "[download] Destination: docs/youtube//Improve Flexibility with Research-Supported Stretching Protocols ｜ Huberman Lab Podcast #76.m4a\n",
      "[download] 100% of  116.82MiB in 00:00:58 at 2.01MiB/s     \n",
      "[FixupM4a] Correcting container of \"docs/youtube//Improve Flexibility with Research-Supported Stretching Protocols ｜ Huberman Lab Podcast #76.m4a\"\n",
      "[ExtractAudio] Not converting audio docs/youtube//Improve Flexibility with Research-Supported Stretching Protocols ｜ Huberman Lab Podcast #76.m4a; file is already in target format m4a\n",
      "data=None mimetype='audio/mp4' encoding='utf-8' path=PosixPath('docs/youtube/Improve Flexibility with Research-Supported Stretching Protocols ｜ Huberman Lab Podcast #76.m4a') metadata={}\n",
      "data=None mimetype='audio/mp4' encoding='utf-8' path=PosixPath('docs/youtube/What Alcohol Does to Your Body, Brain & Health ｜ Huberman Lab Podcast #86.m4a') metadata={}\n",
      "data=None mimetype='audio/mp4' encoding='utf-8' path=PosixPath('docs/youtube/Using Caffeine to Optimize Mental & Physical Performance ｜ Huberman Lab Podcast 101.m4a') metadata={}\n",
      "data=None mimetype='audio/mp4' encoding='utf-8' path=PosixPath('docs/youtube/Understanding & Controlling Aggression ｜ Huberman Lab Podcast #71.m4a') metadata={}\n",
      "data=None mimetype='audio/mp4' encoding='utf-8' path=PosixPath('docs/youtube/How Psilocybin Can Rewire Our Brain, Its Therapeutic Benefits & Its Risks ｜ Huberman Lab Podcast.m4a') metadata={}\n",
      "data=None mimetype='audio/mp4' encoding='utf-8' path=PosixPath('docs/youtube/AMA #2： Improve Sleep, Reduce Sugar Cravings, Optimal Protein Intake, Stretching Frequency & More.m4a') metadata={}\n"
     ]
    }
   ],
   "source": [
    "for bl in blob:\n",
    "    print(bl)"
   ]
  },
  {
   "cell_type": "code",
   "execution_count": 6,
   "metadata": {},
   "outputs": [],
   "source": [
    "from langchain.document_loaders.blob_loaders.youtube_audio import YoutubeAudioLoader\n",
    "\n",
    "urls = [\n",
    "    \"https://www.youtube.com/watch?v=RBK5KLA5Jjg\"\n",
    "]\n",
    "\n",
    "save_dir = \"docs/youtube/\"\n",
    "\n",
    "\n",
    "loader = YoutubeAudioLoader([urls], save_dir)\n",
    "blob = loader.yield_blobs()"
   ]
  },
  {
   "cell_type": "code",
   "execution_count": 7,
   "metadata": {},
   "outputs": [
    {
     "name": "stdout",
     "output_type": "stream",
     "text": [
      "[youtube] Extracting URL: https://www.youtube.com/watch?v=RBK5KLA5Jjg\n",
      "[youtube] RBK5KLA5Jjg: Downloading webpage\n",
      "[youtube] RBK5KLA5Jjg: Downloading ios player API JSON\n",
      "[youtube] RBK5KLA5Jjg: Downloading android player API JSON\n",
      "[youtube] RBK5KLA5Jjg: Downloading m3u8 information\n",
      "[info] RBK5KLA5Jjg: Downloading 1 format(s): 140\n",
      "[download] docs/youtube//Understanding & Controlling Aggression ｜ Huberman Lab Podcast #71.m4a has already been downloaded\n",
      "[download] 100% of   84.10MiB\n",
      "[ExtractAudio] Not converting audio docs/youtube//Understanding & Controlling Aggression ｜ Huberman Lab Podcast #71.m4a; file is already in target format m4a\n",
      "data=None mimetype='audio/mp4' encoding='utf-8' path=PosixPath('docs/youtube/Improve Flexibility with Research-Supported Stretching Protocols ｜ Huberman Lab Podcast #76.m4a') metadata={}\n",
      "data=None mimetype='audio/mp4' encoding='utf-8' path=PosixPath('docs/youtube/What Alcohol Does to Your Body, Brain & Health ｜ Huberman Lab Podcast #86.m4a') metadata={}\n",
      "data=None mimetype='audio/mp4' encoding='utf-8' path=PosixPath('docs/youtube/Using Caffeine to Optimize Mental & Physical Performance ｜ Huberman Lab Podcast 101.m4a') metadata={}\n",
      "data=None mimetype='audio/mp4' encoding='utf-8' path=PosixPath('docs/youtube/Understanding & Controlling Aggression ｜ Huberman Lab Podcast #71.m4a') metadata={}\n",
      "data=None mimetype='audio/mp4' encoding='utf-8' path=PosixPath('docs/youtube/How Psilocybin Can Rewire Our Brain, Its Therapeutic Benefits & Its Risks ｜ Huberman Lab Podcast.m4a') metadata={}\n",
      "data=None mimetype='audio/mp4' encoding='utf-8' path=PosixPath('docs/youtube/AMA #2： Improve Sleep, Reduce Sugar Cravings, Optimal Protein Intake, Stretching Frequency & More.m4a') metadata={}\n"
     ]
    }
   ],
   "source": [
    "for bl in blob:\n",
    "    print(bl)"
   ]
  }
 ],
 "metadata": {
  "kernelspec": {
   "display_name": "huberman-rag-fdQcU6Ve-py3.11",
   "language": "python",
   "name": "python3"
  },
  "language_info": {
   "codemirror_mode": {
    "name": "ipython",
    "version": 3
   },
   "file_extension": ".py",
   "mimetype": "text/x-python",
   "name": "python",
   "nbconvert_exporter": "python",
   "pygments_lexer": "ipython3",
   "version": "3.11.5"
  }
 },
 "nbformat": 4,
 "nbformat_minor": 2
}
