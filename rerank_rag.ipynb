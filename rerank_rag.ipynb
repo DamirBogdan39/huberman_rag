{
 "cells": [
  {
   "cell_type": "markdown",
   "metadata": {},
   "source": [
    "Notebook that contains the code for the reranker RAG pipeline."
   ]
  },
  {
   "cell_type": "code",
   "execution_count": 1,
   "metadata": {},
   "outputs": [
    {
     "name": "stderr",
     "output_type": "stream",
     "text": [
      "/home/damir/.cache/pypoetry/virtualenvs/huberman-rag-fdQcU6Ve-py3.11/lib/python3.11/site-packages/tqdm/auto.py:21: TqdmWarning: IProgress not found. Please update jupyter and ipywidgets. See https://ipywidgets.readthedocs.io/en/stable/user_install.html\n",
      "  from .autonotebook import tqdm as notebook_tqdm\n"
     ]
    }
   ],
   "source": [
    "from src.vectorstore import connect_to_milvus, activate_collection\n",
    "from src.retrievers import MilvusRerankRetriever\n",
    "\n",
    "import os\n",
    "from dotenv import load_dotenv"
   ]
  },
  {
   "cell_type": "code",
   "execution_count": 4,
   "metadata": {},
   "outputs": [],
   "source": [
    "from langchain_core.runnables import RunnablePassthrough\n",
    "from operator import itemgetter\n",
    "from langchain_core.output_parsers import StrOutputParser\n",
    "from langchain_core.prompts import ChatPromptTemplate\n",
    "from langchain_openai import ChatOpenAI"
   ]
  },
  {
   "cell_type": "code",
   "execution_count": null,
   "metadata": {},
   "outputs": [],
   "source": [
    "connect_to_milvus()\n",
    "collection = activate_collection()\n",
    "collection.load()"
   ]
  },
  {
   "cell_type": "code",
   "execution_count": 2,
   "metadata": {},
   "outputs": [],
   "source": [
    "load_dotenv()\n",
    "OPENAI_API_KEY = os.getenv(\"OPENAI_API_KEY\")\n",
    "COHERE_API_KEY = os.getenv(\"COHERE_API_KEY\")"
   ]
  },
  {
   "cell_type": "code",
   "execution_count": 3,
   "metadata": {},
   "outputs": [],
   "source": [
    "rerank_retriever = MilvusRerankRetriever()"
   ]
  },
  {
   "cell_type": "code",
   "execution_count": 10,
   "metadata": {},
   "outputs": [],
   "source": [
    "# Template\n",
    "\n",
    "\"\"\"If you do not have the answer in the CONTEXT write \"I don't know\".\n",
    "Do not make things up. Do not fabricate facts. \"\"\"\n",
    "RAG_TEMPLATE = \"\"\"\\\n",
    "You are a Huberman Lab podcast listener. \n",
    "You will be provided a CONTEXT of the podcasts and a QUESTION.\n",
    "Based on the CONTEXT answer the QUESTION.\n",
    "\n",
    "\n",
    "Context:\n",
    "{context}\n",
    "\n",
    "Query:\n",
    "{question}\n",
    "\"\"\"\n",
    "\n",
    "rag_prompt = ChatPromptTemplate.from_template(RAG_TEMPLATE)\n",
    "\n",
    "# Setup a chat model\n",
    "chat_model = ChatOpenAI()\n",
    "# Setup a retriever\n",
    "retriever = MilvusRerankRetriever()\n",
    "\n",
    "# Setup a chain\n",
    "rerank_chain = (\n",
    "    # INVOKE CHAIN WITH: {\"question\" : \"<<SOME USER QUESTION>>\"}\n",
    "    # \"question\" : populated by getting the value of the \"question\" key\n",
    "    # \"context\"  : populated by getting the value of the \"question\" key and chaining it into the base_retriever\n",
    "    {\"context\": itemgetter(\"question\") | retriever, \"question\": itemgetter(\"question\")}\n",
    "    # \"context\"  : is assigned to a RunnablePassthrough object (will not be called or considered in the next step)\n",
    "    #              by getting the value of the \"context\" key from the previous step\n",
    "    | RunnablePassthrough.assign(context=itemgetter(\"context\"))\n",
    "    # \"response\" : the \"context\" and \"question\" values are used to format our prompt object and then piped\n",
    "    #              into the LLM and stored in a key called \"response\"\n",
    "    # \"context\"  : populated by getting the value of the \"context\" key from the previous step\n",
    "    | {\"response\": rag_prompt | chat_model, \"context\": itemgetter(\"context\")}\n",
    ")"
   ]
  },
  {
   "cell_type": "code",
   "execution_count": 11,
   "metadata": {},
   "outputs": [],
   "source": [
    "res = rerank_chain.invoke({\"question\" : \"How much caffeine a day is the maximum limit?\"})"
   ]
  },
  {
   "cell_type": "code",
   "execution_count": 12,
   "metadata": {},
   "outputs": [
    {
     "data": {
      "text/plain": [
       "{'response': AIMessage(content='Based on the context provided, the maximum limit of caffeine intake per day is recommended to be between 300 to 600 milligrams for individuals of sufficient body weight and who are accustomed to taking caffeine.', response_metadata={'token_usage': {'completion_tokens': 40, 'prompt_tokens': 3809, 'total_tokens': 3849}, 'model_name': 'gpt-3.5-turbo', 'system_fingerprint': 'fp_c2295e73ad', 'finish_reason': 'stop', 'logprobs': None}, id='run-89551d2e-4ce1-4c16-b8e0-47758a7c4b66-0'),\n",
       " 'context': [Document(page_content=\"And I should mention this study, they use this 300 milligrams per day or 600 milligrams per day.\\nSo that's quite high, although for people of sufficient body weight and who are accustomed to taking caffeine, it's certainly not going to be in excess of what a lot of people out there are taking.\\nBut basically what they observed was the following.\\nCortisol responses to caffeine are reduced, but not eliminated in people who consume caffeine on a daily basis.\\nWhat this means is that if you wake up and as I recommended earlier, you avoid drinking caffeine for the first 90 to 120 minutes after waking, but you do get some sunlight or other bright light in your eyes in that time, maybe even get some exercise in that time, which would be even better.\\nAnd then you ingest caffeine, you will get a further increase in cortisol, which provided it's restricted to the early part of the day is a good thing overall for mood and alertness.\\nSo this is a simple performance enhancing tool, which is to stack caffeine on the tail of that early cortisol peak.\\nI should also mention, however, that in this study, they had people do a five-day caffeine abstinence prior to being tested with 300 milligrams or 600 milligrams of caffeine.\\nSo the simple tool to extract from this and other studies like it, is that if you want to experience the maximum alertness promoting effects of caffeine, when you ingest it early in the day, you would abstain from caffeine for five days and then ingest caffeine 90 to 120 minutes after waking.\\nI would still hope that you were doing all the other things that I described, morning, sunlight, exercise, et cetera, correctly, but regardless, it's very clear that a five-day abstinence from caffeine, however painful that might be, will increase the performance enhancing effects of caffeine when you take caffeine on that sixth day.\"),\n",
       "  Document(page_content=\"But there are certain considerations one has to keep in mind, in particular dose.\\nNow, first off, not everybody will respond to the same dose of caffeine the same way, but we can reliably say that your body weight is a good measure by which you can estimate what a healthy, useful dose of caffeine would be.\\nSo for most people, ingesting one to three milligrams of caffeine per kilogram of body weight is going to be the range in which caffeine can have positive effects without making us feel overly anxious and give us that feeling that we're jumping out of our skin and turn the otherwise positive experience of caffeine into an aversive one.\\nFor those of you that aren't familiar with thinking in terms of kilograms and normally thinking pounds, I'll just quickly give you some general estimations that, for instance, 100 kilograms equals 220 pounds.\\nSo for me, I weigh 100 kilograms.\\nThat means that one to three milligrams, again, milligrams, thousandths of a gram, one to three milligrams of caffeine per kilogram of body weight would mean for me, I could safely ingest 100 to 300 milligrams of caffeine in a single dose, in a single drink, if that's the way I'm consuming it, or pill form, if that's the way that I'm consuming it.\\nAnd it's very likely that that will be a tolerable dose.\\nHowever, if you are not somebody that's accustomed to drinking caffeine on a regular basis, I suggest you start on the lower end of that one to three milligrams per kilogram of body weight range.\\nSo for instance, if you're somebody who weighs 50 kilograms, that's approximately 110 pounds, and you would be pretty comfortable ingesting somewhere between 50 and 150 milligrams of caffeine.\"),\n",
       "  Document(page_content=\"InsideTracker solves that problem and makes it very easy for you to understand what sorts of nutritional, behavioral, maybe even supplementation-based interventions you might want to take on in order to adjust the numbers of those metabolic factors, hormones, lipids and other things that impact your immediate and long-term health to bring those numbers into the ranges that are appropriate and indeed optimal for you.\\nIf you'd like to try InsideTracker, you can visit insidetracker.com slash Huberman and get 20% off any of InsideTracker's plans.\\nThat's insidetracker.com slash Huberman to get 20% off.\\nLet's talk for a moment about when to avoid caffeine.\\nAnd in the same stroke, let's also talk about some of the myths around caffeine.\\nFor instance, one of the major myths around caffeine is that it can increase osteoporosis.\\nTurns out that while there is a relationship, of course, between calcium and osteoporosis, that is reductions in bone density, and it is the case that caffeine can extract calcium from certain tissues, the large scale studies that are out there essentially prove that if people are ingesting enough calcium through their diet, which most everybody is, although certainly there are some people that need to supplement calcium or make it a point to consume more calcium containing foods, but assuming that you are getting adequate levels of calcium, there is no direct relationship between caffeine intake and osteoporosis, at least not that I'm aware of.\\nI know this was debated for a number of years in the literature, but the literature seems to have arrived at a general consensus now that caffeine itself is not going to create or exacerbate osteoporosis provided people are getting enough calcium through their diet, that is through foods, through supplementation or both.\\nSome of the other myths around caffeine are that, for instance, caffeine will reduce testosterone levels or will reduce estrogen levels.\"),\n",
       "  Document(page_content=\"They had people either ingest three milligrams per kilogram of caffeine for 20 consecutive days.\\nMany people are already doing that, I realize, but they had people do that or ensure that they were doing that or others ingested a placebo for 20 days.\\nSo they abstained from caffeine without realizing it.\\nThen after that 20 days of either ingesting caffeine or a placebo, their peak performance was measured in terms of aerobic output, but prior to that measurement, they had caffeine, okay? So it's 20 days of caffeine and then a 21st day of caffeine and then the physical task on that 21st day, or it's 20 days of abstinence from caffeine.\\nAnd then on day 21, you get caffeine and you get the same physical test.\\nAnd what they discovered was that the ingestion of caffeine increased peak performance in this aerobic output dramatically if people had abstained from caffeine, but for people that had consumed caffeine all the way through up until that day, it still was effective to ingest caffeine on day 21, but not as effective as it would have been had they abstained.\\nAnd in fact, the magnitude of the, what they call ergogenic effect, which is the pro-performance enhancing effect of caffeine was higher on the first day than in subsequent days when they allowed people to continue caffeine intake.\\nSo the takeaway from this study is really straightforward.\\nIf you want to get the maximum physical performance enhancing effects of caffeine, you abstain from caffeine for 20 days.\\nThen on day 21, when you're going to do the physical thing, the task, you ingest caffeine about 30 minutes to an hour before you do that physical challenge.\\nNow, 20 days of abstinence is going to be rough for a lot of people.\\nThey certainly don't want to sign up for this study, in which case you might want to do five days of abstinence as we talked about before.\\nAnd then on day six is the day that you ingest caffeine and do the physical task.\"),\n",
       "  Document(page_content=\"So this study is really interesting.\\nWhat they had people do was run on a treadmill and either ingest caffeine again, three milligrams per kilogram of body weight or to not ingest caffeine.\\nAnd then they looked at levels of dopamine and other neurotransmitters and hormones such as prolactin and cortisol.\\nAnd the basic takeaway is as the title suggests that exercise while on its own can increase cortisol in healthy ways, provided it's not too intense and too long.\\nLittle note here, if you have trouble recovering from exercise or you want to continue to derive the benefits from exercise in general, best not to do high intensity exercise for longer than 75 minutes or 90 minutes only being the outer threshold.\\nI realize that there are some genetic freaks out there or people that are chemically assisted that can recover from very intense long bouts of exercise, but most people don't do well long bouts of intense exercise on a regular basis and limiting their intense exercise to 60 minutes or less.\\nThat doesn't include the warmup is going to be beneficial.\\nSee the episode on a toolkit for fitness if you'd like details on that.\\nExercise is known to increase levels of dopamine, cortisol and other catecholamines and neurotransmitters very potently and things like testosterone and estrogen in ways that we know are beneficial to us.\\nAnd of course have all these positive effects on the musculoskeletal system and cardiovascular effects.\\nBut unbeknownst to most people ingesting three milligrams per kilogram of caffeine prior to exercise further increases the dopamine release associated with exercise specifically.\\nAnd this has two important effects.\\nFirst of all, that increase in dopamine is great because it provides a long lasting increase in focus alertness and motivation, not just during the exercise, but also after the exercise.\"),\n",
       "  Document(page_content=\"Now, if you happen to be ingesting more than one to three milligrams per kilogram of body weight of caffeine, that's not necessarily bad.\\nHowever, you do want to be careful about ingesting very high levels of caffeine over long periods of time in your life because there can be issues that start to arise in particular, a bias towards higher levels of anxiety and depletion of certain electrolytes because caffeine is a diuretic can cause you to lose sodium and other things of that sort.\\nAnd also just from simply a dependent standpoint, it does appear that if you ingest high levels of caffeine that is exceeding the dosages that normally you could get away with and get just as much mental enhancing and physical enhancing benefits that you can cause some disruption to the microvasculature.\\nYou can bias yourself towards headaches, anxiety attacks and you can become actually quite irritable when you're not getting those higher levels of caffeine.\\nSo I do encourage you to figure out not just what an appropriate caffeine dosage would be for you, but also how much caffeine you might already be ingesting.\\nThe first tool I'd like to talk about is one that I've mentioned before on this podcast several times.\\nAnd it's something that if you haven't heard of will be very useful to you.\\nAnd if you have heard this tool before, I'm going to add some additional features to the description of this tool that should make this worthwhile for you as well.\\nAnd that is to delay your caffeine intake to 90 to 120 minutes after waking up on most days.\\nAnd I'll be very clear as to days in which you might want to ingest caffeine more closely to when you wake up.\\nWhy would you want to delay your caffeine intake to 90 to 120 minutes after waking? The answer to that is very simple.\\nMany people wake up in the morning, they drink caffeine within 10, 20, 30, sometimes within two minutes of waking and they feel more alert naturally.\"),\n",
       "  Document(page_content=\"If you drink all 200 or 300 milligrams of caffeine in your coffee, or 600 milligrams of your coffee, if you're getting one of those commercial coffees, and you take theanine along with it, theanine will block some of the jitteriness and anxiety-inducing effects of caffeine that can occur for much longer than the effects that caffeine lasts.\\nSo the peak in theanine occurs about an hour after ingestion.\\nI suppose if you want to get really fancy and really dial in the kinetics, you could ingest theanine about half hour before you ingest your caffeine, but I think that's getting a little bit excessive in terms of controlling your micro environment, if you will.\\nI think it would be perfectly fine to take a 100 to 200 milligram capsule of theanine along with your coffee or tea and so forth, and just realize that if you drink more caffeine or you extend your caffeine intake over several hours, that you don't necessarily have to take theanine repeated times throughout the day.\\nI'd like to take a brief break and thank our sponsor, InsideTracker.\\nInsideTracker is a personalized nutrition platform that analyzes data from your blood and DNA to help you better understand your body and help you reach your health goals.\\nI've long been a believer in getting regular blood work done for the simple reason that many of the factors that impact your immediate and long-term health can only be analyzed from a quality blood test.\\nThe problem with a lot of blood and DNA tests out there, however, is that you get data back about metabolic factors, lipids and hormones and so forth, but you don't know what to do with those data.\"),\n",
       "  Document(page_content=\"Now, I'm sure many of you out there are saying, why would I ever want to abstain from caffeine for five days in order to just get this six-day performance enhancing effect? Well, there are a couple of reasons for doing that.\\nPerhaps you're planning to travel to a new time zone and you want to use caffeine as a stimulant to stay up during the day in the new time zone.\\nThat's a somewhat unusual case.\\nOthers of you might be interested in the pro-physical performance effects of caffeine.\\nWe'll talk more about these in a little bit, but you want to get the maximum strength increase or the maximum endurance increase from ingesting, in this case, 300 to 600 milligrams of caffeine.\\nWell, in that case, abstaining from caffeine for five days will greatly exacerbate the pro-performance effects of caffeine when you take it on that sixth day.\\nAlthough, admittedly, those five days are likely to be pretty painful if you're a regular caffeine user.\\nAnother variation on this, however, might be to have the amount of caffeine that you ingest on a daily basis and then go back to your regular level of caffeine intake on that day in which you need the caffeine to really boost your mood, energy, and performance.\\nAnother reason why you might want to abstain from caffeine or reduce your caffeine intake for a period of time and then go back to your regular caffeine intake is simply to identify how much of an effect caffeine is really having on your overall level of daily functioning and mood.\\nThis was something that was actually covered in beautiful detail in a book by Michael Pollan, All About Caffeine.\\nIt's available on Audible.\\nI really enjoyed that book.\\nIt describes his experience with the decision to completely abstain from caffeine for a period of months.\"),\n",
       "  Document(page_content=\"Now, you don't have to separate them.\\nYou could put them two hours apart, for instance, but we'll talk about half-life of caffeine and so forth.\\nJust keep in mind that if you're ingesting 200 milligrams of caffeine, and that's the appropriate dose for you based on your body weight, and then you are ingesting another 200 milligrams of caffeine an hour later, you are effectively ingesting approximately 400 milligrams of caffeine, which is going to start exceeding the dose in which you can normally tolerate without feeling anxious and jittery.\\nWith all of that said, there is a range of tolerance for caffeine that's based on two things.\\nOne is a pre-existing disposition, that is whether or not your genetics and nervous system and the backdrop of your life, how much stress you're experiencing, tends to make you feel more anxious and alert and jittery before you ingest any caffeine.\\nAnd the other is how so-called caffeine adapted you are.\\nWe often hear about tolerance.\\nTolerance means something very specific.\\nIt's the ability to ingest more and more of something with a plateau that is a no increase or an actual reduction in the effectiveness of that thing.\\nBut here, we're not really talking about tolerance to caffeine.\\nWhat we're talking about is being caffeine adapted.\\nA simple way to understand whether or not you're caffeine adapted or not is that if you drink caffeine and it tends to increase your heart rate and make you feel more alert and a bit more anxious, then chances are you are not caffeine adapted, provided the amount of caffeine is within the healthy range for you, that is, the ranges we talked about a moment ago.\\nHowever, if you're somebody who drinks caffeine and you actually feel alert and relaxed, chances are you are caffeine adapted.\\nAnd so at various times during today's episode, I'll talk about people who are caffeine adapted and people who are not caffeine adapted.\\nWe'll talk about the use of caffeine every other day.\"),\n",
       "  Document(page_content=\"I'd also like to point out that the Huberman Lab Podcast has a clips channel.\\nSo these are brief clips, anywhere from three to 10 minutes that encompass single concepts and actionable protocols related to sleep, to focus, interviews with various guests.\\nWe talk about things like caffeine, when to drink caffeine relative to sleep, alcohol, when and how and if anyone should ingest it relative to sleep, dopamine, serotonin, mental health, physical health, and on and on, all the things that relate to the topics most of interest to you.\\nYou can find that easily by going to YouTube, look for Huberman Lab clips in the search area and it will take you there, subscribe.\\nAnd we are constantly updating those with new clips.\\nThis is especially useful, I believe, for people that have missed some of the earlier episodes or you're still working through the back catalog of Huberman Lab Podcasts, which admittedly can be rather long.\\nAnd last, but certainly not least, thank you for your interest in science.\\nAnd we'll see you next time on Huberman Lab Podcasts.\")]}"
      ]
     },
     "execution_count": 12,
     "metadata": {},
     "output_type": "execute_result"
    }
   ],
   "source": [
    "res"
   ]
  }
 ],
 "metadata": {
  "kernelspec": {
   "display_name": "huberman-rag-fdQcU6Ve-py3.11",
   "language": "python",
   "name": "python3"
  },
  "language_info": {
   "codemirror_mode": {
    "name": "ipython",
    "version": 3
   },
   "file_extension": ".py",
   "mimetype": "text/x-python",
   "name": "python",
   "nbconvert_exporter": "python",
   "pygments_lexer": "ipython3",
   "version": "3.11.5"
  }
 },
 "nbformat": 4,
 "nbformat_minor": 2
}
