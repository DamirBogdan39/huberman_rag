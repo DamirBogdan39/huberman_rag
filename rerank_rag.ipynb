{
 "cells": [
  {
   "cell_type": "markdown",
   "metadata": {},
   "source": [
    "Notebook that contains the code for the reranker RAG pipeline."
   ]
  },
  {
   "cell_type": "code",
   "execution_count": 1,
   "metadata": {},
   "outputs": [
    {
     "name": "stderr",
     "output_type": "stream",
     "text": [
      "/Users/damir_bogdan/Library/Caches/pypoetry/virtualenvs/huberman-rag-09zSrCFX-py3.11/lib/python3.11/site-packages/tqdm/auto.py:21: TqdmWarning: IProgress not found. Please update jupyter and ipywidgets. See https://ipywidgets.readthedocs.io/en/stable/user_install.html\n",
      "  from .autonotebook import tqdm as notebook_tqdm\n",
      "Fetching 30 files: 100%|██████████| 30/30 [00:00<00:00, 150874.24it/s]\n"
     ]
    }
   ],
   "source": [
    "from src.vectorstore import connect_to_milvus, activate_collection\n",
    "from src.retrievers import MilvusRerankRetriever\n",
    "\n",
    "import os\n",
    "from dotenv import load_dotenv"
   ]
  },
  {
   "cell_type": "code",
   "execution_count": 2,
   "metadata": {},
   "outputs": [],
   "source": [
    "from langchain_core.runnables import RunnablePassthrough\n",
    "from operator import itemgetter\n",
    "from langchain_core.output_parsers import StrOutputParser\n",
    "from langchain_core.prompts import ChatPromptTemplate\n",
    "from langchain_openai import ChatOpenAI"
   ]
  },
  {
   "cell_type": "code",
   "execution_count": 3,
   "metadata": {},
   "outputs": [],
   "source": [
    "connect_to_milvus()\n",
    "collection = activate_collection()\n",
    "collection.load()"
   ]
  },
  {
   "cell_type": "code",
   "execution_count": 4,
   "metadata": {},
   "outputs": [],
   "source": [
    "load_dotenv()\n",
    "OPENAI_API_KEY = os.getenv(\"OPENAI_API_KEY\")\n",
    "COHERE_API_KEY = os.getenv(\"COHERE_API_KEY\")"
   ]
  },
  {
   "cell_type": "code",
   "execution_count": 5,
   "metadata": {},
   "outputs": [],
   "source": [
    "rerank_retriever = MilvusRerankRetriever()"
   ]
  },
  {
   "cell_type": "code",
   "execution_count": 6,
   "metadata": {},
   "outputs": [],
   "source": [
    "# Template\n",
    "\n",
    "\"\"\"If you do not have the answer in the CONTEXT write \"I don't know\".\n",
    "Do not make things up. Do not fabricate facts. \"\"\"\n",
    "RAG_TEMPLATE = \"\"\"\\\n",
    "You are a Huberman Lab podcast listener. \n",
    "You will be provided a CONTEXT of the podcasts and a QUESTION.\n",
    "Based on the CONTEXT answer the QUESTION.\n",
    "\n",
    "\n",
    "Context:\n",
    "{context}\n",
    "\n",
    "Query:\n",
    "{question}\n",
    "\"\"\"\n",
    "\n",
    "rag_prompt = ChatPromptTemplate.from_template(RAG_TEMPLATE)\n",
    "\n",
    "# Setup a chat model\n",
    "chat_model = ChatOpenAI()\n",
    "# Setup a retriever\n",
    "retriever = MilvusRerankRetriever()\n",
    "\n",
    "# Setup a chain\n",
    "rerank_chain = (\n",
    "    # INVOKE CHAIN WITH: {\"question\" : \"<<SOME USER QUESTION>>\"}\n",
    "    # \"question\" : populated by getting the value of the \"question\" key\n",
    "    # \"context\"  : populated by getting the value of the \"question\" key and chaining it into the base_retriever\n",
    "    {\"context\": itemgetter(\"question\") | retriever, \"question\": itemgetter(\"question\")}\n",
    "    # \"context\"  : is assigned to a RunnablePassthrough object (will not be called or considered in the next step)\n",
    "    #              by getting the value of the \"context\" key from the previous step\n",
    "    | RunnablePassthrough.assign(context=itemgetter(\"context\"))\n",
    "    # \"response\" : the \"context\" and \"question\" values are used to format our prompt object and then piped\n",
    "    #              into the LLM and stored in a key called \"response\"\n",
    "    # \"context\"  : populated by getting the value of the \"context\" key from the previous step\n",
    "    | {\"response\": rag_prompt | chat_model, \"context\": itemgetter(\"context\")}\n",
    ")"
   ]
  },
  {
   "cell_type": "code",
   "execution_count": 9,
   "metadata": {},
   "outputs": [],
   "source": [
    "res = rerank_chain.invoke({\"question\" : \"Can people be cured usingo only placebo?\"})"
   ]
  },
  {
   "cell_type": "code",
   "execution_count": 10,
   "metadata": {},
   "outputs": [
    {
     "data": {
      "text/plain": [
       "{'response': AIMessage(content='No, people cannot be cured using only placebos. While placebos can have powerful effects on reducing symptoms and improving feelings of well-being, they cannot reduce the size of tumors or eliminate diseases like cancer. Placebos can be effective in reducing discomfort and improving certain symptoms, but they are not a cure for diseases.', response_metadata={'token_usage': {'completion_tokens': 63, 'prompt_tokens': 3835, 'total_tokens': 3898}, 'model_name': 'gpt-3.5-turbo', 'system_fingerprint': 'fp_c2295e73ad', 'finish_reason': 'stop', 'logprobs': None}, id='run-69c3711b-1f5b-4641-b579-91d1e80ec169-0'),\n",
       " 'context': [Document(page_content=\"So for instance, people who are told a given drug  will help them with their cancer  by reducing their symptoms of chemotherapy  or radiation therapy,  often experience reductions in the negative symptoms  of chemotherapy or radiation therapy,  reduced pain, reduced nausea,  and by consequence, improved feelings of wellbeing  compared to people who do not receive the placebo  and who are not told, hey, this drug,  which in reality is a placebo,  is going to help you with your treatment.\\n It's going to make it less uncomfortable.\\n Okay, so in the context of cancer treatment,  a placebo can reduce the discomfort  of various cancer treatments.\\n However, placebos cannot reduce the size  or eliminate tumors.\\n If people who unfortunately have tumors,  okay, cancer, are given a placebo  and told this drug, which actually is a placebo,  unbeknownst to them,  is going to reduce the size of your tumors  or eliminate your tumors,  that placebo is not effective in reducing the size  or eliminating those tumors.\\n This is very important to understand  because as you recall,  placebo effects are expectation effects.\\n Expectation effects are driven in large part  by the prefrontal cortex and its connectivity  to other areas of the brain and thereby to the body,  but the outputs of the prefrontal cortex are limited.\\n There are a certain number of them,  and indeed, there are many of them,  but those connections do not extend to tumors themselves  or biological systems or circuitries  that allow one's beliefs to reduce the size of  or eliminate tumors.\\n And this is very important because, unfortunately,  there are many sufferers of cancer,  and there are many theories  about accelerating the treatment of  or improving the treatment of,  or even curing cancer using so-called mind-body techniques  or mind-body tools.\"),\n",
       "  Document(page_content=\"Well, while that can be true  and placebo controls are vital for certain clinical studies,  it's also the case that placebos, nocebos,  and belief effects have powerful impact on our physiology,  entirely separate from all of that,  so much so that several highly esteemed researchers  in the medical community around the world  believe that placebo, nocebo, and belief effects  should actually be leveraged in the treatment  of various diseases as their own unique treatment.\\n So by the end of today's episode,  you're going to have a clear understanding  of what placebo, nocebo, and belief effects are,  their biological underpinnings,  and the way that you can leverage them  toward your mental health, physical health, and performance.\\n Before we begin, I'd like to emphasize that this podcast  is separate from my teaching and research roles at Stanford.\\n It is, however, part of my desire and effort  to bring zero cost to consumer information  about science and science-related tools  to the general public.\\n In keeping with that theme,  I'd like to thank the sponsors of today's podcast.\\n Our first sponsor is 8Sleep.\\n 8Sleep makes smart mattress covers with cooling,  heating, and sleep tracking capacity.\\n Now, I've spoken many times before on this podcast  about the fact that sleep is the foundation  of mental health, physical health, and performance.\\n Now, one of the key things for getting a great night's sleep  is the temperature of your sleeping environment.\\n For instance, in order to fall and stay deeply asleep,  your body temperature needs to drop  by about one to three degrees.\\n And in order to wake up feeling refreshed,  your body temperature actually has to increase  by about one to three degrees.\\n With 8Sleep, it makes it very easy  to control the temperature of your sleeping environment.\\n You can dial in specific temperature ranges  for the beginning, middle, and end of your night.\"),\n",
       "  Document(page_content=\"So highly recommend this book.\\n I'll be pulling from a number of different examples  described in this book today.\\n To my mind, one of the most interesting examples  of the placebo effect is where placebo is given  and can profoundly change levels  of dopamine release in the brain.\\n Now, the study I'm about to describe  was done in Parkinson's patients.\\n People with Parkinson's have degeneration of neurons  in an area of the brain called the substantia nigra,  which is an area of the brain  in the kind of bottom back part of the brain.\\n For you aficionados, it's the ventral tegmental area,  but you don't need to know that name.\\n These neurons contain dopamine and are essential  for the generation of smooth movement patterns,  including walking and reaching  and moving one's hand to right, et cetera.\\n And of course, dopamine is involved  in a bunch of other things too,  including motivation and reward.\\n In people with Parkinson's,  depending on how severe and advanced the Parkinson's is,  they suffer deficits in the ability  to generate smooth movements  and often deficits in motivation  and reward pathways as well.\\n Now there are many different treatments for Parkinson's,  some more successful than others.\\n Unfortunately, it's still not completely curable,  at least not at this time,  but most of the drugs that are successful  in treating Parkinson's to some degree or another  are drugs that increase levels of dopamine within the brain  for obvious reasons.\\n As I just mentioned, Parkinson's is a degeneration  of the dopaminergic, meaning dopamine containing  and releasing neurons in the brain.\\n So people with Parkinson's will often be given L-Dopa,  which is a precursor to dopamine  or other types of drugs  that increase dopamine within the brain.\\n Now there have been a number of studies  that have compared certain drugs known to increase dopamine  such as L-Dopa, things like apomorphine,  bromocryptine, et cetera, to placebo control drugs.\"),\n",
       "  Document(page_content=\"And what they found is that in the specific area  of the brain that is known to respond to nicotine  and that is involved in cognitive functioning  related to the task that these subjects were given,  they saw increased levels of activity of the neurons  in that brain region that scaled up  according to whether or not people were told  they got a small, medium, or high amount of nicotine.\\n Again, everyone got the same amount of nicotine.\\n They were simply told small, medium, or high,  and the brain area itself changed its level of activity,  which in turn changed the outcome on the cognitive task,  which basically puts everything in a really nice box,  wraps it up with wrapping paper beautifully,  puts it in a bow and says,  okay, placebo effects are real,  and placebo effects scale  with the degree of expectation that one has.\\n So anytime we are told that a small dose of something  is going to lead to a small effect,  a medium dose of something  is going to lead to a bigger effect,  and a high dose will lead to an even higher effect,  well, whether or not that occurs  is going to depend a lot on what sorts of,  quote unquote, effects we are expecting.\\n Again, you can't use placebo to eliminate tumors.\\n There's a limit to what placebo effects can occur,  but assuming that the effect that one is interested in  is modifiable by knowledge and expectation,  well, the size of that effect will scale  with how big you expect the effect to be,  and it's not purely psychological.\\n That's the point here.\\n It's not just about your beliefs  and you doing something very different  in the context of a task or in a sports event,  your physiology, in this case,  the activity of a specific brain region  increases its level of output  according to your expectation  of the level of drug you consumed.\\n So in my description of that recently published study,  you notice I said placebo effects,  but in many ways what I was describing were belief effects.\"),\n",
       "  Document(page_content=\"But you've all experienced the placebo effect in action  by way of what's called classical conditioning,  simply by virtue of the fact  that the smells of certain foods  and your past experience of certain foods  can lead to the release of a hormone called insulin.\\n Insulin is a hormone that is involved  in regulating blood glucose, blood sugar.\\n And typically, when insulin levels go up  in the bloodstream, glucose levels are going to go down  because of the way the insulin controls blood sugar levels.\\n Now, if you've ever had the experience  of walking past a bakery or a pizza shop  where a delicious smell is wafting out into the environment,  you may notice that it, quote unquote, makes you hungry.\\n And indeed, it does make you hungry  because presumably you've had the experience  of certain smells being associated  with the consuming of certain foods,  maybe bakery foods, maybe pizza, maybe steak,  whatever it is.\\n And the consumption of those foods  actually leads to increases in insulin in your bloodstream.\\n Well, there's the so-called conditioning effect  whereby the smell of the food itself  starts to lead to increases in insulin.\\n But the conditioning effects of different stimuli,  different things in the context of eating  and specific foods leading to increases in insulin  is actually highly, highly modifiable,  so much so that experiments have been done  where, for instance, somebody eats a particular food  or in some cases is just directly injected with insulin,  but more often consumes a particular food.\\n And just prior to consuming or during consuming that food,  there's a bell ringing or a buzzer  in the background going off.\\n And they do that a few times.\\n And then, I'm sure you're anticipating what's coming,  somebody can just hear the buzzer  or the bell can simply ring  and that person will experience an increase in insulin.\\n So what I'm describing is a conditioned insulin response.\"),\n",
       "  Document(page_content=\"Now, a key point is that had on the final day  of the experiment, the subject's been injected  with a different drug that, for instance,  increases serotonin or reduces epinephrine.\\n I doubt that they would have instead experienced increases  in growth hormone and reductions in cortisol.\\n That's simply not the case.\\n The fact that there was only saline in there  meant that there was an opportunity  for the syringe and the injection, we don't know which,  to lead to some sort of paired association  in the brain and body that led to increased growth hormone,  decreased cortisol, which mimicked the drug effect.\\n But the whole scenario here, as wild as it is,  really speaks to the fact that oftentimes  we think a given treatment is causing a given effect  only because of the action of the drug  or the action of a given behavioral protocol.\\n But in fact, the drug and the protocol exist  in a big context of different things  that the brain and body are integrating  and trying to make sense of.\\n And that often gets lumped together.\\n I often say that your brain is, yes, a prediction machine,  but it's also trying to simplify things  in those predictions.\\n It's not taking into account all the information.\\n It's often lumping information together  and coming up with ideas about what's going to happen  and why, and doing this subconsciously  in a way that, as you just learned,  can have profound effects on what happens within us,  even at the level of something as basic as hormone release.\\n Now, what I just described is a pretty extreme example,  and it's a very experimental condition type example.\\n I mean, it's rare that people are undergoing  these kinds of organized receivable of information  followed by specific drug treatments  and placebo injections, et cetera.\"),\n",
       "  Document(page_content=\"So again, this really speaks to the fact  that placebo effects can be very powerful,  but that they're very specific.\\n They are not simply wiping out a condition like asthma  or completely eliminating all symptomology  of a given condition like cancer.\\n This study illustrates very clearly  that placebo is effective in reducing the discomfort  associated with the challenges of breathing,  but not eliminating challenges with breathing per se.\\n Whereas, as I mentioned before,  there are drugs, bona fide prescription drug treatments  that can both restore normal patterns of breathing  and relieve the discomfort.\\n So what this really speaks to is the fact  that the prefrontal cortex  and its involvement and expectation  can have powerful effects on things like pain,  powerful effects on things like dopamine,  powerful effects on any number  of different brain and body systems,  but not all of them.\\n Our beliefs and expectations are powerful  as evidenced by the placebo effect itself,  but they are not what we call omnipotent.\\n They can't do anything and everything.\\n I'd like to take a quick break  and thank our sponsor, InsideTracker.\\n InsideTracker is a personalized nutrition platform  that analyzes data from your blood and DNA  to help you better understand your body  and help you reach your health goals.\\n I've long been a believer in getting  regular blood work done for the simple reason  that many of the factors that impact your immediate  and long-term health can only be analyzed  from a quality blood test.\\n A major problem with a lot of blood tests out there,  however, is that you get information back  about metabolic factors, lipids and hormones and so forth,  but you don't know what to do with that information.\"),\n",
       "  Document(page_content=\"And by the way, many, not all of the studies  that I've been describing today  have been done by the Kaptchuk lab.\\n He's done beautiful work on placebo effects  for a very long time now.\\n He's considered a real pioneer  and a leader in the study of placebo.\\n And he's also been a big proponent  of exploring the placebo effect,  not simply as a contrast to drug effects or device effects,  but as their own specific effect  that perhaps can be leveraged  in the context of treating disease.\\n So hats off, literally plural hats off  because they've had oh, so many discoveries  in the context of placebo and their powerful effects  and their possible uses from the Kaptchuk lab  and their colleagues there at Harvard Medical School.\\n Just incredible work.\\n And one of my favorite studies from the Kaptchuk lab  is one published in the New England Journal of Medicine  some years ago in which they took people who had asthma.\\n So these are people diagnosed with asthma.\\n These are people who have challenges breathing  and they experience a lot of discomfort  in trying to breathe normally  unless they are taking their asthma medication.\\n In this study,  they took people off of their asthma medication,  of course not indefinitely, but for a short period of time.\\n And as expected,  those people experienced challenges in breathing  and discomfort associated with the challenges in breathing.\\n One group received no treatment.\\n They were just taken off their asthma meds and evaluated.\\n And then of course, put back on their asthma meds.\\n Another group received a placebo treatment  and another group received a drug  known to improve the symptoms of asthma.\\n Now, what was interesting  is that the people who received the drug  for the treatment of asthma, not surprisingly,  had improvements in breathing and less discomfort.\\n Exactly what you'd expect.\\n However, the people with placebo  also experienced less discomfort in breathing,  but their patterns of breathing didn't change.\"),\n",
       "  Document(page_content=\"And at least to our knowledge  as a field of neuroscientists and biologists,  humans have the most sophisticated  or rather elaborate prefrontal cortex,  the most number of different sub areas  of the prefrontal cortex.\\n And every time there's an investigation of those sub areas,  what they do, what their anatomies are,  meaning where they connect to and who connects back to them,  it's found that there is a tremendous degree of specificity,  all of which is to say that we shouldn't be surprised at all  that these placebo belief and mindset effects occur  because there's a clear biological substrate for them.\\n So up until now, we've been talking  about the placebo effect as these incredible set of effects  that have a real biological substrate.\\n There are anatomical pathways, hormonal pathways,  neurotransmitters involved, and that's all true.\\n But what's also true is that the placebo effect  can vary in size tremendously between individuals  and across different studies.\\n And in fact, this was described  in the first formal study of the placebo effect.\\n In that study, it was shown that approximately 30%  of the individuals in the study showed  a robust placebo effect,  but that the other 70% showed a less robust placebo effect.\\n And that result, meaning that variation in susceptibility  to the placebo effect has borne out again and again  and again across different studies.\\n Now, modern science has now taught us  that if you look at the genomes,  the genes that happen to be expressed  in one individual versus the next  versus the next versus the next,  there are certain genes, not a lot of them,  but there are certain genes that seem to correlate  with certain types of placebo effect  being greater or lesser in certain individuals.\"),\n",
       "  Document(page_content=\"All of that, as I mentioned, is completely zero cost.\\n You simply go to hubermanlab.com,  go to the menu function,  scroll down to newsletter, and provide your email.\\n I want to emphasize  that we do not share your email with anybody.\\n Thank you for joining me for today's discussion  all about placebo and belief effects.\\n And last, but certainly not least,  thank you for your interest in science.\")]}"
      ]
     },
     "execution_count": 10,
     "metadata": {},
     "output_type": "execute_result"
    }
   ],
   "source": [
    "res"
   ]
  }
 ],
 "metadata": {
  "kernelspec": {
   "display_name": "huberman-rag-fdQcU6Ve-py3.11",
   "language": "python",
   "name": "python3"
  },
  "language_info": {
   "codemirror_mode": {
    "name": "ipython",
    "version": 3
   },
   "file_extension": ".py",
   "mimetype": "text/x-python",
   "name": "python",
   "nbconvert_exporter": "python",
   "pygments_lexer": "ipython3",
   "version": "3.11.7"
  }
 },
 "nbformat": 4,
 "nbformat_minor": 2
}
