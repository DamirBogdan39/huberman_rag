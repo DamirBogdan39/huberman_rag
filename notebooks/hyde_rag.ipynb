{
 "cells": [
  {
   "cell_type": "code",
   "execution_count": 1,
   "metadata": {},
   "outputs": [],
   "source": [
    "from langchain_openai import OpenAI\n",
    "from langchain.embeddings import OpenAIEmbeddings\n",
    "from langchain.chains import LLMChain, HypotheticalDocumentEmbedder\n",
    "from langchain.prompts import PromptTemplate\n",
    "\n",
    "from langchain.document_loaders import TextLoader\n",
    "import langchain"
   ]
  },
  {
   "cell_type": "code",
   "execution_count": 2,
   "metadata": {},
   "outputs": [
    {
     "name": "stderr",
     "output_type": "stream",
     "text": [
      "/Users/damir_bogdan/Library/Caches/pypoetry/virtualenvs/huberman-rag-09zSrCFX-py3.11/lib/python3.11/site-packages/tqdm/auto.py:21: TqdmWarning: IProgress not found. Please update jupyter and ipywidgets. See https://ipywidgets.readthedocs.io/en/stable/user_install.html\n",
      "  from .autonotebook import tqdm as notebook_tqdm\n"
     ]
    }
   ],
   "source": [
    "from src.bge_embeddigns import bge_embeddings"
   ]
  },
  {
   "cell_type": "code",
   "execution_count": 3,
   "metadata": {},
   "outputs": [],
   "source": [
    "llm = OpenAI()"
   ]
  },
  {
   "cell_type": "code",
   "execution_count": 4,
   "metadata": {},
   "outputs": [],
   "source": [
    "HYDE_PROMPT = \"\"\"Answer the question is the style of doctor Andrew Huberman.\\nQuestion: {question}\\nAnswer:\"\"\"\n",
    "\n",
    "hyde_prompt = PromptTemplate.from_template(input_variable=[\"question\"], template=HYDE_PROMPT)"
   ]
  },
  {
   "cell_type": "code",
   "execution_count": 5,
   "metadata": {},
   "outputs": [],
   "source": [
    "embeddings = HypotheticalDocumentEmbedder.from_llm(llm = llm,\n",
    "                                                   base_embeddings = bge_embeddings,\n",
    "                                                   custom_prompt=hyde_prompt)"
   ]
  },
  {
   "cell_type": "code",
   "execution_count": 6,
   "metadata": {},
   "outputs": [
    {
     "data": {
      "text/plain": [
       "PromptTemplate(input_variables=['question'], template='Answer the question is the style of doctor Andrew Huberman.\\nQuestion: {question}\\nAnswer:')"
      ]
     },
     "execution_count": 6,
     "metadata": {},
     "output_type": "execute_result"
    }
   ],
   "source": [
    "embeddings.llm_chain.prompt"
   ]
  },
  {
   "cell_type": "code",
   "execution_count": 7,
   "metadata": {},
   "outputs": [],
   "source": [
    "result = embeddings.embed_query(\"Which compounds are in coffee?\")"
   ]
  },
  {
   "cell_type": "code",
   "execution_count": 8,
   "metadata": {},
   "outputs": [
    {
     "name": "stderr",
     "output_type": "stream",
     "text": [
      "Fetching 30 files: 100%|██████████| 30/30 [00:00<00:00, 170500.16it/s]\n"
     ]
    }
   ],
   "source": [
    "from src.vectorstore import hyde_query"
   ]
  },
  {
   "cell_type": "code",
   "execution_count": 9,
   "metadata": {},
   "outputs": [],
   "source": [
    "result = hyde_query(\"How to do clinical trials with placebo?\")"
   ]
  },
  {
   "cell_type": "code",
   "execution_count": 10,
   "metadata": {},
   "outputs": [
    {
     "data": {
      "text/plain": [
       "[[{'id': '449326245231985882',\n",
       "   'distance': 0.6678744554519653,\n",
       "   'entity': {'page_content': \"All of that, as I mentioned, is completely zero cost.\\n You simply go to hubermanlab.com,  go to the menu function,  scroll down to newsletter, and provide your email.\\n I want to emphasize  that we do not share your email with anybody.\\n Thank you for joining me for today's discussion  all about placebo and belief effects.\\n And last, but certainly not least,  thank you for your interest in science.\"}},\n",
       "  {'id': '449326245231985792',\n",
       "   'distance': 0.6600094437599182,\n",
       "   'entity': {'page_content': \"Welcome to the Huberman Lab Podcast,  where we discuss science  and science-based tools for everyday life.\\n I'm Andrew Huberman,  and I'm a professor of neurobiology and ophthalmology  at Stanford School of Medicine.\\n Today, we are discussing placebo effects.\\n We will also be discussing what are called nocebo effects,  as well as belief effects.\\n All three of these, placebo, nocebo, and belief effects,  are all related to our brain's incredible ability  to place an expectation on what is about to happen  and actually change what is about to happen,  independent of the physical and chemical properties  of a drug or some sort of other treatment solution  for things like pain, Parkinson's disease,  irritable bowel syndrome, asthma, stress,  and on and on and on.\\n Now, one of the most incredible things about these effects  is that despite the fact that it would appear  that they are simply psychological  or the power of the mind over matter, it's not that at all.\\n Placebo, nocebo, and belief effects  actually change the way your biology, your physiology works.\\n In fact, you have neural circuits within your brain  that are dedicated to how your expectation  of what will happen actually changes  some of the most core biological functions  within your brain and body,  modifying, for instance, heart rate, blood pressure,  the release of specific neuromodulators  such as dopamine and adrenaline.\\n And so powerfully so that these types of effects  can actually work along with traditional drug treatments  or behavioral treatments in order to vastly change  the way that your brain and body work.\\n So if you think of the word placebo  as an inert substance or treatment  that is merely a control,  it's merely something introduced to an experiment  or a clinical trial to try and figure out  what's happening normally in somebody's brain or body  as a comparison to some drug or other type of treatment.\"}},\n",
       "  {'id': '449326245231985844',\n",
       "   'distance': 0.6524277925491333,\n",
       "   'entity': {'page_content': \"And by the way, many, not all of the studies  that I've been describing today  have been done by the Kaptchuk lab.\\n He's done beautiful work on placebo effects  for a very long time now.\\n He's considered a real pioneer  and a leader in the study of placebo.\\n And he's also been a big proponent  of exploring the placebo effect,  not simply as a contrast to drug effects or device effects,  but as their own specific effect  that perhaps can be leveraged  in the context of treating disease.\\n So hats off, literally plural hats off  because they've had oh, so many discoveries  in the context of placebo and their powerful effects  and their possible uses from the Kaptchuk lab  and their colleagues there at Harvard Medical School.\\n Just incredible work.\\n And one of my favorite studies from the Kaptchuk lab  is one published in the New England Journal of Medicine  some years ago in which they took people who had asthma.\\n So these are people diagnosed with asthma.\\n These are people who have challenges breathing  and they experience a lot of discomfort  in trying to breathe normally  unless they are taking their asthma medication.\\n In this study,  they took people off of their asthma medication,  of course not indefinitely, but for a short period of time.\\n And as expected,  those people experienced challenges in breathing  and discomfort associated with the challenges in breathing.\\n One group received no treatment.\\n They were just taken off their asthma meds and evaluated.\\n And then of course, put back on their asthma meds.\\n Another group received a placebo treatment  and another group received a drug  known to improve the symptoms of asthma.\\n Now, what was interesting  is that the people who received the drug  for the treatment of asthma, not surprisingly,  had improvements in breathing and less discomfort.\\n Exactly what you'd expect.\\n However, the people with placebo  also experienced less discomfort in breathing,  but their patterns of breathing didn't change.\"}},\n",
       "  {'id': '449326245231985880',\n",
       "   'distance': 0.6327232122421265,\n",
       "   'entity': {'page_content': \"In addition, please subscribe to the podcast  on both Spotify and Apple.\\n And on both Spotify and Apple,  you can leave us up to a five-star review.\\n Please also check out the sponsors mentioned  at the beginning and throughout today's episode.\\n That's the best way to support this podcast.\\n If you have questions for me or comments about the podcast  or topics or guests that you'd like me to include  on the Huberman Lab podcast,  please put those in the comment section on YouTube.\\n I do read all the comments.\\n Not on today's episode,  but on many previous episodes  of the Huberman Lab podcast, we discuss supplements.\\n While supplements aren't necessary for everybody,  many people derive tremendous benefit from them  for things like improving sleep,  for hormone support, and for focus.\\n To learn more about the supplements discussed  on the Huberman Lab podcast,  you can go to Live Momentous, spelled O-U-S,  livemomentous.com slash Huberman.\\n If you're not already following me on social media,  I am Huberman Lab on all social media platforms.\\n So that's Instagram, X, Threads, Facebook, and LinkedIn.\\n And on all social media platforms,  I present science and science related tools,  some of which overlaps with the content  of the Huberman Lab podcast,  but much of which is distinct from the content  of the Huberman Lab podcast.\\n So again, it's Huberman Lab on all social media platforms.\\n If you haven't already subscribed  to our Huberman Lab podcast neural network newsletter,  the neural network newsletter  is a zero cost monthly newsletter  that includes podcast summaries and podcast protocols,  which are brief one to two page PDFs  that explain in bullet point fashion,  things like deliberate cold exposure.\\n We have a foundational fitness protocol.\\n We have a toolkit for sleep.\\n We have a toolkit for neuroplasticity and learning,  deliberate cold exposure,  deliberate heat exposure, and on and on.\\n All of that, as I mentioned, is completely zero cost.\"}},\n",
       "  {'id': '449326245231985838',\n",
       "   'distance': 0.6216861009597778,\n",
       "   'entity': {'page_content': \"And what this tells us is that the human brain  has come to associate level of invasiveness,  level of complexity of a given treatment or machine  to equate to bigger outcomes.\\n And in some sense, that's completely logical,  but again, we have to remember,  in absolutely zero of these conditions,  whether or not it's a tablet, a capsule,  an injection or a medical device,  is there anything being done to these human subjects  that impacts a specific biological function except one?  And that one, again, is the activation  of specific neural circuits in the prefrontal cortex  that then are able to communicate  with other areas of the brain and body  through bona fide biological mechanisms  of neurotransmitter release and electrical activity  in neurons, this is what the brain does.\\n And of course, the prefrontal cortex being part of the brain,  those are the mechanisms it employs  to change the activity of hormone releasing glands,  to change the activity of other neurons.\\n In other words, the belief effects,  the expectations are real.\\n They are having effects through true biological circuitry.\\n It's just that the pills and the treatments  and the machines are not doing anything specific at all  except activating expectation.\\n So we've been talking about the placebo effect  and I've been giving examples of strong placebo effects.\\n And while all of what I told you is substantiated by data,  I do not want to give you the impression  that the placebo effect is limitless  because it is not limitless.\\n For instance, placebos have been used to help  in the treatment of cancer,  but their effects within the treatment of cancer  are limited to a very specific set of symptoms and contexts.\"}},\n",
       "  {'id': '449326245231985816',\n",
       "   'distance': 0.6196205615997314,\n",
       "   'entity': {'page_content': \"So I mentioned this somewhat complicated example,  because first of all,  many people are interested in dopamine.\\n We all make dopamine.\\n It's involved in motivation, drive and focus and reward,  all sorts of things that we hear a lot about these days.\\n Second of all, it really illustrates that placebo,  that is expectation about what will happen,  is impacting, of course, placebo effects.\\n You realize that now,  but it then also has to be the case  that placebo effects are playing into any effect  that we might observe from taking a given drug  or supplement based on our expectation  of what that drug or supplement will do.\\n And miraculously, or at least what I find miraculous,  is that placebo effects,  these expectations based on knowledge and beliefs,  are highly specific,  which raises all sorts of questions about, for instance,  if you were given a drug that increases dopamine levels,  but you weren't told that it increases dopamine levels,  that perhaps you were told, you were lied to,  and told that it increases the activity  of a different neuromodulator like serotonin, would it?  Well, let's explore that because as wild as that seems,  it turns out that what we believe about a given drug  treatment or behavioral treatment  actually has a high degree of specificity.\\n So to illustrate the incredible specificity  of placebo effects,  I want to describe a study related to hormone function.\\n Hormones come in many different forms.\\n We have testosterone, estrogen, growth hormone,  cortisol, et cetera.\\n There's a study that was carried out in humans  in which subjects were informed about growth hormone release  and cortisol release.\\n Growth hormone is a hormone released from a gland  in the brain called the pituitary.\\n The pituitary has different parts.\\n The anterior pituitary releases growth hormone.\\n Each night when you go to sleep,  it's involved in protein synthesis, tissue repair,  bodily growth, appendage growth, and many other things.\"}},\n",
       "  {'id': '449326245231985832',\n",
       "   'distance': 0.6069091558456421,\n",
       "   'entity': {'page_content': \"To try AG1, go to drinkag1.com slash Huberman,  and you'll get a year's supply of vitamin D3K2  and five free travel packs of AG1.\\n Again, that's drinkag1.com slash Huberman.\\n Okay, so given that context is a powerful modifier  of the placebo effect,  and in fact may be central to the placebo effect,  I just want to rattle off a few of the known placebo effects  that have been demonstrated,  which show the extent to which your brain and my brain  are coming up with ideas about what given drugs  or given behavioral treatments ought to do,  and in that way, shaping what happens  when you take a placebo.\\n Or, and this is an idea that we'll go into  in a bit more detail in a few minutes,  perhaps context is also changing the way  that active drugs, not placebos, but active drugs  are impacting your brain and body.\\n The examples I'd like to give are from laboratory studies  about the placebo effect,  but that relate to very common at home  and normal life scenarios, okay?  They are not unique to the laboratory,  and they are the following.\\n First of all, placebo effects are strongly modifiable  by the expectation of the quality of a given treatment.\\n For instance, if you are given a placebo  that has a brand name on it,  or a name of a drug, it could even be a made-up name,  you don't know what the drug does,  but it has trademark TM there in the corner of the name,  so brand name as opposed to generic placebo,  the brand name placebo has a stronger effect.\\n Moreover, if a placebo is placed into a package,  not just put in front of you on a little tray  or in a little dish, but rather in a package  where you have to push it through that little foil wrapping,  or you have to take it out of a bottle,  and especially if that wrapping or bottle has a label on it,  or it looks as if it's a quote unquote real drug,  well, then the placebo has an even greater placebo effect.\"}},\n",
       "  {'id': '449326245231985842',\n",
       "   'distance': 0.6064217686653137,\n",
       "   'entity': {'page_content': \"And we need to be fair to the data  which have conclusively shown that reductions in stress,  improvements in sleep, social support,  a number of things can improve cancer treatment outcomes.\\n Now, those are not placebo effects.\\n Those are all practices for which we know  there are reductions in inflammation,  reductions in stress hormones  that lead to improved outcomes  in the context of radiation therapy,  in the context of immunotherapy,  in the context of any bona fide treatments  known to reduce tumor size.\\n So what we need to do is separate out three things here.\\n Behavioral practices, such as meditation, sleep,  social support, known to reduce inflammation and stress,  and that can improve cancer outcomes.\\n Those are not placebo effects.\\n Those are real effects.\\n There are also drugs, radiation, chemotherapy,  immunotherapy, and devices known to reduce tumor size  and hopefully eliminate cancerous tumors.\\n That would be the hope.\\n Those are real effects.\\n And then there are the placebo effects,  the knowledge and belief and expectation  about what a given treatment will do,  in some cases, it's knowledge  about what a given drug will do  that improves the outcome achieved with that drug.\\n In some cases, it's people being given  a completely inert substance or solution  like saline solution, but being told  this is going to help with your nausea symptoms,  this is going to help with your pain  during your immunotherapy, radiation, et cetera.\\n And those are real effects,  but they can only be explained  by virtue of expectation and knowledge,  AKA placebo effects.\\n And I want to emphasize that those placebo effects  are not acting directly on tumors  to reduce their size or eliminate them.\\n Another example of how placebo effects  can be very powerful and yet still have limits to them  is yet another study from Dr. Ted Kaptchuk's lab  at Harvard Medical School.\"}},\n",
       "  {'id': '449326245231985824',\n",
       "   'distance': 0.6062340140342712,\n",
       "   'entity': {'page_content': \"Now, a key point is that had on the final day  of the experiment, the subject's been injected  with a different drug that, for instance,  increases serotonin or reduces epinephrine.\\n I doubt that they would have instead experienced increases  in growth hormone and reductions in cortisol.\\n That's simply not the case.\\n The fact that there was only saline in there  meant that there was an opportunity  for the syringe and the injection, we don't know which,  to lead to some sort of paired association  in the brain and body that led to increased growth hormone,  decreased cortisol, which mimicked the drug effect.\\n But the whole scenario here, as wild as it is,  really speaks to the fact that oftentimes  we think a given treatment is causing a given effect  only because of the action of the drug  or the action of a given behavioral protocol.\\n But in fact, the drug and the protocol exist  in a big context of different things  that the brain and body are integrating  and trying to make sense of.\\n And that often gets lumped together.\\n I often say that your brain is, yes, a prediction machine,  but it's also trying to simplify things  in those predictions.\\n It's not taking into account all the information.\\n It's often lumping information together  and coming up with ideas about what's going to happen  and why, and doing this subconsciously  in a way that, as you just learned,  can have profound effects on what happens within us,  even at the level of something as basic as hormone release.\\n Now, what I just described is a pretty extreme example,  and it's a very experimental condition type example.\\n I mean, it's rare that people are undergoing  these kinds of organized receivable of information  followed by specific drug treatments  and placebo injections, et cetera.\"}},\n",
       "  {'id': '449326245231985836',\n",
       "   'distance': 0.601161003112793,\n",
       "   'entity': {'page_content': \"And if they took the yellow pill,  they felt an antidepressant effect.\\n These were three separate experiments,  one on sleep where subjects were given  one of the three colors of pills.\\n Blue had the strongest effect.\\n Or a study of stimulant effects.\\n They were told it's a study of pills  that will increase alertness and attention.\\n They were given one of three different colors.\\n The red pills had the biggest effect.\\n And the third experiment,  subjects were told this is a pill  that will alleviate to some degree,  your symptoms of depression.\\n The people who took the yellow pill  experienced the greatest relief of depressive symptoms.\\n Now that's pretty wild,  but what perhaps is even wilder  is the more invasive a placebo intervention is,  the greater the placebo effect.\\n So capsules have a bigger effect than tablets.\\n I don't know if that's more invasive,  but I guess it looks more medicinal  to have a capsule versus a tablet.\\n Who knows why, but that's what's been observed.\\n An injection of a placebo has a greater effect  than a consumption of a capsule or a tablet, of course.\\n And if people are placed into a medical device or machine,  especially in cases where one of their limbs  or both of their limbs,  or even their whole body is placed into a device,  even though the device is doing absolutely nothing  specifically to our biological system,  it is inert, right?  A bunch of buttons and a bunch of noises  and a bunch of humming as if something were happening,  but nothing is happening that directly relates  to any one specific biological system,  except, and now you know what I'm about to say,  except expectation of what the machine is doing.\\n Well, that has the greatest placebo effect of all.\\n So for some reason, as the level of invasiveness  or the, let's just say the complexity  of a given treatment is increased,  well, then the magnitude of the placebo effect  is also increased.\"}}]]"
      ]
     },
     "execution_count": 10,
     "metadata": {},
     "output_type": "execute_result"
    }
   ],
   "source": [
    "result"
   ]
  },
  {
   "cell_type": "code",
   "execution_count": null,
   "metadata": {},
   "outputs": [],
   "source": []
  }
 ],
 "metadata": {
  "kernelspec": {
   "display_name": "huberman-rag-fdQcU6Ve-py3.11",
   "language": "python",
   "name": "python3"
  },
  "language_info": {
   "codemirror_mode": {
    "name": "ipython",
    "version": 3
   },
   "file_extension": ".py",
   "mimetype": "text/x-python",
   "name": "python",
   "nbconvert_exporter": "python",
   "pygments_lexer": "ipython3",
   "version": "3.11.7"
  }
 },
 "nbformat": 4,
 "nbformat_minor": 2
}
