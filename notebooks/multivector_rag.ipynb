{
 "cells": [
  {
   "cell_type": "code",
   "execution_count": 1,
   "metadata": {},
   "outputs": [
    {
     "name": "stderr",
     "output_type": "stream",
     "text": [
      "/Users/damir_bogdan/Library/Caches/pypoetry/virtualenvs/huberman-rag-09zSrCFX-py3.11/lib/python3.11/site-packages/tqdm/auto.py:21: TqdmWarning: IProgress not found. Please update jupyter and ipywidgets. See https://ipywidgets.readthedocs.io/en/stable/user_install.html\n",
      "  from .autonotebook import tqdm as notebook_tqdm\n",
      "Fetching 30 files: 100%|██████████| 30/30 [00:00<00:00, 260515.78it/s]\n"
     ]
    }
   ],
   "source": [
    "from src.vectorstore import connect_to_milvus, activate_collection\n",
    "from src.retrievers import MilvusRerankRetriever\n",
    "\n",
    "import os\n",
    "from dotenv import load_dotenv"
   ]
  },
  {
   "cell_type": "code",
   "execution_count": 2,
   "metadata": {},
   "outputs": [],
   "source": [
    "from src.retrievers import MilvusMultiVectorRetriever\n",
    "\n",
    "from langchain_core.runnables import RunnablePassthrough\n",
    "from operator import itemgetter\n",
    "from langchain_core.prompts import ChatPromptTemplate\n",
    "from langchain_openai import ChatOpenAI\n",
    "\n",
    "import os\n",
    "from dotenv import load_dotenv"
   ]
  },
  {
   "cell_type": "code",
   "execution_count": 4,
   "metadata": {},
   "outputs": [],
   "source": [
    "connect_to_milvus()\n",
    "collection = activate_collection()\n",
    "collection.load()"
   ]
  },
  {
   "cell_type": "code",
   "execution_count": 5,
   "metadata": {},
   "outputs": [],
   "source": [
    "load_dotenv()\n",
    "OPENAI_API_KEY = os.getenv(\"OPENAI_API_KEY\")\n",
    "COHERE_API_KEY = os.getenv(\"COHERE_API_KEY\")"
   ]
  },
  {
   "cell_type": "code",
   "execution_count": 7,
   "metadata": {},
   "outputs": [],
   "source": [
    "# Template\n",
    "\n",
    "\"\"\"If you do not have the answer in the CONTEXT write \"I don't know\".\n",
    "Do not make things up. Do not fabricate facts. \"\"\"\n",
    "RAG_TEMPLATE = \"\"\"\\\n",
    "You are a Huberman Lab podcast listener. \n",
    "You will be provided a CONTEXT of the podcasts and a QUESTION.\n",
    "Based on the CONTEXT answer the QUESTION.\n",
    "\n",
    "CONTEXT:\n",
    "{context}\n",
    "\n",
    "QUESTION:\n",
    "{question}\n",
    "\"\"\"\n",
    "\n",
    "rag_prompt = ChatPromptTemplate.from_template(RAG_TEMPLATE)\n",
    "\n",
    "# Setup a chat model\n",
    "chat_model = ChatOpenAI()\n",
    "# Setup a retriever\n",
    "retriever = MilvusMultiVectorRetriever()\n",
    "\n",
    "# Setup a chain\n",
    "multivector_chain = (\n",
    "    # INVOKE CHAIN WITH: {\"question\" : \"<<SOME USER QUESTION>>\"}\n",
    "    # \"question\" : populated by getting the value of the \"question\" key\n",
    "    # \"context\"  : populated by getting the value of the \"question\" key and chaining it into the base_retriever\n",
    "    {\"context\": itemgetter(\"question\") | retriever, \"question\": itemgetter(\"question\")}\n",
    "    # \"context\"  : is assigned to a RunnablePassthrough object (will not be called or considered in the next step)\n",
    "    #              by getting the value of the \"context\" key from the previous step\n",
    "    | RunnablePassthrough.assign(context=itemgetter(\"context\"))\n",
    "    # \"response\" : the \"context\" and \"question\" values are used to format our prompt object and then piped\n",
    "    #              into the LLM and stored in a key called \"response\"\n",
    "    # \"context\"  : populated by getting the value of the \"context\" key from the previous step\n",
    "    | {\"response\": rag_prompt | chat_model, \"context\": itemgetter(\"context\")}\n",
    ")"
   ]
  },
  {
   "cell_type": "code",
   "execution_count": 8,
   "metadata": {},
   "outputs": [],
   "source": [
    "res = multivector_chain.invoke({\"question\" : \"What is placebo?\"})"
   ]
  },
  {
   "cell_type": "code",
   "execution_count": 9,
   "metadata": {},
   "outputs": [
    {
     "data": {
      "text/plain": [
       "{'response': AIMessage(content='A placebo is an inert substance or treatment that is used in experiments or clinical trials to compare the effects of a drug or treatment solution. It is used to measure the expectation of what a drug treatment will do, and it can lead to real biological changes in the body and brain.', response_metadata={'token_usage': {'completion_tokens': 56, 'prompt_tokens': 2833, 'total_tokens': 2889}, 'model_name': 'gpt-3.5-turbo', 'system_fingerprint': None, 'finish_reason': 'stop', 'logprobs': None}, id='run-9a86595e-aa22-488d-a11a-1f9e72684896-0'),\n",
       " 'context': [[Document(page_content=\"Simply put, a placebo drug,  again, a drug that has no direct action  on the dopaminergic system,  if it's given to somebody who has Parkinson's or who doesn't  and they are told this drug is going to increase levels  of dopamine in your brain  and potentially improve your symptoms of Parkinson's  or have some other effect,  well, it succeeded in increasing dopamine levels  within the brain,  which basically should make us all sit back and say,  what are we to think of drugs like L-Dopa and apomorphine,  bromocryptine as compared to placebo?  Why isn't everyone just taking placebo?  Why aren't we just telling people,  hey, this sugar pill is going to increase dopamine?  Well, two important points to answer that.\\n First of all, the increases in dopamine  that are observed from placebo,  plus information about what that placebo ought to do  for increasing dopamine are not as robust,  or I should say generally not as robust  as the increases in dopamine observed  from an actual drug known to increase dopamine transmission  or release within the brain.\\n The second point is that the structure  of the information given to somebody  and the belief that they form about what ought to happen,  that is the expectation effect,  which you'll start to realize more and more  across today's episode,  that expectation effect really is the underpinning  of the placebo effect.\\n Well, the strength of that expectation  is really hard to anchor across individuals.\\n And in fact, if people realize they're taking a placebo,  the magnitude of the dopamine increase is actually decreased.\\n So this is why we use placebo controls in clinical trials.\\n We want to establish the real difference  between the effect of a given drug on a biological system,  in this case, increasing dopamine,  from the belief or the expectation  of what that drug will do.\\n So in that sense, the placebo is really a measure  of expectation of what a drug treatment will do,  at least in the context of a drug trial.\"),\n",
       "   Document(page_content=\"So the prefrontal cortex is a sophisticated area  of your brain that takes into account context,  both in the present, as well as memories from the past.\\n It can take into consideration goals about the future,  and then combines all of that into neural signals  to areas of the brain  that control basic physiological functions  related to the immune system, the stress system,  the reward system, the pleasure system, and on and on.\\n So when we talk about placebo, nocebo, and belief effects,  what we're really talking about  is the ability for information and specific experiences  to lead to expectations within us  about what's going to happen,  and then our physiology of our brain and body  fundamentally changes such that those things happen.\\n So let's talk about some specific examples of placebo effects  from the research literature.\\n And today we're going to cover a lot of different examples  from different systems.\\n But as we do that,  I will specifically be selecting examples  that illustrate different types of placebo effects  and illustrate what those different types  of placebo effects are.\\n Now I should mention that if you're interested  in placebo effects, there's a wonderful book  that describes many, many different placebo effects  and their biological underpinnings  in cases where those biological underpinnings are understood.\\n And the book I'm referring to is one that I used prominently  in researching this episode.\\n It's called, none other than,  Placebo Effects, Understanding the Other Side  of Medical Care.\\n And the book is by Fabrizio Benedetti.\\n I hope I pronounced that right, Fabrizio.\\n And to your Italians out there,  if I didn't do it correctly, I apologize.\\n It's an absolutely wonderful book.\\n I confess I've never met Fabrizio Benedetti.\\n I confess I have no relation to the publisher  or to the book itself,  except that I absolutely love the book.\\n So highly recommend this book.\"),\n",
       "   Document(page_content=\"Welcome to the Huberman Lab Podcast,  where we discuss science  and science-based tools for everyday life.\\n I'm Andrew Huberman,  and I'm a professor of neurobiology and ophthalmology  at Stanford School of Medicine.\\n Today, we are discussing placebo effects.\\n We will also be discussing what are called nocebo effects,  as well as belief effects.\\n All three of these, placebo, nocebo, and belief effects,  are all related to our brain's incredible ability  to place an expectation on what is about to happen  and actually change what is about to happen,  independent of the physical and chemical properties  of a drug or some sort of other treatment solution  for things like pain, Parkinson's disease,  irritable bowel syndrome, asthma, stress,  and on and on and on.\\n Now, one of the most incredible things about these effects  is that despite the fact that it would appear  that they are simply psychological  or the power of the mind over matter, it's not that at all.\\n Placebo, nocebo, and belief effects  actually change the way your biology, your physiology works.\\n In fact, you have neural circuits within your brain  that are dedicated to how your expectation  of what will happen actually changes  some of the most core biological functions  within your brain and body,  modifying, for instance, heart rate, blood pressure,  the release of specific neuromodulators  such as dopamine and adrenaline.\\n And so powerfully so that these types of effects  can actually work along with traditional drug treatments  or behavioral treatments in order to vastly change  the way that your brain and body work.\\n So if you think of the word placebo  as an inert substance or treatment  that is merely a control,  it's merely something introduced to an experiment  or a clinical trial to try and figure out  what's happening normally in somebody's brain or body  as a comparison to some drug or other type of treatment.\"),\n",
       "   Document(page_content=\"So in many ways, belief effects  and placebo effects are similar.\\n It's just that the word placebo or placebo effects  is commonly used to refer to drugs  and behavioral interventions.\\n Belief effects are more specific language used to describe  when information of any kind changes the outcome  of some physiological or psychological process.\\n Now, what's common to placebo, nocebo, and belief effects  is that they all work by changing expectation.\\n And anytime we talk about expectation,  we're talking about the function of the nervous system  and specifically the brain  and specifically the prefrontal cortex within the brain.\\n The prefrontal cortex is neural real estate,  which is just fancy nerd speak for the neurons  and their connections that reside just behind your forehead,  just in the front of your skull.\\n Now, the prefrontal cortex  has a lot of different subdivisions or regions.\\n The overall function of the prefrontal cortex  can be described as having the ability to either activate  or suppress other neural circuits deeper in the brain.\\n Some people, in fact, a previous guest  on the Huberman Lab podcast, a neurosurgeon,  said the prefrontal cortex can generally be described  as the structure in the brain  that controls other structures in the brain  by saying shh or suppressing their function.\\n So for instance, if you have the impulse to move or to shout,  the prefrontal cortex suppresses that movement  or suppresses that desire to shout or that shouting.\"),\n",
       "   Document(page_content=\"So again, this really speaks to the fact  that placebo effects can be very powerful,  but that they're very specific.\\n They are not simply wiping out a condition like asthma  or completely eliminating all symptomology  of a given condition like cancer.\\n This study illustrates very clearly  that placebo is effective in reducing the discomfort  associated with the challenges of breathing,  but not eliminating challenges with breathing per se.\\n Whereas, as I mentioned before,  there are drugs, bona fide prescription drug treatments  that can both restore normal patterns of breathing  and relieve the discomfort.\\n So what this really speaks to is the fact  that the prefrontal cortex  and its involvement and expectation  can have powerful effects on things like pain,  powerful effects on things like dopamine,  powerful effects on any number  of different brain and body systems,  but not all of them.\\n Our beliefs and expectations are powerful  as evidenced by the placebo effect itself,  but they are not what we call omnipotent.\\n They can't do anything and everything.\\n I'd like to take a quick break  and thank our sponsor, InsideTracker.\\n InsideTracker is a personalized nutrition platform  that analyzes data from your blood and DNA  to help you better understand your body  and help you reach your health goals.\\n I've long been a believer in getting  regular blood work done for the simple reason  that many of the factors that impact your immediate  and long-term health can only be analyzed  from a quality blood test.\\n A major problem with a lot of blood tests out there,  however, is that you get information back  about metabolic factors, lipids and hormones and so forth,  but you don't know what to do with that information.\"),\n",
       "   Document(page_content=\"So for instance, people who are told a given drug  will help them with their cancer  by reducing their symptoms of chemotherapy  or radiation therapy,  often experience reductions in the negative symptoms  of chemotherapy or radiation therapy,  reduced pain, reduced nausea,  and by consequence, improved feelings of wellbeing  compared to people who do not receive the placebo  and who are not told, hey, this drug,  which in reality is a placebo,  is going to help you with your treatment.\\n It's going to make it less uncomfortable.\\n Okay, so in the context of cancer treatment,  a placebo can reduce the discomfort  of various cancer treatments.\\n However, placebos cannot reduce the size  or eliminate tumors.\\n If people who unfortunately have tumors,  okay, cancer, are given a placebo  and told this drug, which actually is a placebo,  unbeknownst to them,  is going to reduce the size of your tumors  or eliminate your tumors,  that placebo is not effective in reducing the size  or eliminating those tumors.\\n This is very important to understand  because as you recall,  placebo effects are expectation effects.\\n Expectation effects are driven in large part  by the prefrontal cortex and its connectivity  to other areas of the brain and thereby to the body,  but the outputs of the prefrontal cortex are limited.\\n There are a certain number of them,  and indeed, there are many of them,  but those connections do not extend to tumors themselves  or biological systems or circuitries  that allow one's beliefs to reduce the size of  or eliminate tumors.\\n And this is very important because, unfortunately,  there are many sufferers of cancer,  and there are many theories  about accelerating the treatment of  or improving the treatment of,  or even curing cancer using so-called mind-body techniques  or mind-body tools.\"),\n",
       "   Document(page_content=\"And now there are studies that are starting to show  that the levels of those genes  and the degree to which one experiences the placebo effect,  either elevated response or reduced response  to the placebo effect, seem to be fairly strongly correlated.\\n So this, again, is more evidence that, yes,  the placebo effect is based on knowledge,  belief, expectation,  but that it has a real biological substrate.\\n Just as there are anatomical pathways  out of the prefrontal cortex of the hypothalamus  down to the brainstem and out to the body,  there are also genes expressed in specific cells  within our brain and body  that allow for our beliefs and expectations  that are carried through that prefrontal cortex circuitry  to have either a greater or lesser effect.\\n So throughout today's episode,  I've been talking about how knowledge,  your belief and understanding about what might happen  ought to happen or very likely will happen,  influences whether or not that thing actually happens,  the so-called placebo effect  or belief effect or mindset effect.\\n And what I hope I've made clear  during the course of our discussion  is that while placebo effects arrive  through our cognitive understanding  of what might, ought to, or is likely to happen,  the downstream effects, the effects on asthma,  irritable bowel syndrome, insulin, growth hormone,  pick your favorite biological system.\\n Essentially, every system within the brain and body  has been shown to be susceptible to placebo effects.\\n What I hope is becoming clear is that in every case,  the placebo effect is a biological effect.\\n It's not just our thoughts  tricking us into thinking something happened  that didn't happen.\\n It's our thoughts, our mind creating real biological effects.\\n If you're learning from and or enjoying this podcast,  please subscribe to our YouTube channel.\\n That's a terrific zero-cost way to support us.\\n In addition, please subscribe to the podcast  on both Spotify and Apple.\")]]}"
      ]
     },
     "execution_count": 9,
     "metadata": {},
     "output_type": "execute_result"
    }
   ],
   "source": [
    "res"
   ]
  }
 ],
 "metadata": {
  "kernelspec": {
   "display_name": "huberman-rag-fdQcU6Ve-py3.11",
   "language": "python",
   "name": "python3"
  },
  "language_info": {
   "codemirror_mode": {
    "name": "ipython",
    "version": 3
   },
   "file_extension": ".py",
   "mimetype": "text/x-python",
   "name": "python",
   "nbconvert_exporter": "python",
   "pygments_lexer": "ipython3",
   "version": "3.11.7"
  }
 },
 "nbformat": 4,
 "nbformat_minor": 2
}
