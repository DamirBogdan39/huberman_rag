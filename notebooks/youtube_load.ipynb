{
 "cells": [
  {
   "cell_type": "code",
   "execution_count": 3,
   "metadata": {},
   "outputs": [],
   "source": [
    "from langchain.document_loaders.blob_loaders.youtube_audio import YoutubeAudioLoader\n",
    "\n",
    "urls = [\n",
    "    \"https://www.youtube.com/watch?v=iw97uvIge7c\",\n",
    "    \"https://www.youtube.com/watch?v=DkS1pkKpILY\",\n",
    "    \"https://www.youtube.com/watch?v=eIxVfln02Ss\",\n",
    "]\n",
    "\n",
    "save_dir = \"docs/youtube/\"\n",
    "\n",
    "\n",
    "loader = YoutubeAudioLoader([urls], save_dir)\n",
    "blob = loader.yield_blobs()"
   ]
  },
  {
   "cell_type": "code",
   "execution_count": 4,
   "metadata": {},
   "outputs": [
    {
     "name": "stdout",
     "output_type": "stream",
     "text": [
      "[youtube] Extracting URL: https://www.youtube.com/watch?v=iw97uvIge7c\n",
      "[youtube] iw97uvIge7c: Downloading webpage\n"
     ]
    },
    {
     "name": "stdout",
     "output_type": "stream",
     "text": [
      "[youtube] iw97uvIge7c: Downloading ios player API JSON\n",
      "[youtube] iw97uvIge7c: Downloading android player API JSON\n",
      "[youtube] iw97uvIge7c: Downloading m3u8 information\n",
      "[info] iw97uvIge7c: Downloading 1 format(s): 140\n",
      "[download] docs/youtube//Using Caffeine to Optimize Mental & Physical Performance ｜ Huberman Lab Podcast 101.m4a has already been downloaded\n",
      "[download] 100% of  131.95MiB\n"
     ]
    },
    {
     "ename": "KeyboardInterrupt",
     "evalue": "",
     "output_type": "error",
     "traceback": [
      "\u001b[0;31m---------------------------------------------------------------------------\u001b[0m",
      "\u001b[0;31mKeyboardInterrupt\u001b[0m                         Traceback (most recent call last)",
      "Cell \u001b[0;32mIn[4], line 1\u001b[0m\n\u001b[0;32m----> 1\u001b[0m \u001b[38;5;28;43;01mfor\u001b[39;49;00m\u001b[43m \u001b[49m\u001b[43mbl\u001b[49m\u001b[43m \u001b[49m\u001b[38;5;129;43;01min\u001b[39;49;00m\u001b[43m \u001b[49m\u001b[43mblob\u001b[49m\u001b[43m:\u001b[49m\n\u001b[1;32m      2\u001b[0m \u001b[43m    \u001b[49m\u001b[38;5;28;43mprint\u001b[39;49m\u001b[43m(\u001b[49m\u001b[43mbl\u001b[49m\u001b[43m)\u001b[49m\n",
      "File \u001b[0;32m~/.cache/pypoetry/virtualenvs/huberman-rag-fdQcU6Ve-py3.11/lib/python3.11/site-packages/langchain_community/document_loaders/blob_loaders/youtube_audio.py:45\u001b[0m, in \u001b[0;36mYoutubeAudioLoader.yield_blobs\u001b[0;34m(self)\u001b[0m\n\u001b[1;32m     42\u001b[0m \u001b[38;5;28;01mfor\u001b[39;00m url \u001b[38;5;129;01min\u001b[39;00m \u001b[38;5;28mself\u001b[39m\u001b[38;5;241m.\u001b[39murls:\n\u001b[1;32m     43\u001b[0m     \u001b[38;5;66;03m# Download file\u001b[39;00m\n\u001b[1;32m     44\u001b[0m     \u001b[38;5;28;01mwith\u001b[39;00m yt_dlp\u001b[38;5;241m.\u001b[39mYoutubeDL(ydl_opts) \u001b[38;5;28;01mas\u001b[39;00m ydl:\n\u001b[0;32m---> 45\u001b[0m         \u001b[43mydl\u001b[49m\u001b[38;5;241;43m.\u001b[39;49m\u001b[43mdownload\u001b[49m\u001b[43m(\u001b[49m\u001b[43murl\u001b[49m\u001b[43m)\u001b[49m\n\u001b[1;32m     47\u001b[0m \u001b[38;5;66;03m# Yield the written blobs\u001b[39;00m\n\u001b[1;32m     48\u001b[0m loader \u001b[38;5;241m=\u001b[39m FileSystemBlobLoader(\u001b[38;5;28mself\u001b[39m\u001b[38;5;241m.\u001b[39msave_dir, glob\u001b[38;5;241m=\u001b[39m\u001b[38;5;124m\"\u001b[39m\u001b[38;5;124m*.m4a\u001b[39m\u001b[38;5;124m\"\u001b[39m)\n",
      "File \u001b[0;32m~/.cache/pypoetry/virtualenvs/huberman-rag-fdQcU6Ve-py3.11/lib/python3.11/site-packages/yt_dlp/YoutubeDL.py:3572\u001b[0m, in \u001b[0;36mYoutubeDL.download\u001b[0;34m(self, url_list)\u001b[0m\n\u001b[1;32m   3569\u001b[0m     \u001b[38;5;28;01mraise\u001b[39;00m SameFileError(outtmpl)\n\u001b[1;32m   3571\u001b[0m \u001b[38;5;28;01mfor\u001b[39;00m url \u001b[38;5;129;01min\u001b[39;00m url_list:\n\u001b[0;32m-> 3572\u001b[0m     \u001b[38;5;28;43mself\u001b[39;49m\u001b[38;5;241;43m.\u001b[39;49m\u001b[43m__download_wrapper\u001b[49m\u001b[43m(\u001b[49m\u001b[38;5;28;43mself\u001b[39;49m\u001b[38;5;241;43m.\u001b[39;49m\u001b[43mextract_info\u001b[49m\u001b[43m)\u001b[49m\u001b[43m(\u001b[49m\n\u001b[1;32m   3573\u001b[0m \u001b[43m        \u001b[49m\u001b[43murl\u001b[49m\u001b[43m,\u001b[49m\u001b[43m \u001b[49m\u001b[43mforce_generic_extractor\u001b[49m\u001b[38;5;241;43m=\u001b[39;49m\u001b[38;5;28;43mself\u001b[39;49m\u001b[38;5;241;43m.\u001b[39;49m\u001b[43mparams\u001b[49m\u001b[38;5;241;43m.\u001b[39;49m\u001b[43mget\u001b[49m\u001b[43m(\u001b[49m\u001b[38;5;124;43m'\u001b[39;49m\u001b[38;5;124;43mforce_generic_extractor\u001b[39;49m\u001b[38;5;124;43m'\u001b[39;49m\u001b[43m,\u001b[49m\u001b[43m \u001b[49m\u001b[38;5;28;43;01mFalse\u001b[39;49;00m\u001b[43m)\u001b[49m\u001b[43m)\u001b[49m\n\u001b[1;32m   3575\u001b[0m \u001b[38;5;28;01mreturn\u001b[39;00m \u001b[38;5;28mself\u001b[39m\u001b[38;5;241m.\u001b[39m_download_retcode\n",
      "File \u001b[0;32m~/.cache/pypoetry/virtualenvs/huberman-rag-fdQcU6Ve-py3.11/lib/python3.11/site-packages/yt_dlp/YoutubeDL.py:3547\u001b[0m, in \u001b[0;36mYoutubeDL.__download_wrapper.<locals>.wrapper\u001b[0;34m(*args, **kwargs)\u001b[0m\n\u001b[1;32m   3544\u001b[0m \u001b[38;5;129m@functools\u001b[39m\u001b[38;5;241m.\u001b[39mwraps(func)\n\u001b[1;32m   3545\u001b[0m \u001b[38;5;28;01mdef\u001b[39;00m \u001b[38;5;21mwrapper\u001b[39m(\u001b[38;5;241m*\u001b[39margs, \u001b[38;5;241m*\u001b[39m\u001b[38;5;241m*\u001b[39mkwargs):\n\u001b[1;32m   3546\u001b[0m     \u001b[38;5;28;01mtry\u001b[39;00m:\n\u001b[0;32m-> 3547\u001b[0m         res \u001b[38;5;241m=\u001b[39m \u001b[43mfunc\u001b[49m\u001b[43m(\u001b[49m\u001b[38;5;241;43m*\u001b[39;49m\u001b[43margs\u001b[49m\u001b[43m,\u001b[49m\u001b[43m \u001b[49m\u001b[38;5;241;43m*\u001b[39;49m\u001b[38;5;241;43m*\u001b[39;49m\u001b[43mkwargs\u001b[49m\u001b[43m)\u001b[49m\n\u001b[1;32m   3548\u001b[0m     \u001b[38;5;28;01mexcept\u001b[39;00m UnavailableVideoError \u001b[38;5;28;01mas\u001b[39;00m e:\n\u001b[1;32m   3549\u001b[0m         \u001b[38;5;28mself\u001b[39m\u001b[38;5;241m.\u001b[39mreport_error(e)\n",
      "File \u001b[0;32m~/.cache/pypoetry/virtualenvs/huberman-rag-fdQcU6Ve-py3.11/lib/python3.11/site-packages/yt_dlp/YoutubeDL.py:1595\u001b[0m, in \u001b[0;36mYoutubeDL.extract_info\u001b[0;34m(self, url, download, ie_key, extra_info, process, force_generic_extractor)\u001b[0m\n\u001b[1;32m   1593\u001b[0m             \u001b[38;5;28;01mraise\u001b[39;00m ExistingVideoReached()\n\u001b[1;32m   1594\u001b[0m         \u001b[38;5;28;01mbreak\u001b[39;00m\n\u001b[0;32m-> 1595\u001b[0m     \u001b[38;5;28;01mreturn\u001b[39;00m \u001b[38;5;28;43mself\u001b[39;49m\u001b[38;5;241;43m.\u001b[39;49m\u001b[43m__extract_info\u001b[49m\u001b[43m(\u001b[49m\u001b[43murl\u001b[49m\u001b[43m,\u001b[49m\u001b[43m \u001b[49m\u001b[38;5;28;43mself\u001b[39;49m\u001b[38;5;241;43m.\u001b[39;49m\u001b[43mget_info_extractor\u001b[49m\u001b[43m(\u001b[49m\u001b[43mkey\u001b[49m\u001b[43m)\u001b[49m\u001b[43m,\u001b[49m\u001b[43m \u001b[49m\u001b[43mdownload\u001b[49m\u001b[43m,\u001b[49m\u001b[43m \u001b[49m\u001b[43mextra_info\u001b[49m\u001b[43m,\u001b[49m\u001b[43m \u001b[49m\u001b[43mprocess\u001b[49m\u001b[43m)\u001b[49m\n\u001b[1;32m   1596\u001b[0m \u001b[38;5;28;01melse\u001b[39;00m:\n\u001b[1;32m   1597\u001b[0m     extractors_restricted \u001b[38;5;241m=\u001b[39m \u001b[38;5;28mself\u001b[39m\u001b[38;5;241m.\u001b[39mparams\u001b[38;5;241m.\u001b[39mget(\u001b[38;5;124m'\u001b[39m\u001b[38;5;124mallowed_extractors\u001b[39m\u001b[38;5;124m'\u001b[39m) \u001b[38;5;129;01mnot\u001b[39;00m \u001b[38;5;129;01min\u001b[39;00m (\u001b[38;5;28;01mNone\u001b[39;00m, [\u001b[38;5;124m'\u001b[39m\u001b[38;5;124mdefault\u001b[39m\u001b[38;5;124m'\u001b[39m])\n",
      "File \u001b[0;32m~/.cache/pypoetry/virtualenvs/huberman-rag-fdQcU6Ve-py3.11/lib/python3.11/site-packages/yt_dlp/YoutubeDL.py:1606\u001b[0m, in \u001b[0;36mYoutubeDL._handle_extraction_exceptions.<locals>.wrapper\u001b[0;34m(self, *args, **kwargs)\u001b[0m\n\u001b[1;32m   1604\u001b[0m \u001b[38;5;28;01mwhile\u001b[39;00m \u001b[38;5;28;01mTrue\u001b[39;00m:\n\u001b[1;32m   1605\u001b[0m     \u001b[38;5;28;01mtry\u001b[39;00m:\n\u001b[0;32m-> 1606\u001b[0m         \u001b[38;5;28;01mreturn\u001b[39;00m \u001b[43mfunc\u001b[49m\u001b[43m(\u001b[49m\u001b[38;5;28;43mself\u001b[39;49m\u001b[43m,\u001b[49m\u001b[43m \u001b[49m\u001b[38;5;241;43m*\u001b[39;49m\u001b[43margs\u001b[49m\u001b[43m,\u001b[49m\u001b[43m \u001b[49m\u001b[38;5;241;43m*\u001b[39;49m\u001b[38;5;241;43m*\u001b[39;49m\u001b[43mkwargs\u001b[49m\u001b[43m)\u001b[49m\n\u001b[1;32m   1607\u001b[0m     \u001b[38;5;28;01mexcept\u001b[39;00m (DownloadCancelled, LazyList\u001b[38;5;241m.\u001b[39mIndexError, PagedList\u001b[38;5;241m.\u001b[39mIndexError):\n\u001b[1;32m   1608\u001b[0m         \u001b[38;5;28;01mraise\u001b[39;00m\n",
      "File \u001b[0;32m~/.cache/pypoetry/virtualenvs/huberman-rag-fdQcU6Ve-py3.11/lib/python3.11/site-packages/yt_dlp/YoutubeDL.py:1762\u001b[0m, in \u001b[0;36mYoutubeDL.__extract_info\u001b[0;34m(self, url, ie, download, extra_info, process)\u001b[0m\n\u001b[1;32m   1760\u001b[0m \u001b[38;5;28;01mif\u001b[39;00m process:\n\u001b[1;32m   1761\u001b[0m     \u001b[38;5;28mself\u001b[39m\u001b[38;5;241m.\u001b[39m_wait_for_video(ie_result)\n\u001b[0;32m-> 1762\u001b[0m     \u001b[38;5;28;01mreturn\u001b[39;00m \u001b[38;5;28;43mself\u001b[39;49m\u001b[38;5;241;43m.\u001b[39;49m\u001b[43mprocess_ie_result\u001b[49m\u001b[43m(\u001b[49m\u001b[43mie_result\u001b[49m\u001b[43m,\u001b[49m\u001b[43m \u001b[49m\u001b[43mdownload\u001b[49m\u001b[43m,\u001b[49m\u001b[43m \u001b[49m\u001b[43mextra_info\u001b[49m\u001b[43m)\u001b[49m\n\u001b[1;32m   1763\u001b[0m \u001b[38;5;28;01melse\u001b[39;00m:\n\u001b[1;32m   1764\u001b[0m     \u001b[38;5;28;01mreturn\u001b[39;00m ie_result\n",
      "File \u001b[0;32m~/.cache/pypoetry/virtualenvs/huberman-rag-fdQcU6Ve-py3.11/lib/python3.11/site-packages/yt_dlp/YoutubeDL.py:1821\u001b[0m, in \u001b[0;36mYoutubeDL.process_ie_result\u001b[0;34m(self, ie_result, download, extra_info)\u001b[0m\n\u001b[1;32m   1819\u001b[0m \u001b[38;5;28;01mif\u001b[39;00m result_type \u001b[38;5;241m==\u001b[39m \u001b[38;5;124m'\u001b[39m\u001b[38;5;124mvideo\u001b[39m\u001b[38;5;124m'\u001b[39m:\n\u001b[1;32m   1820\u001b[0m     \u001b[38;5;28mself\u001b[39m\u001b[38;5;241m.\u001b[39madd_extra_info(ie_result, extra_info)\n\u001b[0;32m-> 1821\u001b[0m     ie_result \u001b[38;5;241m=\u001b[39m \u001b[38;5;28;43mself\u001b[39;49m\u001b[38;5;241;43m.\u001b[39;49m\u001b[43mprocess_video_result\u001b[49m\u001b[43m(\u001b[49m\u001b[43mie_result\u001b[49m\u001b[43m,\u001b[49m\u001b[43m \u001b[49m\u001b[43mdownload\u001b[49m\u001b[38;5;241;43m=\u001b[39;49m\u001b[43mdownload\u001b[49m\u001b[43m)\u001b[49m\n\u001b[1;32m   1822\u001b[0m     \u001b[38;5;28mself\u001b[39m\u001b[38;5;241m.\u001b[39m_raise_pending_errors(ie_result)\n\u001b[1;32m   1823\u001b[0m     additional_urls \u001b[38;5;241m=\u001b[39m (ie_result \u001b[38;5;129;01mor\u001b[39;00m {})\u001b[38;5;241m.\u001b[39mget(\u001b[38;5;124m'\u001b[39m\u001b[38;5;124madditional_urls\u001b[39m\u001b[38;5;124m'\u001b[39m)\n",
      "File \u001b[0;32m~/.cache/pypoetry/virtualenvs/huberman-rag-fdQcU6Ve-py3.11/lib/python3.11/site-packages/yt_dlp/YoutubeDL.py:2982\u001b[0m, in \u001b[0;36mYoutubeDL.process_video_result\u001b[0;34m(self, info_dict, download)\u001b[0m\n\u001b[1;32m   2980\u001b[0m downloaded_formats\u001b[38;5;241m.\u001b[39mappend(new_info)\n\u001b[1;32m   2981\u001b[0m \u001b[38;5;28;01mtry\u001b[39;00m:\n\u001b[0;32m-> 2982\u001b[0m     \u001b[38;5;28;43mself\u001b[39;49m\u001b[38;5;241;43m.\u001b[39;49m\u001b[43mprocess_info\u001b[49m\u001b[43m(\u001b[49m\u001b[43mnew_info\u001b[49m\u001b[43m)\u001b[49m\n\u001b[1;32m   2983\u001b[0m \u001b[38;5;28;01mexcept\u001b[39;00m MaxDownloadsReached:\n\u001b[1;32m   2984\u001b[0m     max_downloads_reached \u001b[38;5;241m=\u001b[39m \u001b[38;5;28;01mTrue\u001b[39;00m\n",
      "File \u001b[0;32m~/.cache/pypoetry/virtualenvs/huberman-rag-fdQcU6Ve-py3.11/lib/python3.11/site-packages/yt_dlp/YoutubeDL.py:3526\u001b[0m, in \u001b[0;36mYoutubeDL.process_info\u001b[0;34m(self, info_dict)\u001b[0m\n\u001b[1;32m   3524\u001b[0m fixup()\n\u001b[1;32m   3525\u001b[0m \u001b[38;5;28;01mtry\u001b[39;00m:\n\u001b[0;32m-> 3526\u001b[0m     replace_info_dict(\u001b[38;5;28;43mself\u001b[39;49m\u001b[38;5;241;43m.\u001b[39;49m\u001b[43mpost_process\u001b[49m\u001b[43m(\u001b[49m\u001b[43mdl_filename\u001b[49m\u001b[43m,\u001b[49m\u001b[43m \u001b[49m\u001b[43minfo_dict\u001b[49m\u001b[43m,\u001b[49m\u001b[43m \u001b[49m\u001b[43mfiles_to_move\u001b[49m\u001b[43m)\u001b[49m)\n\u001b[1;32m   3527\u001b[0m \u001b[38;5;28;01mexcept\u001b[39;00m PostProcessingError \u001b[38;5;28;01mas\u001b[39;00m err:\n\u001b[1;32m   3528\u001b[0m     \u001b[38;5;28mself\u001b[39m\u001b[38;5;241m.\u001b[39mreport_error(\u001b[38;5;124m'\u001b[39m\u001b[38;5;124mPostprocessing: \u001b[39m\u001b[38;5;132;01m%s\u001b[39;00m\u001b[38;5;124m'\u001b[39m \u001b[38;5;241m%\u001b[39m \u001b[38;5;28mstr\u001b[39m(err))\n",
      "File \u001b[0;32m~/.cache/pypoetry/virtualenvs/huberman-rag-fdQcU6Ve-py3.11/lib/python3.11/site-packages/yt_dlp/YoutubeDL.py:3708\u001b[0m, in \u001b[0;36mYoutubeDL.post_process\u001b[0;34m(self, filename, info, files_to_move)\u001b[0m\n\u001b[1;32m   3706\u001b[0m info[\u001b[38;5;124m'\u001b[39m\u001b[38;5;124mfilepath\u001b[39m\u001b[38;5;124m'\u001b[39m] \u001b[38;5;241m=\u001b[39m filename\n\u001b[1;32m   3707\u001b[0m info[\u001b[38;5;124m'\u001b[39m\u001b[38;5;124m__files_to_move\u001b[39m\u001b[38;5;124m'\u001b[39m] \u001b[38;5;241m=\u001b[39m files_to_move \u001b[38;5;129;01mor\u001b[39;00m {}\n\u001b[0;32m-> 3708\u001b[0m info \u001b[38;5;241m=\u001b[39m \u001b[38;5;28;43mself\u001b[39;49m\u001b[38;5;241;43m.\u001b[39;49m\u001b[43mrun_all_pps\u001b[49m\u001b[43m(\u001b[49m\u001b[38;5;124;43m'\u001b[39;49m\u001b[38;5;124;43mpost_process\u001b[39;49m\u001b[38;5;124;43m'\u001b[39;49m\u001b[43m,\u001b[49m\u001b[43m \u001b[49m\u001b[43minfo\u001b[49m\u001b[43m,\u001b[49m\u001b[43m \u001b[49m\u001b[43madditional_pps\u001b[49m\u001b[38;5;241;43m=\u001b[39;49m\u001b[43minfo\u001b[49m\u001b[38;5;241;43m.\u001b[39;49m\u001b[43mget\u001b[49m\u001b[43m(\u001b[49m\u001b[38;5;124;43m'\u001b[39;49m\u001b[38;5;124;43m__postprocessors\u001b[39;49m\u001b[38;5;124;43m'\u001b[39;49m\u001b[43m)\u001b[49m\u001b[43m)\u001b[49m\n\u001b[1;32m   3709\u001b[0m info \u001b[38;5;241m=\u001b[39m \u001b[38;5;28mself\u001b[39m\u001b[38;5;241m.\u001b[39mrun_pp(MoveFilesAfterDownloadPP(\u001b[38;5;28mself\u001b[39m), info)\n\u001b[1;32m   3710\u001b[0m \u001b[38;5;28;01mdel\u001b[39;00m info[\u001b[38;5;124m'\u001b[39m\u001b[38;5;124m__files_to_move\u001b[39m\u001b[38;5;124m'\u001b[39m]\n",
      "File \u001b[0;32m~/.cache/pypoetry/virtualenvs/huberman-rag-fdQcU6Ve-py3.11/lib/python3.11/site-packages/yt_dlp/YoutubeDL.py:3690\u001b[0m, in \u001b[0;36mYoutubeDL.run_all_pps\u001b[0;34m(self, key, info, additional_pps)\u001b[0m\n\u001b[1;32m   3688\u001b[0m     \u001b[38;5;28mself\u001b[39m\u001b[38;5;241m.\u001b[39m_forceprint(key, info)\n\u001b[1;32m   3689\u001b[0m \u001b[38;5;28;01mfor\u001b[39;00m pp \u001b[38;5;129;01min\u001b[39;00m (additional_pps \u001b[38;5;129;01mor\u001b[39;00m []) \u001b[38;5;241m+\u001b[39m \u001b[38;5;28mself\u001b[39m\u001b[38;5;241m.\u001b[39m_pps[key]:\n\u001b[0;32m-> 3690\u001b[0m     info \u001b[38;5;241m=\u001b[39m \u001b[38;5;28;43mself\u001b[39;49m\u001b[38;5;241;43m.\u001b[39;49m\u001b[43mrun_pp\u001b[49m\u001b[43m(\u001b[49m\u001b[43mpp\u001b[49m\u001b[43m,\u001b[49m\u001b[43m \u001b[49m\u001b[43minfo\u001b[49m\u001b[43m)\u001b[49m\n\u001b[1;32m   3691\u001b[0m \u001b[38;5;28;01mreturn\u001b[39;00m info\n",
      "File \u001b[0;32m~/.cache/pypoetry/virtualenvs/huberman-rag-fdQcU6Ve-py3.11/lib/python3.11/site-packages/yt_dlp/YoutubeDL.py:3668\u001b[0m, in \u001b[0;36mYoutubeDL.run_pp\u001b[0;34m(self, pp, infodict)\u001b[0m\n\u001b[1;32m   3666\u001b[0m     infodict[\u001b[38;5;124m'\u001b[39m\u001b[38;5;124m__files_to_move\u001b[39m\u001b[38;5;124m'\u001b[39m] \u001b[38;5;241m=\u001b[39m {}\n\u001b[1;32m   3667\u001b[0m \u001b[38;5;28;01mtry\u001b[39;00m:\n\u001b[0;32m-> 3668\u001b[0m     files_to_delete, infodict \u001b[38;5;241m=\u001b[39m \u001b[43mpp\u001b[49m\u001b[38;5;241;43m.\u001b[39;49m\u001b[43mrun\u001b[49m\u001b[43m(\u001b[49m\u001b[43minfodict\u001b[49m\u001b[43m)\u001b[49m\n\u001b[1;32m   3669\u001b[0m \u001b[38;5;28;01mexcept\u001b[39;00m PostProcessingError \u001b[38;5;28;01mas\u001b[39;00m e:\n\u001b[1;32m   3670\u001b[0m     \u001b[38;5;66;03m# Must be True and not 'only_download'\u001b[39;00m\n\u001b[1;32m   3671\u001b[0m     \u001b[38;5;28;01mif\u001b[39;00m \u001b[38;5;28mself\u001b[39m\u001b[38;5;241m.\u001b[39mparams\u001b[38;5;241m.\u001b[39mget(\u001b[38;5;124m'\u001b[39m\u001b[38;5;124mignoreerrors\u001b[39m\u001b[38;5;124m'\u001b[39m) \u001b[38;5;129;01mis\u001b[39;00m \u001b[38;5;28;01mTrue\u001b[39;00m:\n",
      "File \u001b[0;32m~/.cache/pypoetry/virtualenvs/huberman-rag-fdQcU6Ve-py3.11/lib/python3.11/site-packages/yt_dlp/postprocessor/common.py:23\u001b[0m, in \u001b[0;36mPostProcessorMetaClass.run_wrapper.<locals>.run\u001b[0;34m(self, info, *args, **kwargs)\u001b[0m\n\u001b[1;32m     21\u001b[0m info_copy \u001b[38;5;241m=\u001b[39m \u001b[38;5;28mself\u001b[39m\u001b[38;5;241m.\u001b[39m_copy_infodict(info)\n\u001b[1;32m     22\u001b[0m \u001b[38;5;28mself\u001b[39m\u001b[38;5;241m.\u001b[39m_hook_progress({\u001b[38;5;124m'\u001b[39m\u001b[38;5;124mstatus\u001b[39m\u001b[38;5;124m'\u001b[39m: \u001b[38;5;124m'\u001b[39m\u001b[38;5;124mstarted\u001b[39m\u001b[38;5;124m'\u001b[39m}, info_copy)\n\u001b[0;32m---> 23\u001b[0m ret \u001b[38;5;241m=\u001b[39m \u001b[43mfunc\u001b[49m\u001b[43m(\u001b[49m\u001b[38;5;28;43mself\u001b[39;49m\u001b[43m,\u001b[49m\u001b[43m \u001b[49m\u001b[43minfo\u001b[49m\u001b[43m,\u001b[49m\u001b[43m \u001b[49m\u001b[38;5;241;43m*\u001b[39;49m\u001b[43margs\u001b[49m\u001b[43m,\u001b[49m\u001b[43m \u001b[49m\u001b[38;5;241;43m*\u001b[39;49m\u001b[38;5;241;43m*\u001b[39;49m\u001b[43mkwargs\u001b[49m\u001b[43m)\u001b[49m\n\u001b[1;32m     24\u001b[0m \u001b[38;5;28;01mif\u001b[39;00m ret \u001b[38;5;129;01mis\u001b[39;00m \u001b[38;5;129;01mnot\u001b[39;00m \u001b[38;5;28;01mNone\u001b[39;00m:\n\u001b[1;32m     25\u001b[0m     _, info \u001b[38;5;241m=\u001b[39m ret\n",
      "File \u001b[0;32m~/.cache/pypoetry/virtualenvs/huberman-rag-fdQcU6Ve-py3.11/lib/python3.11/site-packages/yt_dlp/postprocessor/common.py:128\u001b[0m, in \u001b[0;36mPostProcessor._restrict_to.<locals>.decorator.<locals>.wrapper\u001b[0;34m(self, info)\u001b[0m\n\u001b[1;32m    123\u001b[0m format_type \u001b[38;5;241m=\u001b[39m (\n\u001b[1;32m    124\u001b[0m     \u001b[38;5;124m'\u001b[39m\u001b[38;5;124mvideo\u001b[39m\u001b[38;5;124m'\u001b[39m \u001b[38;5;28;01mif\u001b[39;00m info\u001b[38;5;241m.\u001b[39mget(\u001b[38;5;124m'\u001b[39m\u001b[38;5;124mvcodec\u001b[39m\u001b[38;5;124m'\u001b[39m) \u001b[38;5;241m!=\u001b[39m \u001b[38;5;124m'\u001b[39m\u001b[38;5;124mnone\u001b[39m\u001b[38;5;124m'\u001b[39m\n\u001b[1;32m    125\u001b[0m     \u001b[38;5;28;01melse\u001b[39;00m \u001b[38;5;124m'\u001b[39m\u001b[38;5;124maudio\u001b[39m\u001b[38;5;124m'\u001b[39m \u001b[38;5;28;01mif\u001b[39;00m info\u001b[38;5;241m.\u001b[39mget(\u001b[38;5;124m'\u001b[39m\u001b[38;5;124macodec\u001b[39m\u001b[38;5;124m'\u001b[39m) \u001b[38;5;241m!=\u001b[39m \u001b[38;5;124m'\u001b[39m\u001b[38;5;124mnone\u001b[39m\u001b[38;5;124m'\u001b[39m\n\u001b[1;32m    126\u001b[0m     \u001b[38;5;28;01melse\u001b[39;00m \u001b[38;5;124m'\u001b[39m\u001b[38;5;124mimages\u001b[39m\u001b[38;5;124m'\u001b[39m)\n\u001b[1;32m    127\u001b[0m \u001b[38;5;28;01mif\u001b[39;00m allowed[format_type]:\n\u001b[0;32m--> 128\u001b[0m     \u001b[38;5;28;01mreturn\u001b[39;00m \u001b[43mfunc\u001b[49m\u001b[43m(\u001b[49m\u001b[38;5;28;43mself\u001b[39;49m\u001b[43m,\u001b[49m\u001b[43m \u001b[49m\u001b[43minfo\u001b[49m\u001b[43m)\u001b[49m\n\u001b[1;32m    129\u001b[0m \u001b[38;5;28;01melse\u001b[39;00m:\n\u001b[1;32m    130\u001b[0m     \u001b[38;5;28mself\u001b[39m\u001b[38;5;241m.\u001b[39mto_screen(\u001b[38;5;124m'\u001b[39m\u001b[38;5;124mSkipping \u001b[39m\u001b[38;5;132;01m%s\u001b[39;00m\u001b[38;5;124m'\u001b[39m \u001b[38;5;241m%\u001b[39m format_type)\n",
      "File \u001b[0;32m~/.cache/pypoetry/virtualenvs/huberman-rag-fdQcU6Ve-py3.11/lib/python3.11/site-packages/yt_dlp/postprocessor/ffmpeg.py:493\u001b[0m, in \u001b[0;36mFFmpegExtractAudioPP.run\u001b[0;34m(self, information)\u001b[0m\n\u001b[1;32m    490\u001b[0m     \u001b[38;5;28mself\u001b[39m\u001b[38;5;241m.\u001b[39mto_screen(\u001b[38;5;124mf\u001b[39m\u001b[38;5;124m'\u001b[39m\u001b[38;5;124mNot converting audio \u001b[39m\u001b[38;5;132;01m{\u001b[39;00morig_path\u001b[38;5;132;01m}\u001b[39;00m\u001b[38;5;124m; \u001b[39m\u001b[38;5;132;01m{\u001b[39;00m_skip_msg\u001b[38;5;132;01m}\u001b[39;00m\u001b[38;5;124m'\u001b[39m)\n\u001b[1;32m    491\u001b[0m     \u001b[38;5;28;01mreturn\u001b[39;00m [], information\n\u001b[0;32m--> 493\u001b[0m filecodec \u001b[38;5;241m=\u001b[39m \u001b[38;5;28;43mself\u001b[39;49m\u001b[38;5;241;43m.\u001b[39;49m\u001b[43mget_audio_codec\u001b[49m\u001b[43m(\u001b[49m\u001b[43mpath\u001b[49m\u001b[43m)\u001b[49m\n\u001b[1;32m    494\u001b[0m \u001b[38;5;28;01mif\u001b[39;00m filecodec \u001b[38;5;129;01mis\u001b[39;00m \u001b[38;5;28;01mNone\u001b[39;00m:\n\u001b[1;32m    495\u001b[0m     \u001b[38;5;28;01mraise\u001b[39;00m PostProcessingError(\u001b[38;5;124m'\u001b[39m\u001b[38;5;124mWARNING: unable to obtain file audio codec with ffprobe\u001b[39m\u001b[38;5;124m'\u001b[39m)\n",
      "File \u001b[0;32m~/.cache/pypoetry/virtualenvs/huberman-rag-fdQcU6Ve-py3.11/lib/python3.11/site-packages/yt_dlp/postprocessor/ffmpeg.py:253\u001b[0m, in \u001b[0;36mFFmpegPostProcessor.get_audio_codec\u001b[0;34m(self, path)\u001b[0m\n\u001b[1;32m    251\u001b[0m cmd\u001b[38;5;241m.\u001b[39mappend(encodeFilename(\u001b[38;5;28mself\u001b[39m\u001b[38;5;241m.\u001b[39m_ffmpeg_filename_argument(path), \u001b[38;5;28;01mTrue\u001b[39;00m))\n\u001b[1;32m    252\u001b[0m \u001b[38;5;28mself\u001b[39m\u001b[38;5;241m.\u001b[39mwrite_debug(\u001b[38;5;124mf\u001b[39m\u001b[38;5;124m'\u001b[39m\u001b[38;5;132;01m{\u001b[39;00m\u001b[38;5;28mself\u001b[39m\u001b[38;5;241m.\u001b[39mbasename\u001b[38;5;132;01m}\u001b[39;00m\u001b[38;5;124m command line: \u001b[39m\u001b[38;5;132;01m{\u001b[39;00mshell_quote(cmd)\u001b[38;5;132;01m}\u001b[39;00m\u001b[38;5;124m'\u001b[39m)\n\u001b[0;32m--> 253\u001b[0m stdout, stderr, returncode \u001b[38;5;241m=\u001b[39m \u001b[43mPopen\u001b[49m\u001b[38;5;241;43m.\u001b[39;49m\u001b[43mrun\u001b[49m\u001b[43m(\u001b[49m\n\u001b[1;32m    254\u001b[0m \u001b[43m    \u001b[49m\u001b[43mcmd\u001b[49m\u001b[43m,\u001b[49m\u001b[43m \u001b[49m\u001b[43mtext\u001b[49m\u001b[38;5;241;43m=\u001b[39;49m\u001b[38;5;28;43;01mTrue\u001b[39;49;00m\u001b[43m,\u001b[49m\u001b[43m \u001b[49m\u001b[43mstdin\u001b[49m\u001b[38;5;241;43m=\u001b[39;49m\u001b[43msubprocess\u001b[49m\u001b[38;5;241;43m.\u001b[39;49m\u001b[43mPIPE\u001b[49m\u001b[43m,\u001b[49m\u001b[43m \u001b[49m\u001b[43mstdout\u001b[49m\u001b[38;5;241;43m=\u001b[39;49m\u001b[43msubprocess\u001b[49m\u001b[38;5;241;43m.\u001b[39;49m\u001b[43mPIPE\u001b[49m\u001b[43m,\u001b[49m\u001b[43m \u001b[49m\u001b[43mstderr\u001b[49m\u001b[38;5;241;43m=\u001b[39;49m\u001b[43msubprocess\u001b[49m\u001b[38;5;241;43m.\u001b[39;49m\u001b[43mPIPE\u001b[49m\u001b[43m)\u001b[49m\n\u001b[1;32m    255\u001b[0m \u001b[38;5;28;01mif\u001b[39;00m returncode \u001b[38;5;241m!=\u001b[39m (\u001b[38;5;241m0\u001b[39m \u001b[38;5;28;01mif\u001b[39;00m \u001b[38;5;28mself\u001b[39m\u001b[38;5;241m.\u001b[39mprobe_available \u001b[38;5;28;01melse\u001b[39;00m \u001b[38;5;241m1\u001b[39m):\n\u001b[1;32m    256\u001b[0m     \u001b[38;5;28;01mreturn\u001b[39;00m \u001b[38;5;28;01mNone\u001b[39;00m\n",
      "File \u001b[0;32m~/.cache/pypoetry/virtualenvs/huberman-rag-fdQcU6Ve-py3.11/lib/python3.11/site-packages/yt_dlp/utils/_utils.py:869\u001b[0m, in \u001b[0;36mPopen.run\u001b[0;34m(cls, timeout, *args, **kwargs)\u001b[0m\n\u001b[1;32m    867\u001b[0m \u001b[38;5;28;01mwith\u001b[39;00m \u001b[38;5;28mcls\u001b[39m(\u001b[38;5;241m*\u001b[39margs, \u001b[38;5;241m*\u001b[39m\u001b[38;5;241m*\u001b[39mkwargs) \u001b[38;5;28;01mas\u001b[39;00m proc:\n\u001b[1;32m    868\u001b[0m     default \u001b[38;5;241m=\u001b[39m \u001b[38;5;124m'\u001b[39m\u001b[38;5;124m'\u001b[39m \u001b[38;5;28;01mif\u001b[39;00m proc\u001b[38;5;241m.\u001b[39m__text_mode \u001b[38;5;28;01melse\u001b[39;00m \u001b[38;5;124mb\u001b[39m\u001b[38;5;124m'\u001b[39m\u001b[38;5;124m'\u001b[39m\n\u001b[0;32m--> 869\u001b[0m     stdout, stderr \u001b[38;5;241m=\u001b[39m \u001b[43mproc\u001b[49m\u001b[38;5;241;43m.\u001b[39;49m\u001b[43mcommunicate_or_kill\u001b[49m\u001b[43m(\u001b[49m\u001b[43mtimeout\u001b[49m\u001b[38;5;241;43m=\u001b[39;49m\u001b[43mtimeout\u001b[49m\u001b[43m)\u001b[49m\n\u001b[1;32m    870\u001b[0m     \u001b[38;5;28;01mreturn\u001b[39;00m stdout \u001b[38;5;129;01mor\u001b[39;00m default, stderr \u001b[38;5;129;01mor\u001b[39;00m default, proc\u001b[38;5;241m.\u001b[39mreturncode\n",
      "File \u001b[0;32m~/.cache/pypoetry/virtualenvs/huberman-rag-fdQcU6Ve-py3.11/lib/python3.11/site-packages/yt_dlp/utils/_utils.py:855\u001b[0m, in \u001b[0;36mPopen.communicate_or_kill\u001b[0;34m(self, *args, **kwargs)\u001b[0m\n\u001b[1;32m    853\u001b[0m \u001b[38;5;28;01mdef\u001b[39;00m \u001b[38;5;21mcommunicate_or_kill\u001b[39m(\u001b[38;5;28mself\u001b[39m, \u001b[38;5;241m*\u001b[39margs, \u001b[38;5;241m*\u001b[39m\u001b[38;5;241m*\u001b[39mkwargs):\n\u001b[1;32m    854\u001b[0m     \u001b[38;5;28;01mtry\u001b[39;00m:\n\u001b[0;32m--> 855\u001b[0m         \u001b[38;5;28;01mreturn\u001b[39;00m \u001b[38;5;28;43mself\u001b[39;49m\u001b[38;5;241;43m.\u001b[39;49m\u001b[43mcommunicate\u001b[49m\u001b[43m(\u001b[49m\u001b[38;5;241;43m*\u001b[39;49m\u001b[43margs\u001b[49m\u001b[43m,\u001b[49m\u001b[43m \u001b[49m\u001b[38;5;241;43m*\u001b[39;49m\u001b[38;5;241;43m*\u001b[39;49m\u001b[43mkwargs\u001b[49m\u001b[43m)\u001b[49m\n\u001b[1;32m    856\u001b[0m     \u001b[38;5;28;01mexcept\u001b[39;00m \u001b[38;5;167;01mBaseException\u001b[39;00m:  \u001b[38;5;66;03m# Including KeyboardInterrupt\u001b[39;00m\n\u001b[1;32m    857\u001b[0m         \u001b[38;5;28mself\u001b[39m\u001b[38;5;241m.\u001b[39mkill(timeout\u001b[38;5;241m=\u001b[39m\u001b[38;5;28;01mNone\u001b[39;00m)\n",
      "File \u001b[0;32m~/miniconda3/lib/python3.11/subprocess.py:1209\u001b[0m, in \u001b[0;36mPopen.communicate\u001b[0;34m(self, input, timeout)\u001b[0m\n\u001b[1;32m   1206\u001b[0m     endtime \u001b[38;5;241m=\u001b[39m \u001b[38;5;28;01mNone\u001b[39;00m\n\u001b[1;32m   1208\u001b[0m \u001b[38;5;28;01mtry\u001b[39;00m:\n\u001b[0;32m-> 1209\u001b[0m     stdout, stderr \u001b[38;5;241m=\u001b[39m \u001b[38;5;28;43mself\u001b[39;49m\u001b[38;5;241;43m.\u001b[39;49m\u001b[43m_communicate\u001b[49m\u001b[43m(\u001b[49m\u001b[38;5;28;43minput\u001b[39;49m\u001b[43m,\u001b[49m\u001b[43m \u001b[49m\u001b[43mendtime\u001b[49m\u001b[43m,\u001b[49m\u001b[43m \u001b[49m\u001b[43mtimeout\u001b[49m\u001b[43m)\u001b[49m\n\u001b[1;32m   1210\u001b[0m \u001b[38;5;28;01mexcept\u001b[39;00m \u001b[38;5;167;01mKeyboardInterrupt\u001b[39;00m:\n\u001b[1;32m   1211\u001b[0m     \u001b[38;5;66;03m# https://bugs.python.org/issue25942\u001b[39;00m\n\u001b[1;32m   1212\u001b[0m     \u001b[38;5;66;03m# See the detailed comment in .wait().\u001b[39;00m\n\u001b[1;32m   1213\u001b[0m     \u001b[38;5;28;01mif\u001b[39;00m timeout \u001b[38;5;129;01mis\u001b[39;00m \u001b[38;5;129;01mnot\u001b[39;00m \u001b[38;5;28;01mNone\u001b[39;00m:\n",
      "File \u001b[0;32m~/miniconda3/lib/python3.11/subprocess.py:2108\u001b[0m, in \u001b[0;36mPopen._communicate\u001b[0;34m(self, input, endtime, orig_timeout)\u001b[0m\n\u001b[1;32m   2101\u001b[0m     \u001b[38;5;28mself\u001b[39m\u001b[38;5;241m.\u001b[39m_check_timeout(endtime, orig_timeout,\n\u001b[1;32m   2102\u001b[0m                         stdout, stderr,\n\u001b[1;32m   2103\u001b[0m                         skip_check_and_raise\u001b[38;5;241m=\u001b[39m\u001b[38;5;28;01mTrue\u001b[39;00m)\n\u001b[1;32m   2104\u001b[0m     \u001b[38;5;28;01mraise\u001b[39;00m \u001b[38;5;167;01mRuntimeError\u001b[39;00m(  \u001b[38;5;66;03m# Impossible :)\u001b[39;00m\n\u001b[1;32m   2105\u001b[0m         \u001b[38;5;124m'\u001b[39m\u001b[38;5;124m_check_timeout(..., skip_check_and_raise=True) \u001b[39m\u001b[38;5;124m'\u001b[39m\n\u001b[1;32m   2106\u001b[0m         \u001b[38;5;124m'\u001b[39m\u001b[38;5;124mfailed to raise TimeoutExpired.\u001b[39m\u001b[38;5;124m'\u001b[39m)\n\u001b[0;32m-> 2108\u001b[0m ready \u001b[38;5;241m=\u001b[39m \u001b[43mselector\u001b[49m\u001b[38;5;241;43m.\u001b[39;49m\u001b[43mselect\u001b[49m\u001b[43m(\u001b[49m\u001b[43mtimeout\u001b[49m\u001b[43m)\u001b[49m\n\u001b[1;32m   2109\u001b[0m \u001b[38;5;28mself\u001b[39m\u001b[38;5;241m.\u001b[39m_check_timeout(endtime, orig_timeout, stdout, stderr)\n\u001b[1;32m   2111\u001b[0m \u001b[38;5;66;03m# XXX Rewrite these to use non-blocking I/O on the file\u001b[39;00m\n\u001b[1;32m   2112\u001b[0m \u001b[38;5;66;03m# objects; they are no longer using C stdio!\u001b[39;00m\n",
      "File \u001b[0;32m~/miniconda3/lib/python3.11/selectors.py:415\u001b[0m, in \u001b[0;36m_PollLikeSelector.select\u001b[0;34m(self, timeout)\u001b[0m\n\u001b[1;32m    413\u001b[0m ready \u001b[38;5;241m=\u001b[39m []\n\u001b[1;32m    414\u001b[0m \u001b[38;5;28;01mtry\u001b[39;00m:\n\u001b[0;32m--> 415\u001b[0m     fd_event_list \u001b[38;5;241m=\u001b[39m \u001b[38;5;28mself\u001b[39m\u001b[38;5;241m.\u001b[39m_selector\u001b[38;5;241m.\u001b[39mpoll(timeout)\n\u001b[1;32m    416\u001b[0m \u001b[38;5;28;01mexcept\u001b[39;00m \u001b[38;5;167;01mInterruptedError\u001b[39;00m:\n\u001b[1;32m    417\u001b[0m     \u001b[38;5;28;01mreturn\u001b[39;00m ready\n",
      "\u001b[0;31mKeyboardInterrupt\u001b[0m: "
     ]
    }
   ],
   "source": [
    "for bl in blob:\n",
    "    print(bl)"
   ]
  },
  {
   "cell_type": "code",
   "execution_count": null,
   "metadata": {},
   "outputs": [],
   "source": [
    "from langchain.document_loaders.blob_loaders.youtube_audio import YoutubeAudioLoader\n",
    "\n",
    "urls = [\n",
    "    \"https://www.youtube.com/watch?v=RBK5KLA5Jjg\"\n",
    "]\n",
    "\n",
    "save_dir = \"docs/youtube/\"\n",
    "\n",
    "\n",
    "loader = YoutubeAudioLoader([urls], save_dir)\n",
    "blob = loader.yield_blobs()"
   ]
  },
  {
   "cell_type": "code",
   "execution_count": null,
   "metadata": {},
   "outputs": [
    {
     "name": "stdout",
     "output_type": "stream",
     "text": [
      "[youtube] Extracting URL: https://www.youtube.com/watch?v=RBK5KLA5Jjg\n",
      "[youtube] RBK5KLA5Jjg: Downloading webpage\n",
      "[youtube] RBK5KLA5Jjg: Downloading ios player API JSON\n",
      "[youtube] RBK5KLA5Jjg: Downloading android player API JSON\n",
      "[youtube] RBK5KLA5Jjg: Downloading m3u8 information\n",
      "[info] RBK5KLA5Jjg: Downloading 1 format(s): 140\n",
      "[download] Destination: docs/youtube//Understanding & Controlling Aggression ｜ Huberman Lab Podcast #71.m4a\n",
      "[download] 100% of   84.16MiB in 00:01:05 at 1.29MiB/s      \n",
      "[FixupM4a] Correcting container of \"docs/youtube//Understanding & Controlling Aggression ｜ Huberman Lab Podcast #71.m4a\"\n",
      "[ExtractAudio] Not converting audio docs/youtube//Understanding & Controlling Aggression ｜ Huberman Lab Podcast #71.m4a; file is already in target format m4a\n",
      "data=None mimetype='audio/mp4' encoding='utf-8' path=PosixPath('docs/youtube/What Alcohol Does to Your Body, Brain & Health ｜ Huberman Lab Podcast #86.m4a') metadata={}\n",
      "data=None mimetype='audio/mp4' encoding='utf-8' path=PosixPath('docs/youtube/Using Caffeine to Optimize Mental & Physical Performance ｜ Huberman Lab Podcast 101.m4a') metadata={}\n",
      "data=None mimetype='audio/mp4' encoding='utf-8' path=PosixPath('docs/youtube/Understanding & Controlling Aggression ｜ Huberman Lab Podcast #71.m4a') metadata={}\n",
      "data=None mimetype='audio/mp4' encoding='utf-8' path=PosixPath('docs/youtube/How Psilocybin Can Rewire Our Brain, Its Therapeutic Benefits & Its Risks ｜ Huberman Lab Podcast.m4a') metadata={}\n",
      "data=None mimetype='audio/mp4' encoding='utf-8' path=PosixPath('docs/youtube/AMA #2： Improve Sleep, Reduce Sugar Cravings, Optimal Protein Intake, Stretching Frequency & More.m4a') metadata={}\n"
     ]
    }
   ],
   "source": [
    "for bl in blob:\n",
    "    print(bl)"
   ]
  },
  {
   "cell_type": "code",
   "execution_count": null,
   "metadata": {},
   "outputs": [
    {
     "name": "stdout",
     "output_type": "stream",
     "text": [
      "[youtube] Extracting URL: https://www.youtube.com/watch?v=tkH2-_jMCSk\n",
      "[youtube] tkH2-_jMCSk: Downloading webpage\n",
      "[youtube] tkH2-_jMCSk: Downloading ios player API JSON\n",
      "[youtube] tkH2-_jMCSk: Downloading android player API JSON\n",
      "[youtube] tkH2-_jMCSk: Downloading m3u8 information\n",
      "[info] tkH2-_jMCSk: Downloading 1 format(s): 140\n",
      "[download] Destination: docs/youtube//Improve Flexibility with Research-Supported Stretching Protocols ｜ Huberman Lab Podcast #76.m4a\n",
      "[download] 100% of  116.82MiB in 00:00:58 at 2.01MiB/s     \n",
      "[FixupM4a] Correcting container of \"docs/youtube//Improve Flexibility with Research-Supported Stretching Protocols ｜ Huberman Lab Podcast #76.m4a\"\n",
      "[ExtractAudio] Not converting audio docs/youtube//Improve Flexibility with Research-Supported Stretching Protocols ｜ Huberman Lab Podcast #76.m4a; file is already in target format m4a\n",
      "data=None mimetype='audio/mp4' encoding='utf-8' path=PosixPath('docs/youtube/Improve Flexibility with Research-Supported Stretching Protocols ｜ Huberman Lab Podcast #76.m4a') metadata={}\n",
      "data=None mimetype='audio/mp4' encoding='utf-8' path=PosixPath('docs/youtube/What Alcohol Does to Your Body, Brain & Health ｜ Huberman Lab Podcast #86.m4a') metadata={}\n",
      "data=None mimetype='audio/mp4' encoding='utf-8' path=PosixPath('docs/youtube/Using Caffeine to Optimize Mental & Physical Performance ｜ Huberman Lab Podcast 101.m4a') metadata={}\n",
      "data=None mimetype='audio/mp4' encoding='utf-8' path=PosixPath('docs/youtube/Understanding & Controlling Aggression ｜ Huberman Lab Podcast #71.m4a') metadata={}\n",
      "data=None mimetype='audio/mp4' encoding='utf-8' path=PosixPath('docs/youtube/How Psilocybin Can Rewire Our Brain, Its Therapeutic Benefits & Its Risks ｜ Huberman Lab Podcast.m4a') metadata={}\n",
      "data=None mimetype='audio/mp4' encoding='utf-8' path=PosixPath('docs/youtube/AMA #2： Improve Sleep, Reduce Sugar Cravings, Optimal Protein Intake, Stretching Frequency & More.m4a') metadata={}\n"
     ]
    }
   ],
   "source": [
    "for bl in blob:\n",
    "    print(bl)"
   ]
  },
  {
   "cell_type": "code",
   "execution_count": null,
   "metadata": {},
   "outputs": [],
   "source": [
    "from langchain.document_loaders.blob_loaders.youtube_audio import YoutubeAudioLoader\n",
    "\n",
    "urls = [\n",
    "    \"https://www.youtube.com/watch?v=RBK5KLA5Jjg\"\n",
    "]\n",
    "\n",
    "save_dir = \"docs/youtube/\"\n",
    "\n",
    "\n",
    "loader = YoutubeAudioLoader([urls], save_dir)\n",
    "blob = loader.yield_blobs()"
   ]
  },
  {
   "cell_type": "code",
   "execution_count": null,
   "metadata": {},
   "outputs": [
    {
     "name": "stdout",
     "output_type": "stream",
     "text": [
      "[youtube] Extracting URL: https://www.youtube.com/watch?v=RBK5KLA5Jjg\n",
      "[youtube] RBK5KLA5Jjg: Downloading webpage\n",
      "[youtube] RBK5KLA5Jjg: Downloading ios player API JSON\n",
      "[youtube] RBK5KLA5Jjg: Downloading android player API JSON\n",
      "[youtube] RBK5KLA5Jjg: Downloading m3u8 information\n",
      "[info] RBK5KLA5Jjg: Downloading 1 format(s): 140\n",
      "[download] docs/youtube//Understanding & Controlling Aggression ｜ Huberman Lab Podcast #71.m4a has already been downloaded\n",
      "[download] 100% of   84.10MiB\n",
      "[ExtractAudio] Not converting audio docs/youtube//Understanding & Controlling Aggression ｜ Huberman Lab Podcast #71.m4a; file is already in target format m4a\n",
      "data=None mimetype='audio/mp4' encoding='utf-8' path=PosixPath('docs/youtube/Improve Flexibility with Research-Supported Stretching Protocols ｜ Huberman Lab Podcast #76.m4a') metadata={}\n",
      "data=None mimetype='audio/mp4' encoding='utf-8' path=PosixPath('docs/youtube/What Alcohol Does to Your Body, Brain & Health ｜ Huberman Lab Podcast #86.m4a') metadata={}\n",
      "data=None mimetype='audio/mp4' encoding='utf-8' path=PosixPath('docs/youtube/Using Caffeine to Optimize Mental & Physical Performance ｜ Huberman Lab Podcast 101.m4a') metadata={}\n",
      "data=None mimetype='audio/mp4' encoding='utf-8' path=PosixPath('docs/youtube/Understanding & Controlling Aggression ｜ Huberman Lab Podcast #71.m4a') metadata={}\n",
      "data=None mimetype='audio/mp4' encoding='utf-8' path=PosixPath('docs/youtube/How Psilocybin Can Rewire Our Brain, Its Therapeutic Benefits & Its Risks ｜ Huberman Lab Podcast.m4a') metadata={}\n",
      "data=None mimetype='audio/mp4' encoding='utf-8' path=PosixPath('docs/youtube/AMA #2： Improve Sleep, Reduce Sugar Cravings, Optimal Protein Intake, Stretching Frequency & More.m4a') metadata={}\n"
     ]
    }
   ],
   "source": [
    "for bl in blob:\n",
    "    print(bl)"
   ]
  },
  {
   "cell_type": "code",
   "execution_count": null,
   "metadata": {},
   "outputs": [
    {
     "name": "stdout",
     "output_type": "stream",
     "text": [
      "[youtube] Extracting URL: https://www.youtube.com/watch?v=gveDhZW-rUk\n",
      "[youtube] gveDhZW-rUk: Downloading webpage\n",
      "[youtube] gveDhZW-rUk: Downloading ios player API JSON\n",
      "[youtube] gveDhZW-rUk: Downloading android player API JSON\n",
      "[youtube] gveDhZW-rUk: Downloading m3u8 information\n",
      "[info] gveDhZW-rUk: Downloading 1 format(s): 140\n",
      "[download] Destination: docs/youtube//How to Use Music to Boost Motivation, Mood & Improve Learning ｜ Huberman Lab Podcast.m4a\n",
      "[download] 100% of   96.70MiB in 00:00:42 at 2.26MiB/s     \n",
      "[FixupM4a] Correcting container of \"docs/youtube//How to Use Music to Boost Motivation, Mood & Improve Learning ｜ Huberman Lab Podcast.m4a\"\n",
      "[ExtractAudio] Not converting audio docs/youtube//How to Use Music to Boost Motivation, Mood & Improve Learning ｜ Huberman Lab Podcast.m4a; file is already in target format m4a\n",
      "data=None mimetype='audio/mp4' encoding='utf-8' path=PosixPath('docs/youtube/Improve Flexibility with Research-Supported Stretching Protocols ｜ Huberman Lab Podcast #76.m4a') metadata={}\n",
      "data=None mimetype='audio/mp4' encoding='utf-8' path=PosixPath('docs/youtube/How to Use Music to Boost Motivation, Mood & Improve Learning ｜ Huberman Lab Podcast.m4a') metadata={}\n",
      "data=None mimetype='audio/mp4' encoding='utf-8' path=PosixPath('docs/youtube/What Alcohol Does to Your Body, Brain & Health ｜ Huberman Lab Podcast #86.m4a') metadata={}\n",
      "data=None mimetype='audio/mp4' encoding='utf-8' path=PosixPath('docs/youtube/Using Caffeine to Optimize Mental & Physical Performance ｜ Huberman Lab Podcast 101.m4a') metadata={}\n",
      "data=None mimetype='audio/mp4' encoding='utf-8' path=PosixPath('docs/youtube/Understanding & Controlling Aggression ｜ Huberman Lab Podcast #71.m4a') metadata={}\n",
      "data=None mimetype='audio/mp4' encoding='utf-8' path=PosixPath('docs/youtube/How Psilocybin Can Rewire Our Brain, Its Therapeutic Benefits & Its Risks ｜ Huberman Lab Podcast.m4a') metadata={}\n",
      "data=None mimetype='audio/mp4' encoding='utf-8' path=PosixPath('docs/youtube/AMA #2： Improve Sleep, Reduce Sugar Cravings, Optimal Protein Intake, Stretching Frequency & More.m4a') metadata={}\n"
     ]
    }
   ],
   "source": [
    "from langchain.document_loaders.blob_loaders.youtube_audio import YoutubeAudioLoader\n",
    "\n",
    "urls = [\n",
    "    \"https://www.youtube.com/watch?v=gveDhZW-rUk\"\n",
    "]\n",
    "\n",
    "save_dir = \"docs/youtube/\"\n",
    "\n",
    "\n",
    "loader = YoutubeAudioLoader([urls], save_dir)\n",
    "blob = loader.yield_blobs()\n",
    "\n",
    "for bl in blob:\n",
    "    print(bl)"
   ]
  },
  {
   "cell_type": "code",
   "execution_count": null,
   "metadata": {},
   "outputs": [
    {
     "name": "stdout",
     "output_type": "stream",
     "text": [
      "[youtube] Extracting URL: https://www.youtube.com/watch?v=CrtR12PBKb0\n",
      "[youtube] CrtR12PBKb0: Downloading webpage\n",
      "[youtube] CrtR12PBKb0: Downloading ios player API JSON\n",
      "[youtube] CrtR12PBKb0: Downloading android player API JSON\n",
      "[youtube] CrtR12PBKb0: Downloading m3u8 information\n",
      "[info] CrtR12PBKb0: Downloading 1 format(s): 140\n",
      "[download] Destination: docs/youtube//Goals Toolkit： How to Set & Achieve Your Goals ｜ Huberman Lab Podcast.m4a\n",
      "[download] 100% of   87.62MiB in 00:00:55 at 1.57MiB/s     \n",
      "[FixupM4a] Correcting container of \"docs/youtube//Goals Toolkit： How to Set & Achieve Your Goals ｜ Huberman Lab Podcast.m4a\"\n",
      "[ExtractAudio] Not converting audio docs/youtube//Goals Toolkit： How to Set & Achieve Your Goals ｜ Huberman Lab Podcast.m4a; file is already in target format m4a\n",
      "data=None mimetype='audio/mp4' encoding='utf-8' path=PosixPath('docs/youtube/Improve Flexibility with Research-Supported Stretching Protocols ｜ Huberman Lab Podcast #76.m4a') metadata={}\n",
      "data=None mimetype='audio/mp4' encoding='utf-8' path=PosixPath('docs/youtube/How to Use Music to Boost Motivation, Mood & Improve Learning ｜ Huberman Lab Podcast.m4a') metadata={}\n",
      "data=None mimetype='audio/mp4' encoding='utf-8' path=PosixPath('docs/youtube/What Alcohol Does to Your Body, Brain & Health ｜ Huberman Lab Podcast #86.m4a') metadata={}\n",
      "data=None mimetype='audio/mp4' encoding='utf-8' path=PosixPath('docs/youtube/Using Caffeine to Optimize Mental & Physical Performance ｜ Huberman Lab Podcast 101.m4a') metadata={}\n",
      "data=None mimetype='audio/mp4' encoding='utf-8' path=PosixPath('docs/youtube/Understanding & Controlling Aggression ｜ Huberman Lab Podcast #71.m4a') metadata={}\n",
      "data=None mimetype='audio/mp4' encoding='utf-8' path=PosixPath('docs/youtube/How Psilocybin Can Rewire Our Brain, Its Therapeutic Benefits & Its Risks ｜ Huberman Lab Podcast.m4a') metadata={}\n",
      "data=None mimetype='audio/mp4' encoding='utf-8' path=PosixPath('docs/youtube/AMA #2： Improve Sleep, Reduce Sugar Cravings, Optimal Protein Intake, Stretching Frequency & More.m4a') metadata={}\n",
      "data=None mimetype='audio/mp4' encoding='utf-8' path=PosixPath('docs/youtube/Goals Toolkit： How to Set & Achieve Your Goals ｜ Huberman Lab Podcast.m4a') metadata={}\n"
     ]
    }
   ],
   "source": [
    "from langchain.document_loaders.blob_loaders.youtube_audio import YoutubeAudioLoader\n",
    "\n",
    "urls = [\n",
    "    \"https://www.youtube.com/watch?v=CrtR12PBKb0\"\n",
    "]\n",
    "\n",
    "save_dir = \"docs/youtube/\"\n",
    "\n",
    "\n",
    "loader = YoutubeAudioLoader([urls], save_dir)\n",
    "blob = loader.yield_blobs()\n",
    "\n",
    "for bl in blob:\n",
    "    print(bl)"
   ]
  },
  {
   "cell_type": "code",
   "execution_count": 5,
   "metadata": {},
   "outputs": [
    {
     "name": "stdout",
     "output_type": "stream",
     "text": [
      "[youtube] Extracting URL: https://www.youtube.com/watch?v=0RYyQRQFgFk\n",
      "[youtube] 0RYyQRQFgFk: Downloading webpage\n",
      "[youtube] 0RYyQRQFgFk: Downloading ios player API JSON\n",
      "[youtube] 0RYyQRQFgFk: Downloading android player API JSON\n",
      "[youtube] 0RYyQRQFgFk: Downloading m3u8 information\n",
      "[info] 0RYyQRQFgFk: Downloading 1 format(s): 140\n",
      "[download] docs/youtube//Science-Based Mental Training & Visualization for Improved Learning ｜ Huberman Lab Podcast.m4a has already been downloaded\n",
      "[download] 100% of  110.84MiB\n",
      "[ExtractAudio] Not converting audio docs/youtube//Science-Based Mental Training & Visualization for Improved Learning ｜ Huberman Lab Podcast.m4a; file is already in target format m4a\n",
      "data=None mimetype='audio/mp4' encoding='utf-8' path=PosixPath('docs/youtube/Improve Flexibility with Research-Supported Stretching Protocols ｜ Huberman Lab Podcast #76.m4a') metadata={}\n",
      "data=None mimetype='audio/mp4' encoding='utf-8' path=PosixPath('docs/youtube/How to Use Music to Boost Motivation, Mood & Improve Learning ｜ Huberman Lab Podcast.m4a') metadata={}\n",
      "data=None mimetype='audio/mp4' encoding='utf-8' path=PosixPath('docs/youtube/What Alcohol Does to Your Body, Brain & Health ｜ Huberman Lab Podcast #86.m4a') metadata={}\n",
      "data=None mimetype='audio/mp4' encoding='utf-8' path=PosixPath('docs/youtube/Using Caffeine to Optimize Mental & Physical Performance ｜ Huberman Lab Podcast 101.m4a') metadata={}\n",
      "data=None mimetype='audio/mp4' encoding='utf-8' path=PosixPath('docs/youtube/Understanding & Controlling Aggression ｜ Huberman Lab Podcast #71.m4a') metadata={}\n",
      "data=None mimetype='audio/mp4' encoding='utf-8' path=PosixPath('docs/youtube/How Psilocybin Can Rewire Our Brain, Its Therapeutic Benefits & Its Risks ｜ Huberman Lab Podcast.m4a') metadata={}\n",
      "data=None mimetype='audio/mp4' encoding='utf-8' path=PosixPath('docs/youtube/Science-Based Mental Training & Visualization for Improved Learning ｜ Huberman Lab Podcast.m4a') metadata={}\n",
      "data=None mimetype='audio/mp4' encoding='utf-8' path=PosixPath('docs/youtube/AMA #2： Improve Sleep, Reduce Sugar Cravings, Optimal Protein Intake, Stretching Frequency & More.m4a') metadata={}\n",
      "data=None mimetype='audio/mp4' encoding='utf-8' path=PosixPath('docs/youtube/Goals Toolkit： How to Set & Achieve Your Goals ｜ Huberman Lab Podcast.m4a') metadata={}\n"
     ]
    }
   ],
   "source": [
    "from langchain.document_loaders.blob_loaders.youtube_audio import YoutubeAudioLoader\n",
    "\n",
    "urls = [\n",
    "    \"https://www.youtube.com/watch?v=0RYyQRQFgFk\"\n",
    "]\n",
    "\n",
    "save_dir = \"docs/youtube/\"\n",
    "\n",
    "\n",
    "loader = YoutubeAudioLoader([urls], save_dir)\n",
    "blob = loader.yield_blobs()\n",
    "\n",
    "for bl in blob:\n",
    "    print(bl)\n"
   ]
  },
  {
   "cell_type": "code",
   "execution_count": 1,
   "metadata": {},
   "outputs": [
    {
     "name": "stdout",
     "output_type": "stream",
     "text": [
      "[youtube] Extracting URL: https://www.youtube.com/watch?v=gdUNjPijwA8\n",
      "[youtube] gdUNjPijwA8: Downloading webpage\n",
      "[youtube] gdUNjPijwA8: Downloading ios player API JSON\n",
      "[youtube] gdUNjPijwA8: Downloading android player API JSON\n",
      "[youtube] gdUNjPijwA8: Downloading m3u8 information\n",
      "[info] gdUNjPijwA8: Downloading 1 format(s): 140\n",
      "[download] Destination: docs/youtube//How Placebo Effects Work to Change Our Biology & Psychology.m4a\n",
      "[download] 100% of   72.47MiB in 00:00:53 at 1.35MiB/s     \n",
      "[FixupM4a] Correcting container of \"docs/youtube//How Placebo Effects Work to Change Our Biology & Psychology.m4a\"\n",
      "[ExtractAudio] Not converting audio docs/youtube//How Placebo Effects Work to Change Our Biology & Psychology.m4a; file is already in target format m4a\n",
      "data=None mimetype='audio/mp4' encoding='utf-8' path=PosixPath('docs/youtube/Improve Flexibility with Research-Supported Stretching Protocols ｜ Huberman Lab Podcast #76.m4a') metadata={}\n",
      "data=None mimetype='audio/mp4' encoding='utf-8' path=PosixPath('docs/youtube/How to Use Music to Boost Motivation, Mood & Improve Learning ｜ Huberman Lab Podcast.m4a') metadata={}\n",
      "data=None mimetype='audio/mp4' encoding='utf-8' path=PosixPath('docs/youtube/What Alcohol Does to Your Body, Brain & Health ｜ Huberman Lab Podcast #86.m4a') metadata={}\n",
      "data=None mimetype='audio/mp4' encoding='utf-8' path=PosixPath('docs/youtube/Using Caffeine to Optimize Mental & Physical Performance ｜ Huberman Lab Podcast 101.m4a') metadata={}\n",
      "data=None mimetype='audio/mp4' encoding='utf-8' path=PosixPath('docs/youtube/Understanding & Controlling Aggression ｜ Huberman Lab Podcast #71.m4a') metadata={}\n",
      "data=None mimetype='audio/mp4' encoding='utf-8' path=PosixPath('docs/youtube/How Psilocybin Can Rewire Our Brain, Its Therapeutic Benefits & Its Risks ｜ Huberman Lab Podcast.m4a') metadata={}\n",
      "data=None mimetype='audio/mp4' encoding='utf-8' path=PosixPath('docs/youtube/Science-Based Mental Training & Visualization for Improved Learning ｜ Huberman Lab Podcast.m4a') metadata={}\n",
      "data=None mimetype='audio/mp4' encoding='utf-8' path=PosixPath('docs/youtube/How Placebo Effects Work to Change Our Biology & Psychology.m4a') metadata={}\n",
      "data=None mimetype='audio/mp4' encoding='utf-8' path=PosixPath('docs/youtube/Goals Toolkit： How to Set & Achieve Your Goals ｜ Huberman Lab Podcast.m4a') metadata={}\n"
     ]
    }
   ],
   "source": [
    "from langchain.document_loaders.blob_loaders.youtube_audio import YoutubeAudioLoader\n",
    "\n",
    "urls = [\n",
    "    \"https://www.youtube.com/watch?v=gdUNjPijwA8\"\n",
    "]\n",
    "\n",
    "save_dir = \"docs/youtube/\"\n",
    "\n",
    "\n",
    "loader = YoutubeAudioLoader([urls], save_dir)\n",
    "blob = loader.yield_blobs()\n",
    "\n",
    "for bl in blob:\n",
    "    print(bl)\n",
    "\n"
   ]
  },
  {
   "cell_type": "code",
   "execution_count": 2,
   "metadata": {},
   "outputs": [
    {
     "name": "stdout",
     "output_type": "stream",
     "text": [
      "[youtube] Extracting URL: https://www.youtube.com/watch?v=cwakOgHIT0E\n",
      "[youtube] cwakOgHIT0E: Downloading webpage\n",
      "[youtube] cwakOgHIT0E: Downloading ios player API JSON\n",
      "[youtube] cwakOgHIT0E: Downloading android player API JSON\n",
      "[youtube] cwakOgHIT0E: Downloading m3u8 information\n",
      "[info] cwakOgHIT0E: Downloading 1 format(s): 140\n",
      "[download] Destination: docs/youtube//How to Increase Your Willpower & Tenacity ｜ Huberman Lab Podcast.m4a\n",
      "[download] 100% of  118.51MiB in 00:01:01 at 1.92MiB/s     \n",
      "[FixupM4a] Correcting container of \"docs/youtube//How to Increase Your Willpower & Tenacity ｜ Huberman Lab Podcast.m4a\"\n",
      "[ExtractAudio] Not converting audio docs/youtube//How to Increase Your Willpower & Tenacity ｜ Huberman Lab Podcast.m4a; file is already in target format m4a\n",
      "data=None mimetype='audio/mp4' encoding='utf-8' path=PosixPath('docs/youtube/Improve Flexibility with Research-Supported Stretching Protocols ｜ Huberman Lab Podcast #76.m4a') metadata={}\n",
      "data=None mimetype='audio/mp4' encoding='utf-8' path=PosixPath('docs/youtube/How to Use Music to Boost Motivation, Mood & Improve Learning ｜ Huberman Lab Podcast.m4a') metadata={}\n",
      "data=None mimetype='audio/mp4' encoding='utf-8' path=PosixPath('docs/youtube/How to Increase Your Willpower & Tenacity ｜ Huberman Lab Podcast.m4a') metadata={}\n",
      "data=None mimetype='audio/mp4' encoding='utf-8' path=PosixPath('docs/youtube/What Alcohol Does to Your Body, Brain & Health ｜ Huberman Lab Podcast #86.m4a') metadata={}\n",
      "data=None mimetype='audio/mp4' encoding='utf-8' path=PosixPath('docs/youtube/Using Caffeine to Optimize Mental & Physical Performance ｜ Huberman Lab Podcast 101.m4a') metadata={}\n",
      "data=None mimetype='audio/mp4' encoding='utf-8' path=PosixPath('docs/youtube/Understanding & Controlling Aggression ｜ Huberman Lab Podcast #71.m4a') metadata={}\n",
      "data=None mimetype='audio/mp4' encoding='utf-8' path=PosixPath('docs/youtube/How Psilocybin Can Rewire Our Brain, Its Therapeutic Benefits & Its Risks ｜ Huberman Lab Podcast.m4a') metadata={}\n",
      "data=None mimetype='audio/mp4' encoding='utf-8' path=PosixPath('docs/youtube/Science-Based Mental Training & Visualization for Improved Learning ｜ Huberman Lab Podcast.m4a') metadata={}\n",
      "data=None mimetype='audio/mp4' encoding='utf-8' path=PosixPath('docs/youtube/How Placebo Effects Work to Change Our Biology & Psychology.m4a') metadata={}\n",
      "data=None mimetype='audio/mp4' encoding='utf-8' path=PosixPath('docs/youtube/Goals Toolkit： How to Set & Achieve Your Goals ｜ Huberman Lab Podcast.m4a') metadata={}\n"
     ]
    }
   ],
   "source": [
    "from langchain.document_loaders.blob_loaders.youtube_audio import YoutubeAudioLoader\n",
    "\n",
    "urls = [\n",
    "    \"https://www.youtube.com/watch?v=cwakOgHIT0E\"\n",
    "]\n",
    "\n",
    "save_dir = \"docs/youtube/\"\n",
    "\n",
    "\n",
    "loader = YoutubeAudioLoader([urls], save_dir)\n",
    "blob = loader.yield_blobs()\n",
    "\n",
    "for bl in blob:\n",
    "    print(bl)\n"
   ]
  },
  {
   "cell_type": "code",
   "execution_count": 3,
   "metadata": {},
   "outputs": [
    {
     "name": "stdout",
     "output_type": "stream",
     "text": [
      "[youtube] Extracting URL: https://www.youtube.com/watch?v=sxgCC4H1dl8\n",
      "[youtube] sxgCC4H1dl8: Downloading webpage\n",
      "[youtube] sxgCC4H1dl8: Downloading ios player API JSON\n",
      "[youtube] sxgCC4H1dl8: Downloading android player API JSON\n",
      "[youtube] sxgCC4H1dl8: Downloading m3u8 information\n",
      "[info] sxgCC4H1dl8: Downloading 1 format(s): 140\n",
      "[download] Destination: docs/youtube//Adderall, Stimulants & Modafinil for ADHD： Short- & Long-Term Effects ｜ Huberman Lab Podcast.m4a\n",
      "[download] 100% of  113.15MiB in 00:01:04 at 1.76MiB/s     \n",
      "[FixupM4a] Correcting container of \"docs/youtube//Adderall, Stimulants & Modafinil for ADHD： Short- & Long-Term Effects ｜ Huberman Lab Podcast.m4a\"\n",
      "[ExtractAudio] Not converting audio docs/youtube//Adderall, Stimulants & Modafinil for ADHD： Short- & Long-Term Effects ｜ Huberman Lab Podcast.m4a; file is already in target format m4a\n",
      "data=None mimetype='audio/mp4' encoding='utf-8' path=PosixPath('docs/youtube/Improve Flexibility with Research-Supported Stretching Protocols ｜ Huberman Lab Podcast #76.m4a') metadata={}\n",
      "data=None mimetype='audio/mp4' encoding='utf-8' path=PosixPath('docs/youtube/How to Use Music to Boost Motivation, Mood & Improve Learning ｜ Huberman Lab Podcast.m4a') metadata={}\n",
      "data=None mimetype='audio/mp4' encoding='utf-8' path=PosixPath('docs/youtube/How to Increase Your Willpower & Tenacity ｜ Huberman Lab Podcast.m4a') metadata={}\n",
      "data=None mimetype='audio/mp4' encoding='utf-8' path=PosixPath('docs/youtube/What Alcohol Does to Your Body, Brain & Health ｜ Huberman Lab Podcast #86.m4a') metadata={}\n",
      "data=None mimetype='audio/mp4' encoding='utf-8' path=PosixPath('docs/youtube/Using Caffeine to Optimize Mental & Physical Performance ｜ Huberman Lab Podcast 101.m4a') metadata={}\n",
      "data=None mimetype='audio/mp4' encoding='utf-8' path=PosixPath('docs/youtube/Adderall, Stimulants & Modafinil for ADHD： Short- & Long-Term Effects ｜ Huberman Lab Podcast.m4a') metadata={}\n",
      "data=None mimetype='audio/mp4' encoding='utf-8' path=PosixPath('docs/youtube/Understanding & Controlling Aggression ｜ Huberman Lab Podcast #71.m4a') metadata={}\n",
      "data=None mimetype='audio/mp4' encoding='utf-8' path=PosixPath('docs/youtube/How Psilocybin Can Rewire Our Brain, Its Therapeutic Benefits & Its Risks ｜ Huberman Lab Podcast.m4a') metadata={}\n",
      "data=None mimetype='audio/mp4' encoding='utf-8' path=PosixPath('docs/youtube/Science-Based Mental Training & Visualization for Improved Learning ｜ Huberman Lab Podcast.m4a') metadata={}\n",
      "data=None mimetype='audio/mp4' encoding='utf-8' path=PosixPath('docs/youtube/How Placebo Effects Work to Change Our Biology & Psychology.m4a') metadata={}\n",
      "data=None mimetype='audio/mp4' encoding='utf-8' path=PosixPath('docs/youtube/Goals Toolkit： How to Set & Achieve Your Goals ｜ Huberman Lab Podcast.m4a') metadata={}\n"
     ]
    }
   ],
   "source": [
    "from langchain.document_loaders.blob_loaders.youtube_audio import YoutubeAudioLoader\n",
    "\n",
    "urls = [\n",
    "    \"https://www.youtube.com/watch?v=sxgCC4H1dl8\"\n",
    "]\n",
    "\n",
    "save_dir = \"docs/youtube/\"\n",
    "\n",
    "\n",
    "loader = YoutubeAudioLoader([urls], save_dir)\n",
    "blob = loader.yield_blobs()\n",
    "\n",
    "for bl in blob:\n",
    "    print(bl)\n"
   ]
  },
  {
   "cell_type": "code",
   "execution_count": 4,
   "metadata": {},
   "outputs": [
    {
     "name": "stdout",
     "output_type": "stream",
     "text": [
      "[youtube] Extracting URL: https://www.youtube.com/watch?v=LYYyQcAJZfk\n",
      "[youtube] LYYyQcAJZfk: Downloading webpage\n",
      "[youtube] LYYyQcAJZfk: Downloading ios player API JSON\n",
      "[youtube] LYYyQcAJZfk: Downloading android player API JSON\n",
      "[youtube] LYYyQcAJZfk: Downloading m3u8 information\n",
      "[info] LYYyQcAJZfk: Downloading 1 format(s): 140\n",
      "[download] Destination: docs/youtube//Science-Supported Tools to Accelerate Your Fitness Goals.m4a\n",
      "[download] 100% of   88.59MiB in 00:00:43 at 2.05MiB/s     \n",
      "[FixupM4a] Correcting container of \"docs/youtube//Science-Supported Tools to Accelerate Your Fitness Goals.m4a\"\n",
      "[ExtractAudio] Not converting audio docs/youtube//Science-Supported Tools to Accelerate Your Fitness Goals.m4a; file is already in target format m4a\n",
      "data=None mimetype='audio/mp4' encoding='utf-8' path=PosixPath('docs/youtube/Improve Flexibility with Research-Supported Stretching Protocols ｜ Huberman Lab Podcast #76.m4a') metadata={}\n",
      "data=None mimetype='audio/mp4' encoding='utf-8' path=PosixPath('docs/youtube/How to Use Music to Boost Motivation, Mood & Improve Learning ｜ Huberman Lab Podcast.m4a') metadata={}\n",
      "data=None mimetype='audio/mp4' encoding='utf-8' path=PosixPath('docs/youtube/How to Increase Your Willpower & Tenacity ｜ Huberman Lab Podcast.m4a') metadata={}\n",
      "data=None mimetype='audio/mp4' encoding='utf-8' path=PosixPath('docs/youtube/What Alcohol Does to Your Body, Brain & Health ｜ Huberman Lab Podcast #86.m4a') metadata={}\n",
      "data=None mimetype='audio/mp4' encoding='utf-8' path=PosixPath('docs/youtube/Using Caffeine to Optimize Mental & Physical Performance ｜ Huberman Lab Podcast 101.m4a') metadata={}\n",
      "data=None mimetype='audio/mp4' encoding='utf-8' path=PosixPath('docs/youtube/Adderall, Stimulants & Modafinil for ADHD： Short- & Long-Term Effects ｜ Huberman Lab Podcast.m4a') metadata={}\n",
      "data=None mimetype='audio/mp4' encoding='utf-8' path=PosixPath('docs/youtube/Science-Supported Tools to Accelerate Your Fitness Goals.m4a') metadata={}\n",
      "data=None mimetype='audio/mp4' encoding='utf-8' path=PosixPath('docs/youtube/Understanding & Controlling Aggression ｜ Huberman Lab Podcast #71.m4a') metadata={}\n",
      "data=None mimetype='audio/mp4' encoding='utf-8' path=PosixPath('docs/youtube/How Psilocybin Can Rewire Our Brain, Its Therapeutic Benefits & Its Risks ｜ Huberman Lab Podcast.m4a') metadata={}\n",
      "data=None mimetype='audio/mp4' encoding='utf-8' path=PosixPath('docs/youtube/Science-Based Mental Training & Visualization for Improved Learning ｜ Huberman Lab Podcast.m4a') metadata={}\n",
      "data=None mimetype='audio/mp4' encoding='utf-8' path=PosixPath('docs/youtube/How Placebo Effects Work to Change Our Biology & Psychology.m4a') metadata={}\n",
      "data=None mimetype='audio/mp4' encoding='utf-8' path=PosixPath('docs/youtube/Goals Toolkit： How to Set & Achieve Your Goals ｜ Huberman Lab Podcast.m4a') metadata={}\n"
     ]
    }
   ],
   "source": [
    "from langchain.document_loaders.blob_loaders.youtube_audio import YoutubeAudioLoader\n",
    "\n",
    "urls = [\n",
    "    \"https://www.youtube.com/watch?v=LYYyQcAJZfk\"\n",
    "]\n",
    "\n",
    "save_dir = \"docs/youtube/\"\n",
    "\n",
    "\n",
    "loader = YoutubeAudioLoader([urls], save_dir)\n",
    "blob = loader.yield_blobs()\n",
    "\n",
    "for bl in blob:\n",
    "    print(bl)\n"
   ]
  },
  {
   "cell_type": "code",
   "execution_count": 5,
   "metadata": {},
   "outputs": [
    {
     "name": "stdout",
     "output_type": "stream",
     "text": [
      "[youtube] Extracting URL: https://www.youtube.com/watch?v=6ZrlsVx85ek\n",
      "[youtube] 6ZrlsVx85ek: Downloading webpage\n",
      "[youtube] 6ZrlsVx85ek: Downloading ios player API JSON\n",
      "[youtube] 6ZrlsVx85ek: Downloading android player API JSON\n",
      "[youtube] 6ZrlsVx85ek: Downloading m3u8 information\n",
      "[info] 6ZrlsVx85ek: Downloading 1 format(s): 140\n",
      "[download] Destination: docs/youtube//The Science of Healthy Hair, Hair Loss and How to Regrow Hair ｜ Huberman Lab Podcast.m4a\n",
      "[download] 100% of  115.56MiB in 00:01:13 at 1.57MiB/s     \n",
      "[FixupM4a] Correcting container of \"docs/youtube//The Science of Healthy Hair, Hair Loss and How to Regrow Hair ｜ Huberman Lab Podcast.m4a\"\n",
      "[ExtractAudio] Not converting audio docs/youtube//The Science of Healthy Hair, Hair Loss and How to Regrow Hair ｜ Huberman Lab Podcast.m4a; file is already in target format m4a\n",
      "data=None mimetype='audio/mp4' encoding='utf-8' path=PosixPath('docs/youtube/Improve Flexibility with Research-Supported Stretching Protocols ｜ Huberman Lab Podcast #76.m4a') metadata={}\n",
      "data=None mimetype='audio/mp4' encoding='utf-8' path=PosixPath('docs/youtube/How to Use Music to Boost Motivation, Mood & Improve Learning ｜ Huberman Lab Podcast.m4a') metadata={}\n",
      "data=None mimetype='audio/mp4' encoding='utf-8' path=PosixPath('docs/youtube/The Science of Healthy Hair, Hair Loss and How to Regrow Hair ｜ Huberman Lab Podcast.m4a') metadata={}\n",
      "data=None mimetype='audio/mp4' encoding='utf-8' path=PosixPath('docs/youtube/How to Increase Your Willpower & Tenacity ｜ Huberman Lab Podcast.m4a') metadata={}\n",
      "data=None mimetype='audio/mp4' encoding='utf-8' path=PosixPath('docs/youtube/What Alcohol Does to Your Body, Brain & Health ｜ Huberman Lab Podcast #86.m4a') metadata={}\n",
      "data=None mimetype='audio/mp4' encoding='utf-8' path=PosixPath('docs/youtube/Using Caffeine to Optimize Mental & Physical Performance ｜ Huberman Lab Podcast 101.m4a') metadata={}\n",
      "data=None mimetype='audio/mp4' encoding='utf-8' path=PosixPath('docs/youtube/Adderall, Stimulants & Modafinil for ADHD： Short- & Long-Term Effects ｜ Huberman Lab Podcast.m4a') metadata={}\n",
      "data=None mimetype='audio/mp4' encoding='utf-8' path=PosixPath('docs/youtube/Science-Supported Tools to Accelerate Your Fitness Goals.m4a') metadata={}\n",
      "data=None mimetype='audio/mp4' encoding='utf-8' path=PosixPath('docs/youtube/Understanding & Controlling Aggression ｜ Huberman Lab Podcast #71.m4a') metadata={}\n",
      "data=None mimetype='audio/mp4' encoding='utf-8' path=PosixPath('docs/youtube/How Psilocybin Can Rewire Our Brain, Its Therapeutic Benefits & Its Risks ｜ Huberman Lab Podcast.m4a') metadata={}\n",
      "data=None mimetype='audio/mp4' encoding='utf-8' path=PosixPath('docs/youtube/Science-Based Mental Training & Visualization for Improved Learning ｜ Huberman Lab Podcast.m4a') metadata={}\n",
      "data=None mimetype='audio/mp4' encoding='utf-8' path=PosixPath('docs/youtube/How Placebo Effects Work to Change Our Biology & Psychology.m4a') metadata={}\n",
      "data=None mimetype='audio/mp4' encoding='utf-8' path=PosixPath('docs/youtube/Goals Toolkit： How to Set & Achieve Your Goals ｜ Huberman Lab Podcast.m4a') metadata={}\n"
     ]
    }
   ],
   "source": [
    "from langchain.document_loaders.blob_loaders.youtube_audio import YoutubeAudioLoader\n",
    "\n",
    "urls = [\n",
    "    \"https://www.youtube.com/watch?v=6ZrlsVx85ek\"\n",
    "]\n",
    "\n",
    "save_dir = \"docs/youtube/\"\n",
    "\n",
    "\n",
    "loader = YoutubeAudioLoader([urls], save_dir)\n",
    "blob = loader.yield_blobs()\n",
    "\n",
    "for bl in blob:\n",
    "    print(bl)\n"
   ]
  },
  {
   "cell_type": "code",
   "execution_count": 6,
   "metadata": {},
   "outputs": [
    {
     "name": "stdout",
     "output_type": "stream",
     "text": [
      "[youtube] Extracting URL: https://www.youtube.com/watch?v=K-TW2Chpz4k\n",
      "[youtube] K-TW2Chpz4k: Downloading webpage\n",
      "[youtube] K-TW2Chpz4k: Downloading ios player API JSON\n",
      "[youtube] K-TW2Chpz4k: Downloading android player API JSON\n",
      "[youtube] K-TW2Chpz4k: Downloading m3u8 information\n",
      "[info] K-TW2Chpz4k: Downloading 1 format(s): 140\n",
      "[download] Destination: docs/youtube//Leverage Dopamine to Overcome Procrastination & Optimize Effort ｜ Huberman Lab Podcast.m4a\n",
      "[download] 100% of  110.03MiB in 00:01:06 at 1.66MiB/s      \n",
      "[FixupM4a] Correcting container of \"docs/youtube//Leverage Dopamine to Overcome Procrastination & Optimize Effort ｜ Huberman Lab Podcast.m4a\"\n",
      "[ExtractAudio] Not converting audio docs/youtube//Leverage Dopamine to Overcome Procrastination & Optimize Effort ｜ Huberman Lab Podcast.m4a; file is already in target format m4a\n",
      "data=None mimetype='audio/mp4' encoding='utf-8' path=PosixPath('docs/youtube/Improve Flexibility with Research-Supported Stretching Protocols ｜ Huberman Lab Podcast #76.m4a') metadata={}\n",
      "data=None mimetype='audio/mp4' encoding='utf-8' path=PosixPath('docs/youtube/Leverage Dopamine to Overcome Procrastination & Optimize Effort ｜ Huberman Lab Podcast.m4a') metadata={}\n",
      "data=None mimetype='audio/mp4' encoding='utf-8' path=PosixPath('docs/youtube/How to Use Music to Boost Motivation, Mood & Improve Learning ｜ Huberman Lab Podcast.m4a') metadata={}\n",
      "data=None mimetype='audio/mp4' encoding='utf-8' path=PosixPath('docs/youtube/The Science of Healthy Hair, Hair Loss and How to Regrow Hair ｜ Huberman Lab Podcast.m4a') metadata={}\n",
      "data=None mimetype='audio/mp4' encoding='utf-8' path=PosixPath('docs/youtube/How to Increase Your Willpower & Tenacity ｜ Huberman Lab Podcast.m4a') metadata={}\n",
      "data=None mimetype='audio/mp4' encoding='utf-8' path=PosixPath('docs/youtube/What Alcohol Does to Your Body, Brain & Health ｜ Huberman Lab Podcast #86.m4a') metadata={}\n",
      "data=None mimetype='audio/mp4' encoding='utf-8' path=PosixPath('docs/youtube/Using Caffeine to Optimize Mental & Physical Performance ｜ Huberman Lab Podcast 101.m4a') metadata={}\n",
      "data=None mimetype='audio/mp4' encoding='utf-8' path=PosixPath('docs/youtube/Adderall, Stimulants & Modafinil for ADHD： Short- & Long-Term Effects ｜ Huberman Lab Podcast.m4a') metadata={}\n",
      "data=None mimetype='audio/mp4' encoding='utf-8' path=PosixPath('docs/youtube/Science-Supported Tools to Accelerate Your Fitness Goals.m4a') metadata={}\n",
      "data=None mimetype='audio/mp4' encoding='utf-8' path=PosixPath('docs/youtube/Understanding & Controlling Aggression ｜ Huberman Lab Podcast #71.m4a') metadata={}\n",
      "data=None mimetype='audio/mp4' encoding='utf-8' path=PosixPath('docs/youtube/How Psilocybin Can Rewire Our Brain, Its Therapeutic Benefits & Its Risks ｜ Huberman Lab Podcast.m4a') metadata={}\n",
      "data=None mimetype='audio/mp4' encoding='utf-8' path=PosixPath('docs/youtube/Science-Based Mental Training & Visualization for Improved Learning ｜ Huberman Lab Podcast.m4a') metadata={}\n",
      "data=None mimetype='audio/mp4' encoding='utf-8' path=PosixPath('docs/youtube/How Placebo Effects Work to Change Our Biology & Psychology.m4a') metadata={}\n",
      "data=None mimetype='audio/mp4' encoding='utf-8' path=PosixPath('docs/youtube/Goals Toolkit： How to Set & Achieve Your Goals ｜ Huberman Lab Podcast.m4a') metadata={}\n"
     ]
    }
   ],
   "source": [
    "from langchain.document_loaders.blob_loaders.youtube_audio import YoutubeAudioLoader\n",
    "\n",
    "urls = [\n",
    "    \"https://www.youtube.com/watch?v=K-TW2Chpz4k\"\n",
    "]\n",
    "\n",
    "save_dir = \"docs/youtube/\"\n",
    "\n",
    "\n",
    "loader = YoutubeAudioLoader([urls], save_dir)\n",
    "blob = loader.yield_blobs()\n",
    "\n",
    "for bl in blob:\n",
    "    print(bl)\n"
   ]
  },
  {
   "cell_type": "code",
   "execution_count": 7,
   "metadata": {},
   "outputs": [
    {
     "name": "stdout",
     "output_type": "stream",
     "text": [
      "[youtube] Extracting URL: https://www.youtube.com/watch?v=at37Y8rKDlA\n",
      "[youtube] at37Y8rKDlA: Downloading webpage\n",
      "[youtube] at37Y8rKDlA: Downloading ios player API JSON\n",
      "[youtube] at37Y8rKDlA: Downloading android player API JSON\n",
      "[youtube] at37Y8rKDlA: Downloading m3u8 information\n",
      "[info] at37Y8rKDlA: Downloading 1 format(s): 140\n",
      "[download] Destination: docs/youtube//How to Optimize Your Water Quality & Intake for Health ｜ Huberman Lab Podcast.m4a\n",
      "[download] 100% of  131.85MiB in 00:01:15 at 1.76MiB/s      \n",
      "[FixupM4a] Correcting container of \"docs/youtube//How to Optimize Your Water Quality & Intake for Health ｜ Huberman Lab Podcast.m4a\"\n",
      "[ExtractAudio] Not converting audio docs/youtube//How to Optimize Your Water Quality & Intake for Health ｜ Huberman Lab Podcast.m4a; file is already in target format m4a\n",
      "data=None mimetype='audio/mp4' encoding='utf-8' path=PosixPath('docs/youtube/Improve Flexibility with Research-Supported Stretching Protocols ｜ Huberman Lab Podcast #76.m4a') metadata={}\n",
      "data=None mimetype='audio/mp4' encoding='utf-8' path=PosixPath('docs/youtube/Leverage Dopamine to Overcome Procrastination & Optimize Effort ｜ Huberman Lab Podcast.m4a') metadata={}\n",
      "data=None mimetype='audio/mp4' encoding='utf-8' path=PosixPath('docs/youtube/How to Use Music to Boost Motivation, Mood & Improve Learning ｜ Huberman Lab Podcast.m4a') metadata={}\n",
      "data=None mimetype='audio/mp4' encoding='utf-8' path=PosixPath('docs/youtube/The Science of Healthy Hair, Hair Loss and How to Regrow Hair ｜ Huberman Lab Podcast.m4a') metadata={}\n",
      "data=None mimetype='audio/mp4' encoding='utf-8' path=PosixPath('docs/youtube/How to Increase Your Willpower & Tenacity ｜ Huberman Lab Podcast.m4a') metadata={}\n",
      "data=None mimetype='audio/mp4' encoding='utf-8' path=PosixPath('docs/youtube/What Alcohol Does to Your Body, Brain & Health ｜ Huberman Lab Podcast #86.m4a') metadata={}\n",
      "data=None mimetype='audio/mp4' encoding='utf-8' path=PosixPath('docs/youtube/Using Caffeine to Optimize Mental & Physical Performance ｜ Huberman Lab Podcast 101.m4a') metadata={}\n",
      "data=None mimetype='audio/mp4' encoding='utf-8' path=PosixPath('docs/youtube/Adderall, Stimulants & Modafinil for ADHD： Short- & Long-Term Effects ｜ Huberman Lab Podcast.m4a') metadata={}\n",
      "data=None mimetype='audio/mp4' encoding='utf-8' path=PosixPath('docs/youtube/Science-Supported Tools to Accelerate Your Fitness Goals.m4a') metadata={}\n",
      "data=None mimetype='audio/mp4' encoding='utf-8' path=PosixPath('docs/youtube/Understanding & Controlling Aggression ｜ Huberman Lab Podcast #71.m4a') metadata={}\n",
      "data=None mimetype='audio/mp4' encoding='utf-8' path=PosixPath('docs/youtube/How Psilocybin Can Rewire Our Brain, Its Therapeutic Benefits & Its Risks ｜ Huberman Lab Podcast.m4a') metadata={}\n",
      "data=None mimetype='audio/mp4' encoding='utf-8' path=PosixPath('docs/youtube/Science-Based Mental Training & Visualization for Improved Learning ｜ Huberman Lab Podcast.m4a') metadata={}\n",
      "data=None mimetype='audio/mp4' encoding='utf-8' path=PosixPath('docs/youtube/How Placebo Effects Work to Change Our Biology & Psychology.m4a') metadata={}\n",
      "data=None mimetype='audio/mp4' encoding='utf-8' path=PosixPath('docs/youtube/How to Optimize Your Water Quality & Intake for Health ｜ Huberman Lab Podcast.m4a') metadata={}\n",
      "data=None mimetype='audio/mp4' encoding='utf-8' path=PosixPath('docs/youtube/Goals Toolkit： How to Set & Achieve Your Goals ｜ Huberman Lab Podcast.m4a') metadata={}\n"
     ]
    }
   ],
   "source": [
    "from langchain.document_loaders.blob_loaders.youtube_audio import YoutubeAudioLoader\n",
    "\n",
    "urls = [\n",
    "    \"https://www.youtube.com/watch?v=at37Y8rKDlA\"\n",
    "]\n",
    "\n",
    "save_dir = \"docs/youtube/\"\n",
    "\n",
    "\n",
    "loader = YoutubeAudioLoader([urls], save_dir)\n",
    "blob = loader.yield_blobs()\n",
    "\n",
    "for bl in blob:\n",
    "    print(bl)\n"
   ]
  },
  {
   "cell_type": "code",
   "execution_count": 8,
   "metadata": {},
   "outputs": [
    {
     "name": "stdout",
     "output_type": "stream",
     "text": [
      "[youtube] Extracting URL: https://www.youtube.com/watch?v=x4m_PdFbu-s\n",
      "[youtube] x4m_PdFbu-s: Downloading webpage\n",
      "[youtube] x4m_PdFbu-s: Downloading ios player API JSON\n",
      "[youtube] x4m_PdFbu-s: Downloading android player API JSON\n",
      "[youtube] x4m_PdFbu-s: Downloading m3u8 information\n",
      "[info] x4m_PdFbu-s: Downloading 1 format(s): 140\n",
      "[download] Destination: docs/youtube//How to Breathe Correctly for Optimal Health, Mood, Learning & Performance ｜ Huberman Lab Podcast.m4a\n",
      "[download] 100% of  128.56MiB in 00:01:27 at 1.46MiB/s      \n",
      "[FixupM4a] Correcting container of \"docs/youtube//How to Breathe Correctly for Optimal Health, Mood, Learning & Performance ｜ Huberman Lab Podcast.m4a\"\n",
      "[ExtractAudio] Not converting audio docs/youtube//How to Breathe Correctly for Optimal Health, Mood, Learning & Performance ｜ Huberman Lab Podcast.m4a; file is already in target format m4a\n",
      "data=None mimetype='audio/mp4' encoding='utf-8' path=PosixPath('docs/youtube/Improve Flexibility with Research-Supported Stretching Protocols ｜ Huberman Lab Podcast #76.m4a') metadata={}\n",
      "data=None mimetype='audio/mp4' encoding='utf-8' path=PosixPath('docs/youtube/Leverage Dopamine to Overcome Procrastination & Optimize Effort ｜ Huberman Lab Podcast.m4a') metadata={}\n",
      "data=None mimetype='audio/mp4' encoding='utf-8' path=PosixPath('docs/youtube/How to Use Music to Boost Motivation, Mood & Improve Learning ｜ Huberman Lab Podcast.m4a') metadata={}\n",
      "data=None mimetype='audio/mp4' encoding='utf-8' path=PosixPath('docs/youtube/The Science of Healthy Hair, Hair Loss and How to Regrow Hair ｜ Huberman Lab Podcast.m4a') metadata={}\n",
      "data=None mimetype='audio/mp4' encoding='utf-8' path=PosixPath('docs/youtube/How to Increase Your Willpower & Tenacity ｜ Huberman Lab Podcast.m4a') metadata={}\n",
      "data=None mimetype='audio/mp4' encoding='utf-8' path=PosixPath('docs/youtube/What Alcohol Does to Your Body, Brain & Health ｜ Huberman Lab Podcast #86.m4a') metadata={}\n",
      "data=None mimetype='audio/mp4' encoding='utf-8' path=PosixPath('docs/youtube/Using Caffeine to Optimize Mental & Physical Performance ｜ Huberman Lab Podcast 101.m4a') metadata={}\n",
      "data=None mimetype='audio/mp4' encoding='utf-8' path=PosixPath('docs/youtube/Adderall, Stimulants & Modafinil for ADHD： Short- & Long-Term Effects ｜ Huberman Lab Podcast.m4a') metadata={}\n",
      "data=None mimetype='audio/mp4' encoding='utf-8' path=PosixPath('docs/youtube/Science-Supported Tools to Accelerate Your Fitness Goals.m4a') metadata={}\n",
      "data=None mimetype='audio/mp4' encoding='utf-8' path=PosixPath('docs/youtube/Understanding & Controlling Aggression ｜ Huberman Lab Podcast #71.m4a') metadata={}\n",
      "data=None mimetype='audio/mp4' encoding='utf-8' path=PosixPath('docs/youtube/How Psilocybin Can Rewire Our Brain, Its Therapeutic Benefits & Its Risks ｜ Huberman Lab Podcast.m4a') metadata={}\n",
      "data=None mimetype='audio/mp4' encoding='utf-8' path=PosixPath('docs/youtube/How to Breathe Correctly for Optimal Health, Mood, Learning & Performance ｜ Huberman Lab Podcast.m4a') metadata={}\n",
      "data=None mimetype='audio/mp4' encoding='utf-8' path=PosixPath('docs/youtube/Science-Based Mental Training & Visualization for Improved Learning ｜ Huberman Lab Podcast.m4a') metadata={}\n",
      "data=None mimetype='audio/mp4' encoding='utf-8' path=PosixPath('docs/youtube/How Placebo Effects Work to Change Our Biology & Psychology.m4a') metadata={}\n",
      "data=None mimetype='audio/mp4' encoding='utf-8' path=PosixPath('docs/youtube/How to Optimize Your Water Quality & Intake for Health ｜ Huberman Lab Podcast.m4a') metadata={}\n",
      "data=None mimetype='audio/mp4' encoding='utf-8' path=PosixPath('docs/youtube/Goals Toolkit： How to Set & Achieve Your Goals ｜ Huberman Lab Podcast.m4a') metadata={}\n"
     ]
    }
   ],
   "source": [
    "from langchain.document_loaders.blob_loaders.youtube_audio import YoutubeAudioLoader\n",
    "\n",
    "urls = [\n",
    "    \"https://www.youtube.com/watch?v=x4m_PdFbu-s\"\n",
    "]\n",
    "\n",
    "save_dir = \"docs/youtube/\"\n",
    "\n",
    "\n",
    "loader = YoutubeAudioLoader([urls], save_dir)\n",
    "blob = loader.yield_blobs()\n",
    "\n",
    "for bl in blob:\n",
    "    print(bl)\n"
   ]
  },
  {
   "cell_type": "code",
   "execution_count": 9,
   "metadata": {},
   "outputs": [
    {
     "name": "stdout",
     "output_type": "stream",
     "text": [
      "[youtube] Extracting URL: https://www.youtube.com/watch?v=CGjdgy0cwGk\n",
      "[youtube] CGjdgy0cwGk: Downloading webpage\n",
      "[youtube] CGjdgy0cwGk: Downloading ios player API JSON\n",
      "[youtube] CGjdgy0cwGk: Downloading android player API JSON\n",
      "[youtube] CGjdgy0cwGk: Downloading m3u8 information\n",
      "[info] CGjdgy0cwGk: Downloading 1 format(s): 140\n",
      "[download] Destination: docs/youtube//How to Stop Headaches Using Science-Based Approaches ｜ Huberman Lab Podcast.m4a\n",
      "[download] 100% of  135.88MiB in 00:01:26 at 1.58MiB/s     \n",
      "[FixupM4a] Correcting container of \"docs/youtube//How to Stop Headaches Using Science-Based Approaches ｜ Huberman Lab Podcast.m4a\"\n",
      "[ExtractAudio] Not converting audio docs/youtube//How to Stop Headaches Using Science-Based Approaches ｜ Huberman Lab Podcast.m4a; file is already in target format m4a\n",
      "data=None mimetype='audio/mp4' encoding='utf-8' path=PosixPath('docs/youtube/Improve Flexibility with Research-Supported Stretching Protocols ｜ Huberman Lab Podcast #76.m4a') metadata={}\n",
      "data=None mimetype='audio/mp4' encoding='utf-8' path=PosixPath('docs/youtube/Leverage Dopamine to Overcome Procrastination & Optimize Effort ｜ Huberman Lab Podcast.m4a') metadata={}\n",
      "data=None mimetype='audio/mp4' encoding='utf-8' path=PosixPath('docs/youtube/How to Use Music to Boost Motivation, Mood & Improve Learning ｜ Huberman Lab Podcast.m4a') metadata={}\n",
      "data=None mimetype='audio/mp4' encoding='utf-8' path=PosixPath('docs/youtube/The Science of Healthy Hair, Hair Loss and How to Regrow Hair ｜ Huberman Lab Podcast.m4a') metadata={}\n",
      "data=None mimetype='audio/mp4' encoding='utf-8' path=PosixPath('docs/youtube/How to Increase Your Willpower & Tenacity ｜ Huberman Lab Podcast.m4a') metadata={}\n",
      "data=None mimetype='audio/mp4' encoding='utf-8' path=PosixPath('docs/youtube/What Alcohol Does to Your Body, Brain & Health ｜ Huberman Lab Podcast #86.m4a') metadata={}\n",
      "data=None mimetype='audio/mp4' encoding='utf-8' path=PosixPath('docs/youtube/Using Caffeine to Optimize Mental & Physical Performance ｜ Huberman Lab Podcast 101.m4a') metadata={}\n",
      "data=None mimetype='audio/mp4' encoding='utf-8' path=PosixPath('docs/youtube/Adderall, Stimulants & Modafinil for ADHD： Short- & Long-Term Effects ｜ Huberman Lab Podcast.m4a') metadata={}\n",
      "data=None mimetype='audio/mp4' encoding='utf-8' path=PosixPath('docs/youtube/Science-Supported Tools to Accelerate Your Fitness Goals.m4a') metadata={}\n",
      "data=None mimetype='audio/mp4' encoding='utf-8' path=PosixPath('docs/youtube/Understanding & Controlling Aggression ｜ Huberman Lab Podcast #71.m4a') metadata={}\n",
      "data=None mimetype='audio/mp4' encoding='utf-8' path=PosixPath('docs/youtube/How to Stop Headaches Using Science-Based Approaches ｜ Huberman Lab Podcast.m4a') metadata={}\n",
      "data=None mimetype='audio/mp4' encoding='utf-8' path=PosixPath('docs/youtube/How Psilocybin Can Rewire Our Brain, Its Therapeutic Benefits & Its Risks ｜ Huberman Lab Podcast.m4a') metadata={}\n",
      "data=None mimetype='audio/mp4' encoding='utf-8' path=PosixPath('docs/youtube/How to Breathe Correctly for Optimal Health, Mood, Learning & Performance ｜ Huberman Lab Podcast.m4a') metadata={}\n",
      "data=None mimetype='audio/mp4' encoding='utf-8' path=PosixPath('docs/youtube/Science-Based Mental Training & Visualization for Improved Learning ｜ Huberman Lab Podcast.m4a') metadata={}\n",
      "data=None mimetype='audio/mp4' encoding='utf-8' path=PosixPath('docs/youtube/How Placebo Effects Work to Change Our Biology & Psychology.m4a') metadata={}\n",
      "data=None mimetype='audio/mp4' encoding='utf-8' path=PosixPath('docs/youtube/How to Optimize Your Water Quality & Intake for Health ｜ Huberman Lab Podcast.m4a') metadata={}\n",
      "data=None mimetype='audio/mp4' encoding='utf-8' path=PosixPath('docs/youtube/Goals Toolkit： How to Set & Achieve Your Goals ｜ Huberman Lab Podcast.m4a') metadata={}\n"
     ]
    }
   ],
   "source": [
    "from langchain.document_loaders.blob_loaders.youtube_audio import YoutubeAudioLoader\n",
    "\n",
    "urls = [\n",
    "    \"https://www.youtube.com/watch?v=CGjdgy0cwGk\"\n",
    "]\n",
    "\n",
    "save_dir = \"docs/youtube/\"\n",
    "\n",
    "\n",
    "loader = YoutubeAudioLoader([urls], save_dir)\n",
    "blob = loader.yield_blobs()\n",
    "\n",
    "for bl in blob:\n",
    "    print(bl)"
   ]
  },
  {
   "cell_type": "code",
   "execution_count": 1,
   "metadata": {},
   "outputs": [
    {
     "name": "stdout",
     "output_type": "stream",
     "text": [
      "[youtube] Extracting URL: https://www.youtube.com/watch?v=O1YRwWmue4Y\n",
      "[youtube] O1YRwWmue4Y: Downloading webpage\n",
      "[youtube] O1YRwWmue4Y: Downloading ios player API JSON\n",
      "[youtube] O1YRwWmue4Y: Downloading android player API JSON\n",
      "[youtube] O1YRwWmue4Y: Downloading m3u8 information\n",
      "[info] O1YRwWmue4Y: Downloading 1 format(s): 140\n",
      "[download] Destination: docs/youtube//How to Optimize Fertility in Males & Females ｜ Huberman Lab Podcast.m4a\n",
      "[download] 100% of  242.85MiB in 00:01:41 at 2.39MiB/s      \n",
      "[FixupM4a] Correcting container of \"docs/youtube//How to Optimize Fertility in Males & Females ｜ Huberman Lab Podcast.m4a\"\n",
      "[ExtractAudio] Not converting audio docs/youtube//How to Optimize Fertility in Males & Females ｜ Huberman Lab Podcast.m4a; file is already in target format m4a\n",
      "data=None mimetype='audio/mp4' encoding='utf-8' path=PosixPath('docs/youtube/Improve Flexibility with Research-Supported Stretching Protocols ｜ Huberman Lab Podcast #76.m4a') metadata={}\n",
      "data=None mimetype='audio/mp4' encoding='utf-8' path=PosixPath('docs/youtube/Leverage Dopamine to Overcome Procrastination & Optimize Effort ｜ Huberman Lab Podcast.m4a') metadata={}\n",
      "data=None mimetype='audio/mp4' encoding='utf-8' path=PosixPath('docs/youtube/How to Use Music to Boost Motivation, Mood & Improve Learning ｜ Huberman Lab Podcast.m4a') metadata={}\n",
      "data=None mimetype='audio/mp4' encoding='utf-8' path=PosixPath('docs/youtube/The Science of Healthy Hair, Hair Loss and How to Regrow Hair ｜ Huberman Lab Podcast.m4a') metadata={}\n",
      "data=None mimetype='audio/mp4' encoding='utf-8' path=PosixPath('docs/youtube/How to Increase Your Willpower & Tenacity ｜ Huberman Lab Podcast.m4a') metadata={}\n",
      "data=None mimetype='audio/mp4' encoding='utf-8' path=PosixPath('docs/youtube/What Alcohol Does to Your Body, Brain & Health ｜ Huberman Lab Podcast #86.m4a') metadata={}\n",
      "data=None mimetype='audio/mp4' encoding='utf-8' path=PosixPath('docs/youtube/Using Caffeine to Optimize Mental & Physical Performance ｜ Huberman Lab Podcast 101.m4a') metadata={}\n",
      "data=None mimetype='audio/mp4' encoding='utf-8' path=PosixPath('docs/youtube/Adderall, Stimulants & Modafinil for ADHD： Short- & Long-Term Effects ｜ Huberman Lab Podcast.m4a') metadata={}\n",
      "data=None mimetype='audio/mp4' encoding='utf-8' path=PosixPath('docs/youtube/Science-Supported Tools to Accelerate Your Fitness Goals.m4a') metadata={}\n",
      "data=None mimetype='audio/mp4' encoding='utf-8' path=PosixPath('docs/youtube/Understanding & Controlling Aggression ｜ Huberman Lab Podcast #71.m4a') metadata={}\n",
      "data=None mimetype='audio/mp4' encoding='utf-8' path=PosixPath('docs/youtube/How to Optimize Fertility in Males & Females ｜ Huberman Lab Podcast.m4a') metadata={}\n",
      "data=None mimetype='audio/mp4' encoding='utf-8' path=PosixPath('docs/youtube/How to Stop Headaches Using Science-Based Approaches ｜ Huberman Lab Podcast.m4a') metadata={}\n",
      "data=None mimetype='audio/mp4' encoding='utf-8' path=PosixPath('docs/youtube/How Psilocybin Can Rewire Our Brain, Its Therapeutic Benefits & Its Risks ｜ Huberman Lab Podcast.m4a') metadata={}\n",
      "data=None mimetype='audio/mp4' encoding='utf-8' path=PosixPath('docs/youtube/How to Breathe Correctly for Optimal Health, Mood, Learning & Performance ｜ Huberman Lab Podcast.m4a') metadata={}\n",
      "data=None mimetype='audio/mp4' encoding='utf-8' path=PosixPath('docs/youtube/Science-Based Mental Training & Visualization for Improved Learning ｜ Huberman Lab Podcast.m4a') metadata={}\n",
      "data=None mimetype='audio/mp4' encoding='utf-8' path=PosixPath('docs/youtube/How Placebo Effects Work to Change Our Biology & Psychology.m4a') metadata={}\n",
      "data=None mimetype='audio/mp4' encoding='utf-8' path=PosixPath('docs/youtube/How to Optimize Your Water Quality & Intake for Health ｜ Huberman Lab Podcast.m4a') metadata={}\n",
      "data=None mimetype='audio/mp4' encoding='utf-8' path=PosixPath('docs/youtube/Goals Toolkit： How to Set & Achieve Your Goals ｜ Huberman Lab Podcast.m4a') metadata={}\n"
     ]
    }
   ],
   "source": [
    "from langchain.document_loaders.blob_loaders.youtube_audio import YoutubeAudioLoader\n",
    "\n",
    "urls = [\n",
    "    \"https://www.youtube.com/watch?v=O1YRwWmue4Y\"\n",
    "]\n",
    "\n",
    "save_dir = \"docs/youtube/\"\n",
    "\n",
    "\n",
    "loader = YoutubeAudioLoader([urls], save_dir)\n",
    "blob = loader.yield_blobs()\n",
    "\n",
    "for bl in blob:\n",
    "    print(bl)"
   ]
  },
  {
   "cell_type": "code",
   "execution_count": 2,
   "metadata": {},
   "outputs": [
    {
     "name": "stdout",
     "output_type": "stream",
     "text": [
      "[youtube] Extracting URL: https://www.youtube.com/watch?v=aQDOU3hPci0\n",
      "[youtube] aQDOU3hPci0: Downloading webpage\n",
      "[youtube] aQDOU3hPci0: Downloading ios player API JSON\n",
      "[youtube] aQDOU3hPci0: Downloading android player API JSON\n",
      "[youtube] aQDOU3hPci0: Downloading m3u8 information\n",
      "[info] aQDOU3hPci0: Downloading 1 format(s): 140\n",
      "[download] Destination: docs/youtube//How to Enhance Performance & Learning by Applying a Growth Mindset.m4a\n",
      "[download] 100% of   93.90MiB in 00:00:37 at 2.48MiB/s     \n",
      "[FixupM4a] Correcting container of \"docs/youtube//How to Enhance Performance & Learning by Applying a Growth Mindset.m4a\"\n",
      "[ExtractAudio] Not converting audio docs/youtube//How to Enhance Performance & Learning by Applying a Growth Mindset.m4a; file is already in target format m4a\n",
      "data=None mimetype='audio/mp4' encoding='utf-8' path=PosixPath('docs/youtube/Improve Flexibility with Research-Supported Stretching Protocols ｜ Huberman Lab Podcast #76.m4a') metadata={}\n",
      "data=None mimetype='audio/mp4' encoding='utf-8' path=PosixPath('docs/youtube/Leverage Dopamine to Overcome Procrastination & Optimize Effort ｜ Huberman Lab Podcast.m4a') metadata={}\n",
      "data=None mimetype='audio/mp4' encoding='utf-8' path=PosixPath('docs/youtube/How to Use Music to Boost Motivation, Mood & Improve Learning ｜ Huberman Lab Podcast.m4a') metadata={}\n",
      "data=None mimetype='audio/mp4' encoding='utf-8' path=PosixPath('docs/youtube/The Science of Healthy Hair, Hair Loss and How to Regrow Hair ｜ Huberman Lab Podcast.m4a') metadata={}\n",
      "data=None mimetype='audio/mp4' encoding='utf-8' path=PosixPath('docs/youtube/How to Increase Your Willpower & Tenacity ｜ Huberman Lab Podcast.m4a') metadata={}\n",
      "data=None mimetype='audio/mp4' encoding='utf-8' path=PosixPath('docs/youtube/What Alcohol Does to Your Body, Brain & Health ｜ Huberman Lab Podcast #86.m4a') metadata={}\n",
      "data=None mimetype='audio/mp4' encoding='utf-8' path=PosixPath('docs/youtube/Using Caffeine to Optimize Mental & Physical Performance ｜ Huberman Lab Podcast 101.m4a') metadata={}\n",
      "data=None mimetype='audio/mp4' encoding='utf-8' path=PosixPath('docs/youtube/How to Enhance Performance & Learning by Applying a Growth Mindset.m4a') metadata={}\n",
      "data=None mimetype='audio/mp4' encoding='utf-8' path=PosixPath('docs/youtube/Adderall, Stimulants & Modafinil for ADHD： Short- & Long-Term Effects ｜ Huberman Lab Podcast.m4a') metadata={}\n",
      "data=None mimetype='audio/mp4' encoding='utf-8' path=PosixPath('docs/youtube/Science-Supported Tools to Accelerate Your Fitness Goals.m4a') metadata={}\n",
      "data=None mimetype='audio/mp4' encoding='utf-8' path=PosixPath('docs/youtube/Understanding & Controlling Aggression ｜ Huberman Lab Podcast #71.m4a') metadata={}\n",
      "data=None mimetype='audio/mp4' encoding='utf-8' path=PosixPath('docs/youtube/How to Optimize Fertility in Males & Females ｜ Huberman Lab Podcast.m4a') metadata={}\n",
      "data=None mimetype='audio/mp4' encoding='utf-8' path=PosixPath('docs/youtube/How to Stop Headaches Using Science-Based Approaches ｜ Huberman Lab Podcast.m4a') metadata={}\n",
      "data=None mimetype='audio/mp4' encoding='utf-8' path=PosixPath('docs/youtube/How Psilocybin Can Rewire Our Brain, Its Therapeutic Benefits & Its Risks ｜ Huberman Lab Podcast.m4a') metadata={}\n",
      "data=None mimetype='audio/mp4' encoding='utf-8' path=PosixPath('docs/youtube/How to Breathe Correctly for Optimal Health, Mood, Learning & Performance ｜ Huberman Lab Podcast.m4a') metadata={}\n",
      "data=None mimetype='audio/mp4' encoding='utf-8' path=PosixPath('docs/youtube/Science-Based Mental Training & Visualization for Improved Learning ｜ Huberman Lab Podcast.m4a') metadata={}\n",
      "data=None mimetype='audio/mp4' encoding='utf-8' path=PosixPath('docs/youtube/How Placebo Effects Work to Change Our Biology & Psychology.m4a') metadata={}\n",
      "data=None mimetype='audio/mp4' encoding='utf-8' path=PosixPath('docs/youtube/How to Optimize Your Water Quality & Intake for Health ｜ Huberman Lab Podcast.m4a') metadata={}\n",
      "data=None mimetype='audio/mp4' encoding='utf-8' path=PosixPath('docs/youtube/Goals Toolkit： How to Set & Achieve Your Goals ｜ Huberman Lab Podcast.m4a') metadata={}\n"
     ]
    }
   ],
   "source": [
    "from langchain.document_loaders.blob_loaders.youtube_audio import YoutubeAudioLoader\n",
    "\n",
    "urls = [\n",
    "    \"https://www.youtube.com/watch?v=aQDOU3hPci0\"\n",
    "]\n",
    "\n",
    "save_dir = \"docs/youtube/\"\n",
    "\n",
    "\n",
    "loader = YoutubeAudioLoader([urls], save_dir)\n",
    "blob = loader.yield_blobs()\n",
    "\n",
    "for bl in blob:\n",
    "    print(bl)"
   ]
  },
  {
   "cell_type": "code",
   "execution_count": 3,
   "metadata": {},
   "outputs": [
    {
     "name": "stdout",
     "output_type": "stream",
     "text": [
      "[youtube] Extracting URL: https://www.youtube.com/watch?v=AtChcxeaukQ\n",
      "[youtube] AtChcxeaukQ: Downloading webpage\n",
      "[youtube] AtChcxeaukQ: Downloading ios player API JSON\n",
      "[youtube] AtChcxeaukQ: Downloading android player API JSON\n",
      "[youtube] AtChcxeaukQ: Downloading m3u8 information\n",
      "[info] AtChcxeaukQ: Downloading 1 format(s): 140\n",
      "[download] Destination: docs/youtube//How to Prevent & Treat Colds & Flu.m4a\n",
      "[download] 100% of  116.51MiB in 00:00:46 at 2.51MiB/s     \n",
      "[FixupM4a] Correcting container of \"docs/youtube//How to Prevent & Treat Colds & Flu.m4a\"\n",
      "[ExtractAudio] Not converting audio docs/youtube//How to Prevent & Treat Colds & Flu.m4a; file is already in target format m4a\n",
      "data=None mimetype='audio/mp4' encoding='utf-8' path=PosixPath('docs/youtube/Improve Flexibility with Research-Supported Stretching Protocols ｜ Huberman Lab Podcast #76.m4a') metadata={}\n",
      "data=None mimetype='audio/mp4' encoding='utf-8' path=PosixPath('docs/youtube/Leverage Dopamine to Overcome Procrastination & Optimize Effort ｜ Huberman Lab Podcast.m4a') metadata={}\n",
      "data=None mimetype='audio/mp4' encoding='utf-8' path=PosixPath('docs/youtube/How to Use Music to Boost Motivation, Mood & Improve Learning ｜ Huberman Lab Podcast.m4a') metadata={}\n",
      "data=None mimetype='audio/mp4' encoding='utf-8' path=PosixPath('docs/youtube/The Science of Healthy Hair, Hair Loss and How to Regrow Hair ｜ Huberman Lab Podcast.m4a') metadata={}\n",
      "data=None mimetype='audio/mp4' encoding='utf-8' path=PosixPath('docs/youtube/How to Increase Your Willpower & Tenacity ｜ Huberman Lab Podcast.m4a') metadata={}\n",
      "data=None mimetype='audio/mp4' encoding='utf-8' path=PosixPath('docs/youtube/What Alcohol Does to Your Body, Brain & Health ｜ Huberman Lab Podcast #86.m4a') metadata={}\n",
      "data=None mimetype='audio/mp4' encoding='utf-8' path=PosixPath('docs/youtube/Using Caffeine to Optimize Mental & Physical Performance ｜ Huberman Lab Podcast 101.m4a') metadata={}\n",
      "data=None mimetype='audio/mp4' encoding='utf-8' path=PosixPath('docs/youtube/How to Enhance Performance & Learning by Applying a Growth Mindset.m4a') metadata={}\n",
      "data=None mimetype='audio/mp4' encoding='utf-8' path=PosixPath('docs/youtube/Adderall, Stimulants & Modafinil for ADHD： Short- & Long-Term Effects ｜ Huberman Lab Podcast.m4a') metadata={}\n",
      "data=None mimetype='audio/mp4' encoding='utf-8' path=PosixPath('docs/youtube/Science-Supported Tools to Accelerate Your Fitness Goals.m4a') metadata={}\n",
      "data=None mimetype='audio/mp4' encoding='utf-8' path=PosixPath('docs/youtube/Understanding & Controlling Aggression ｜ Huberman Lab Podcast #71.m4a') metadata={}\n",
      "data=None mimetype='audio/mp4' encoding='utf-8' path=PosixPath('docs/youtube/How to Optimize Fertility in Males & Females ｜ Huberman Lab Podcast.m4a') metadata={}\n",
      "data=None mimetype='audio/mp4' encoding='utf-8' path=PosixPath('docs/youtube/How to Prevent & Treat Colds & Flu.m4a') metadata={}\n",
      "data=None mimetype='audio/mp4' encoding='utf-8' path=PosixPath('docs/youtube/How to Stop Headaches Using Science-Based Approaches ｜ Huberman Lab Podcast.m4a') metadata={}\n",
      "data=None mimetype='audio/mp4' encoding='utf-8' path=PosixPath('docs/youtube/How Psilocybin Can Rewire Our Brain, Its Therapeutic Benefits & Its Risks ｜ Huberman Lab Podcast.m4a') metadata={}\n",
      "data=None mimetype='audio/mp4' encoding='utf-8' path=PosixPath('docs/youtube/How to Breathe Correctly for Optimal Health, Mood, Learning & Performance ｜ Huberman Lab Podcast.m4a') metadata={}\n",
      "data=None mimetype='audio/mp4' encoding='utf-8' path=PosixPath('docs/youtube/Science-Based Mental Training & Visualization for Improved Learning ｜ Huberman Lab Podcast.m4a') metadata={}\n",
      "data=None mimetype='audio/mp4' encoding='utf-8' path=PosixPath('docs/youtube/How Placebo Effects Work to Change Our Biology & Psychology.m4a') metadata={}\n",
      "data=None mimetype='audio/mp4' encoding='utf-8' path=PosixPath('docs/youtube/How to Optimize Your Water Quality & Intake for Health ｜ Huberman Lab Podcast.m4a') metadata={}\n",
      "data=None mimetype='audio/mp4' encoding='utf-8' path=PosixPath('docs/youtube/Goals Toolkit： How to Set & Achieve Your Goals ｜ Huberman Lab Podcast.m4a') metadata={}\n"
     ]
    }
   ],
   "source": [
    "from langchain.document_loaders.blob_loaders.youtube_audio import YoutubeAudioLoader\n",
    "\n",
    "urls = [\n",
    "    \"https://www.youtube.com/watch?v=AtChcxeaukQ\"\n",
    "]\n",
    "\n",
    "save_dir = \"docs/youtube/\"\n",
    "\n",
    "\n",
    "loader = YoutubeAudioLoader([urls], save_dir)\n",
    "blob = loader.yield_blobs()\n",
    "\n",
    "for bl in blob:\n",
    "    print(bl)"
   ]
  }
 ],
 "metadata": {
  "kernelspec": {
   "display_name": "huberman-rag-fdQcU6Ve-py3.11",
   "language": "python",
   "name": "python3"
  },
  "language_info": {
   "codemirror_mode": {
    "name": "ipython",
    "version": 3
   },
   "file_extension": ".py",
   "mimetype": "text/x-python",
   "name": "python",
   "nbconvert_exporter": "python",
   "pygments_lexer": "ipython3",
   "version": "3.11.5"
  }
 },
 "nbformat": 4,
 "nbformat_minor": 2
}
