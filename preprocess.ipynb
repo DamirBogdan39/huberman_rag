{
 "cells": [
  {
   "cell_type": "code",
   "execution_count": 1,
   "metadata": {},
   "outputs": [
    {
     "name": "stderr",
     "output_type": "stream",
     "text": [
      "/Users/damir_bogdan/Library/Caches/pypoetry/virtualenvs/huberman-rag-09zSrCFX-py3.11/lib/python3.11/site-packages/tqdm/auto.py:21: TqdmWarning: IProgress not found. Please update jupyter and ipywidgets. See https://ipywidgets.readthedocs.io/en/stable/user_install.html\n",
      "  from .autonotebook import tqdm as notebook_tqdm\n",
      "Fetching 30 files: 100%|██████████| 30/30 [00:00<00:00, 165782.77it/s]\n"
     ]
    }
   ],
   "source": [
    "from tqdm import tqdm\n",
    "import re \n",
    "\n",
    "from langchain_text_splitters import RecursiveCharacterTextSplitter\n",
    "from langchain.document_loaders import DirectoryLoader\n",
    "\n",
    "from src.utils import reformat_text, get_document_from_pkl\n",
    "from src.vectorstore import create_collection, activate_collection"
   ]
  },
  {
   "cell_type": "code",
   "execution_count": 2,
   "metadata": {},
   "outputs": [
    {
     "name": "stderr",
     "output_type": "stream",
     "text": [
      "\u001b[93m[WARNING] PyMilvus: \u001b[0m\n"
     ]
    },
    {
     "name": "stdout",
     "output_type": "stream",
     "text": [
      "Collection already exists.\n"
     ]
    }
   ],
   "source": [
    "create_collection()\n",
    "collection = activate_collection()"
   ]
  },
  {
   "cell_type": "code",
   "execution_count": 3,
   "metadata": {},
   "outputs": [
    {
     "name": "stderr",
     "output_type": "stream",
     "text": [
      "  0%|          | 0/1 [00:00<?, ?it/s]"
     ]
    }
   ],
   "source": [
    "loader = DirectoryLoader(\"docs/youtube_test/\", glob=\"*.txt\", show_progress=True)\n",
    "docs = loader.load()\n",
    "\n",
    "for i, doc in enumerate(docs):\n",
    "    doc.page_content = reformat_text(doc.page_content)\n",
    "\n",
    "text_splitter = RecursiveCharacterTextSplitter(\n",
    "    chunk_size=2000,\n",
    "    chunk_overlap=100,\n",
    "    length_function=len,\n",
    ")\n",
    "\n",
    "splitted_docs = text_splitter.split_documents(docs)"
   ]
  },
  {
   "cell_type": "code",
   "execution_count": 3,
   "metadata": {},
   "outputs": [],
   "source": [
    "documents = get_document_from_pkl(\"docs/document.pkl\")"
   ]
  },
  {
   "cell_type": "code",
   "execution_count": 4,
   "metadata": {},
   "outputs": [],
   "source": [
    "for i, doc in enumerate(documents):\n",
    "    doc.page_content = reformat_text(doc.page_content)\n",
    "\n",
    "text_splitter = RecursiveCharacterTextSplitter(\n",
    "    chunk_size=2000,\n",
    "    chunk_overlap=100,\n",
    "    length_function=len,\n",
    ")\n",
    "\n",
    "splitted_docs = text_splitter.split_documents(documents)"
   ]
  },
  {
   "cell_type": "code",
   "execution_count": null,
   "metadata": {},
   "outputs": [],
   "source": [
    "# from src.bgem3_embeddings import embed_bgem3\n",
    "# for doc in tqdm(splitted_docs, desc=\"Processing and importing docs\"):\n",
    "#     doc = doc.page_content\n",
    "#     sparse_embeddings, dense_embeddings = embed_bgem3(doc)\n",
    "#     entity = [[doc], sparse_embeddings, dense_embeddings]\n",
    "#     collection.insert(entity)\n",
    "#     collection.flush()\n"
   ]
  },
  {
   "cell_type": "code",
   "execution_count": null,
   "metadata": {},
   "outputs": [],
   "source": [
    "from src.bge_embeddigns import embed_bge\n",
    "from src.splade_embeddings import embed_splade\n",
    "for doc in tqdm(splitted_docs, desc=\"Processing and importing docs\"):\n",
    "    doc = doc.page_content\n",
    "    dense_embeddings = embed_bge(doc)\n",
    "    sparse_embeddings = embed_splade(doc)\n",
    "    entity = [[doc], sparse_embeddings, [dense_embeddings]]\n",
    "    collection.insert(entity)\n",
    "    collection.flush()"
   ]
  }
 ],
 "metadata": {
  "kernelspec": {
   "display_name": "huberman-rag-fdQcU6Ve-py3.11",
   "language": "python",
   "name": "python3"
  },
  "language_info": {
   "codemirror_mode": {
    "name": "ipython",
    "version": 3
   },
   "file_extension": ".py",
   "mimetype": "text/x-python",
   "name": "python",
   "nbconvert_exporter": "python",
   "pygments_lexer": "ipython3",
   "version": "3.11.7"
  }
 },
 "nbformat": 4,
 "nbformat_minor": 2
}
